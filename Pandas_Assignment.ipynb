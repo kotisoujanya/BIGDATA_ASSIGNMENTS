{
 "cells": [
  {
   "cell_type": "markdown",
   "id": "30a9b580",
   "metadata": {},
   "source": [
    "# Q1. How do you load a CSV file into a Pandas DataFrame?\n"
   ]
  },
  {
   "cell_type": "raw",
   "id": "98b9b13a",
   "metadata": {},
   "source": [
    "To load a CSV file into a Pandas DataFrame, you can use the read_csv() function provided by the Pandas library"
   ]
  },
  {
   "cell_type": "code",
   "execution_count": 24,
   "id": "0400d9bc",
   "metadata": {},
   "outputs": [
    {
     "data": {
      "text/html": [
       "<div>\n",
       "<style scoped>\n",
       "    .dataframe tbody tr th:only-of-type {\n",
       "        vertical-align: middle;\n",
       "    }\n",
       "\n",
       "    .dataframe tbody tr th {\n",
       "        vertical-align: top;\n",
       "    }\n",
       "\n",
       "    .dataframe thead th {\n",
       "        text-align: right;\n",
       "    }\n",
       "</style>\n",
       "<table border=\"1\" class=\"dataframe\">\n",
       "  <thead>\n",
       "    <tr style=\"text-align: right;\">\n",
       "      <th></th>\n",
       "      <th>mpg</th>\n",
       "      <th>cyl</th>\n",
       "      <th>disp</th>\n",
       "      <th>hp</th>\n",
       "      <th>wt</th>\n",
       "      <th>acc</th>\n",
       "      <th>yr</th>\n",
       "      <th>origin</th>\n",
       "      <th>car_type</th>\n",
       "      <th>car_name</th>\n",
       "    </tr>\n",
       "  </thead>\n",
       "  <tbody>\n",
       "    <tr>\n",
       "      <th>0</th>\n",
       "      <td>18.0</td>\n",
       "      <td>8</td>\n",
       "      <td>307.0</td>\n",
       "      <td>130</td>\n",
       "      <td>3504</td>\n",
       "      <td>12.0</td>\n",
       "      <td>70</td>\n",
       "      <td>1</td>\n",
       "      <td>0</td>\n",
       "      <td>chevrolet chevelle malibu</td>\n",
       "    </tr>\n",
       "    <tr>\n",
       "      <th>1</th>\n",
       "      <td>15.0</td>\n",
       "      <td>8</td>\n",
       "      <td>350.0</td>\n",
       "      <td>165</td>\n",
       "      <td>3693</td>\n",
       "      <td>11.5</td>\n",
       "      <td>70</td>\n",
       "      <td>1</td>\n",
       "      <td>0</td>\n",
       "      <td>buick skylark 320</td>\n",
       "    </tr>\n",
       "    <tr>\n",
       "      <th>2</th>\n",
       "      <td>18.0</td>\n",
       "      <td>8</td>\n",
       "      <td>318.0</td>\n",
       "      <td>150</td>\n",
       "      <td>3436</td>\n",
       "      <td>11.0</td>\n",
       "      <td>70</td>\n",
       "      <td>1</td>\n",
       "      <td>0</td>\n",
       "      <td>plymouth satellite</td>\n",
       "    </tr>\n",
       "    <tr>\n",
       "      <th>3</th>\n",
       "      <td>16.0</td>\n",
       "      <td>8</td>\n",
       "      <td>304.0</td>\n",
       "      <td>150</td>\n",
       "      <td>3433</td>\n",
       "      <td>12.0</td>\n",
       "      <td>70</td>\n",
       "      <td>1</td>\n",
       "      <td>0</td>\n",
       "      <td>amc rebel sst</td>\n",
       "    </tr>\n",
       "    <tr>\n",
       "      <th>4</th>\n",
       "      <td>17.0</td>\n",
       "      <td>8</td>\n",
       "      <td>302.0</td>\n",
       "      <td>140</td>\n",
       "      <td>3449</td>\n",
       "      <td>10.5</td>\n",
       "      <td>70</td>\n",
       "      <td>1</td>\n",
       "      <td>0</td>\n",
       "      <td>ford torino</td>\n",
       "    </tr>\n",
       "  </tbody>\n",
       "</table>\n",
       "</div>"
      ],
      "text/plain": [
       "    mpg  cyl   disp   hp    wt   acc  yr  origin  car_type  \\\n",
       "0  18.0    8  307.0  130  3504  12.0  70       1         0   \n",
       "1  15.0    8  350.0  165  3693  11.5  70       1         0   \n",
       "2  18.0    8  318.0  150  3436  11.0  70       1         0   \n",
       "3  16.0    8  304.0  150  3433  12.0  70       1         0   \n",
       "4  17.0    8  302.0  140  3449  10.5  70       1         0   \n",
       "\n",
       "                    car_name  \n",
       "0  chevrolet chevelle malibu  \n",
       "1          buick skylark 320  \n",
       "2         plymouth satellite  \n",
       "3              amc rebel sst  \n",
       "4                ford torino  "
      ]
     },
     "execution_count": 24,
     "metadata": {},
     "output_type": "execute_result"
    }
   ],
   "source": [
    "import pandas as pd\n",
    "#dataframe=pd.read_csv(\"filename.csv\")\n",
    "df=pd.read_csv(\"car_data.csv\")\n",
    "df.head()"
   ]
  },
  {
   "cell_type": "markdown",
   "id": "72c12185",
   "metadata": {},
   "source": [
    "# Q2. How do you check the data type of a column in a Pandas DataFrame?"
   ]
  },
  {
   "cell_type": "code",
   "execution_count": 24,
   "id": "afd5bef7",
   "metadata": {},
   "outputs": [
    {
     "name": "stdout",
     "output_type": "stream",
     "text": [
      "<class 'pandas.core.frame.DataFrame'>\n",
      "RangeIndex: 398 entries, 0 to 397\n",
      "Data columns (total 10 columns):\n",
      " #   Column    Non-Null Count  Dtype  \n",
      "---  ------    --------------  -----  \n",
      " 0   mpg       398 non-null    float64\n",
      " 1   cyl       398 non-null    int64  \n",
      " 2   disp      398 non-null    float64\n",
      " 3   hp        398 non-null    object \n",
      " 4   wt        398 non-null    int64  \n",
      " 5   acc       398 non-null    float64\n",
      " 6   yr        398 non-null    int64  \n",
      " 7   origin    398 non-null    int64  \n",
      " 8   car_type  398 non-null    int64  \n",
      " 9   car_name  398 non-null    object \n",
      "dtypes: float64(3), int64(5), object(2)\n",
      "memory usage: 31.2+ KB\n"
     ]
    }
   ],
   "source": [
    "df.info()"
   ]
  },
  {
   "cell_type": "raw",
   "id": "b8924376",
   "metadata": {},
   "source": [
    "To check the data type of a column in a Pandas DataFrame, you can use the dtype attribute. For example, if you have a DataFrame called df and you want to check the data type of the column my_column,\n",
    "\n",
    " df['column_name'].dtype for individual column data type checking\n",
    " df.dtypes     for all columns datatype checking"
   ]
  },
  {
   "cell_type": "code",
   "execution_count": 28,
   "id": "bee70b78",
   "metadata": {},
   "outputs": [
    {
     "data": {
      "text/plain": [
       "dtype('int64')"
      ]
     },
     "execution_count": 28,
     "metadata": {},
     "output_type": "execute_result"
    }
   ],
   "source": [
    "df['car_type'].dtype"
   ]
  },
  {
   "cell_type": "code",
   "execution_count": 29,
   "id": "c8ac4132",
   "metadata": {},
   "outputs": [
    {
     "data": {
      "text/plain": [
       "mpg         float64\n",
       "cyl           int64\n",
       "disp        float64\n",
       "hp           object\n",
       "wt            int64\n",
       "acc         float64\n",
       "yr            int64\n",
       "origin        int64\n",
       "car_type      int64\n",
       "car_name     object\n",
       "dtype: object"
      ]
     },
     "execution_count": 29,
     "metadata": {},
     "output_type": "execute_result"
    }
   ],
   "source": [
    "df.dtypes"
   ]
  },
  {
   "cell_type": "markdown",
   "id": "ad3c654f",
   "metadata": {},
   "source": [
    "# Q3. How do you select rows from a Pandas DataFrame based on a condition?"
   ]
  },
  {
   "cell_type": "markdown",
   "id": "78de14e0",
   "metadata": {},
   "source": [
    "To select rows from a Pandas DataFrame based on a condition, you can use boolean indexing. Boolean indexing allows you to select rows from a DataFrame based on a condition that returns either True or False."
   ]
  },
  {
   "cell_type": "code",
   "execution_count": 31,
   "id": "a6831108",
   "metadata": {},
   "outputs": [
    {
     "name": "stdout",
     "output_type": "stream",
     "text": [
      "      name  age\n",
      "1      Bob   32\n",
      "2  Charlie   41\n"
     ]
    }
   ],
   "source": [
    "import pandas as pd\n",
    "\n",
    "# create a sample DataFrame\n",
    "df1 = pd.DataFrame({'name': ['Alice', 'Bob', 'Charlie', 'Dave'],\n",
    "                   'age': [25, 32, 41, 28]})\n",
    "\n",
    "# select rows where age is greater than 30\n",
    "selected_rows = df1[df1['age'] > 30]\n",
    "\n",
    "# print the selected rows\n",
    "print(selected_rows)\n"
   ]
  },
  {
   "cell_type": "markdown",
   "id": "d6301d83",
   "metadata": {},
   "source": [
    "# Q4. How do you rename columns in a Pandas DataFrame?\n"
   ]
  },
  {
   "cell_type": "markdown",
   "id": "d6ecfba9",
   "metadata": {},
   "source": [
    "To rename columns in a Pandas DataFrame, you can use the rename() method."
   ]
  },
  {
   "cell_type": "code",
   "execution_count": 2,
   "id": "571ca570",
   "metadata": {},
   "outputs": [
    {
     "name": "stdout",
     "output_type": "stream",
     "text": [
      "   A  B\n",
      "0  1  4\n",
      "1  2  5\n",
      "2  3  6\n",
      "   New_A  New_B\n",
      "0      1      4\n",
      "1      2      5\n",
      "2      3      6\n"
     ]
    }
   ],
   "source": [
    "import pandas as pd\n",
    "\n",
    "# create a sample DataFrame\n",
    "df2 = pd.DataFrame({'A': [1, 2, 3], 'B': [4, 5, 6]})\n",
    "\n",
    "# print the original DataFrame\n",
    "print(df2)\n",
    "\n",
    "# rename the columns\n",
    "df2 = df2.rename(columns={'A': 'New_A', 'B': 'New_B'})\n",
    "\n",
    "# print the updated DataFrame\n",
    "print(df2)\n"
   ]
  },
  {
   "cell_type": "code",
   "execution_count": 3,
   "id": "8d3ab8b6",
   "metadata": {},
   "outputs": [
    {
     "data": {
      "text/html": [
       "<div>\n",
       "<style scoped>\n",
       "    .dataframe tbody tr th:only-of-type {\n",
       "        vertical-align: middle;\n",
       "    }\n",
       "\n",
       "    .dataframe tbody tr th {\n",
       "        vertical-align: top;\n",
       "    }\n",
       "\n",
       "    .dataframe thead th {\n",
       "        text-align: right;\n",
       "    }\n",
       "</style>\n",
       "<table border=\"1\" class=\"dataframe\">\n",
       "  <thead>\n",
       "    <tr style=\"text-align: right;\">\n",
       "      <th></th>\n",
       "      <th>New_A</th>\n",
       "      <th>New_B</th>\n",
       "    </tr>\n",
       "  </thead>\n",
       "  <tbody>\n",
       "    <tr>\n",
       "      <th>0</th>\n",
       "      <td>1</td>\n",
       "      <td>4</td>\n",
       "    </tr>\n",
       "    <tr>\n",
       "      <th>1</th>\n",
       "      <td>2</td>\n",
       "      <td>5</td>\n",
       "    </tr>\n",
       "    <tr>\n",
       "      <th>2</th>\n",
       "      <td>3</td>\n",
       "      <td>6</td>\n",
       "    </tr>\n",
       "  </tbody>\n",
       "</table>\n",
       "</div>"
      ],
      "text/plain": [
       "   New_A  New_B\n",
       "0      1      4\n",
       "1      2      5\n",
       "2      3      6"
      ]
     },
     "execution_count": 3,
     "metadata": {},
     "output_type": "execute_result"
    }
   ],
   "source": [
    "df2"
   ]
  },
  {
   "cell_type": "code",
   "execution_count": 11,
   "id": "05f11ef8",
   "metadata": {},
   "outputs": [],
   "source": [
    "df2=df2.rename(columns={'New_A':'aaaaaaa'})"
   ]
  },
  {
   "cell_type": "code",
   "execution_count": 15,
   "id": "f37d46db",
   "metadata": {},
   "outputs": [
    {
     "data": {
      "text/html": [
       "<div>\n",
       "<style scoped>\n",
       "    .dataframe tbody tr th:only-of-type {\n",
       "        vertical-align: middle;\n",
       "    }\n",
       "\n",
       "    .dataframe tbody tr th {\n",
       "        vertical-align: top;\n",
       "    }\n",
       "\n",
       "    .dataframe thead th {\n",
       "        text-align: right;\n",
       "    }\n",
       "</style>\n",
       "<table border=\"1\" class=\"dataframe\">\n",
       "  <thead>\n",
       "    <tr style=\"text-align: right;\">\n",
       "      <th></th>\n",
       "      <th>aaaaaaa</th>\n",
       "      <th>New_B</th>\n",
       "      <th>New_A</th>\n",
       "    </tr>\n",
       "  </thead>\n",
       "  <tbody>\n",
       "    <tr>\n",
       "      <th>0</th>\n",
       "      <td>1</td>\n",
       "      <td>4</td>\n",
       "      <td>1</td>\n",
       "    </tr>\n",
       "    <tr>\n",
       "      <th>1</th>\n",
       "      <td>2</td>\n",
       "      <td>5</td>\n",
       "      <td>2</td>\n",
       "    </tr>\n",
       "    <tr>\n",
       "      <th>2</th>\n",
       "      <td>3</td>\n",
       "      <td>6</td>\n",
       "      <td>3</td>\n",
       "    </tr>\n",
       "  </tbody>\n",
       "</table>\n",
       "</div>"
      ],
      "text/plain": [
       "   aaaaaaa  New_B  New_A\n",
       "0        1      4      1\n",
       "1        2      5      2\n",
       "2        3      6      3"
      ]
     },
     "execution_count": 15,
     "metadata": {},
     "output_type": "execute_result"
    }
   ],
   "source": [
    "df2"
   ]
  },
  {
   "cell_type": "markdown",
   "id": "ca61c30a",
   "metadata": {},
   "source": [
    "# Q5. How do you drop columns in a Pandas DataFrame?\n"
   ]
  },
  {
   "cell_type": "markdown",
   "id": "15b8d621",
   "metadata": {},
   "source": [
    "To drop columns in a Pandas DataFrame, you can use the drop() method."
   ]
  },
  {
   "cell_type": "code",
   "execution_count": 25,
   "id": "ffcc58bb",
   "metadata": {},
   "outputs": [
    {
     "data": {
      "text/html": [
       "<div>\n",
       "<style scoped>\n",
       "    .dataframe tbody tr th:only-of-type {\n",
       "        vertical-align: middle;\n",
       "    }\n",
       "\n",
       "    .dataframe tbody tr th {\n",
       "        vertical-align: top;\n",
       "    }\n",
       "\n",
       "    .dataframe thead th {\n",
       "        text-align: right;\n",
       "    }\n",
       "</style>\n",
       "<table border=\"1\" class=\"dataframe\">\n",
       "  <thead>\n",
       "    <tr style=\"text-align: right;\">\n",
       "      <th></th>\n",
       "      <th>mpg</th>\n",
       "      <th>cyl</th>\n",
       "      <th>disp</th>\n",
       "      <th>hp</th>\n",
       "      <th>wt</th>\n",
       "      <th>acc</th>\n",
       "      <th>yr</th>\n",
       "      <th>origin</th>\n",
       "      <th>car_type</th>\n",
       "      <th>car_name</th>\n",
       "    </tr>\n",
       "  </thead>\n",
       "  <tbody>\n",
       "    <tr>\n",
       "      <th>0</th>\n",
       "      <td>18.0</td>\n",
       "      <td>8</td>\n",
       "      <td>307.0</td>\n",
       "      <td>130</td>\n",
       "      <td>3504</td>\n",
       "      <td>12.0</td>\n",
       "      <td>70</td>\n",
       "      <td>1</td>\n",
       "      <td>0</td>\n",
       "      <td>chevrolet chevelle malibu</td>\n",
       "    </tr>\n",
       "    <tr>\n",
       "      <th>1</th>\n",
       "      <td>15.0</td>\n",
       "      <td>8</td>\n",
       "      <td>350.0</td>\n",
       "      <td>165</td>\n",
       "      <td>3693</td>\n",
       "      <td>11.5</td>\n",
       "      <td>70</td>\n",
       "      <td>1</td>\n",
       "      <td>0</td>\n",
       "      <td>buick skylark 320</td>\n",
       "    </tr>\n",
       "    <tr>\n",
       "      <th>2</th>\n",
       "      <td>18.0</td>\n",
       "      <td>8</td>\n",
       "      <td>318.0</td>\n",
       "      <td>150</td>\n",
       "      <td>3436</td>\n",
       "      <td>11.0</td>\n",
       "      <td>70</td>\n",
       "      <td>1</td>\n",
       "      <td>0</td>\n",
       "      <td>plymouth satellite</td>\n",
       "    </tr>\n",
       "    <tr>\n",
       "      <th>3</th>\n",
       "      <td>16.0</td>\n",
       "      <td>8</td>\n",
       "      <td>304.0</td>\n",
       "      <td>150</td>\n",
       "      <td>3433</td>\n",
       "      <td>12.0</td>\n",
       "      <td>70</td>\n",
       "      <td>1</td>\n",
       "      <td>0</td>\n",
       "      <td>amc rebel sst</td>\n",
       "    </tr>\n",
       "    <tr>\n",
       "      <th>4</th>\n",
       "      <td>17.0</td>\n",
       "      <td>8</td>\n",
       "      <td>302.0</td>\n",
       "      <td>140</td>\n",
       "      <td>3449</td>\n",
       "      <td>10.5</td>\n",
       "      <td>70</td>\n",
       "      <td>1</td>\n",
       "      <td>0</td>\n",
       "      <td>ford torino</td>\n",
       "    </tr>\n",
       "  </tbody>\n",
       "</table>\n",
       "</div>"
      ],
      "text/plain": [
       "    mpg  cyl   disp   hp    wt   acc  yr  origin  car_type  \\\n",
       "0  18.0    8  307.0  130  3504  12.0  70       1         0   \n",
       "1  15.0    8  350.0  165  3693  11.5  70       1         0   \n",
       "2  18.0    8  318.0  150  3436  11.0  70       1         0   \n",
       "3  16.0    8  304.0  150  3433  12.0  70       1         0   \n",
       "4  17.0    8  302.0  140  3449  10.5  70       1         0   \n",
       "\n",
       "                    car_name  \n",
       "0  chevrolet chevelle malibu  \n",
       "1          buick skylark 320  \n",
       "2         plymouth satellite  \n",
       "3              amc rebel sst  \n",
       "4                ford torino  "
      ]
     },
     "execution_count": 25,
     "metadata": {},
     "output_type": "execute_result"
    }
   ],
   "source": [
    "df.head()"
   ]
  },
  {
   "cell_type": "code",
   "execution_count": 26,
   "id": "97e1a716",
   "metadata": {},
   "outputs": [
    {
     "data": {
      "text/html": [
       "<div>\n",
       "<style scoped>\n",
       "    .dataframe tbody tr th:only-of-type {\n",
       "        vertical-align: middle;\n",
       "    }\n",
       "\n",
       "    .dataframe tbody tr th {\n",
       "        vertical-align: top;\n",
       "    }\n",
       "\n",
       "    .dataframe thead th {\n",
       "        text-align: right;\n",
       "    }\n",
       "</style>\n",
       "<table border=\"1\" class=\"dataframe\">\n",
       "  <thead>\n",
       "    <tr style=\"text-align: right;\">\n",
       "      <th></th>\n",
       "      <th>mpg</th>\n",
       "      <th>cyl</th>\n",
       "      <th>disp</th>\n",
       "      <th>hp</th>\n",
       "      <th>acc</th>\n",
       "      <th>yr</th>\n",
       "      <th>origin</th>\n",
       "      <th>car_type</th>\n",
       "      <th>car_name</th>\n",
       "    </tr>\n",
       "  </thead>\n",
       "  <tbody>\n",
       "    <tr>\n",
       "      <th>0</th>\n",
       "      <td>18.0</td>\n",
       "      <td>8</td>\n",
       "      <td>307.0</td>\n",
       "      <td>130</td>\n",
       "      <td>12.0</td>\n",
       "      <td>70</td>\n",
       "      <td>1</td>\n",
       "      <td>0</td>\n",
       "      <td>chevrolet chevelle malibu</td>\n",
       "    </tr>\n",
       "    <tr>\n",
       "      <th>1</th>\n",
       "      <td>15.0</td>\n",
       "      <td>8</td>\n",
       "      <td>350.0</td>\n",
       "      <td>165</td>\n",
       "      <td>11.5</td>\n",
       "      <td>70</td>\n",
       "      <td>1</td>\n",
       "      <td>0</td>\n",
       "      <td>buick skylark 320</td>\n",
       "    </tr>\n",
       "    <tr>\n",
       "      <th>2</th>\n",
       "      <td>18.0</td>\n",
       "      <td>8</td>\n",
       "      <td>318.0</td>\n",
       "      <td>150</td>\n",
       "      <td>11.0</td>\n",
       "      <td>70</td>\n",
       "      <td>1</td>\n",
       "      <td>0</td>\n",
       "      <td>plymouth satellite</td>\n",
       "    </tr>\n",
       "    <tr>\n",
       "      <th>3</th>\n",
       "      <td>16.0</td>\n",
       "      <td>8</td>\n",
       "      <td>304.0</td>\n",
       "      <td>150</td>\n",
       "      <td>12.0</td>\n",
       "      <td>70</td>\n",
       "      <td>1</td>\n",
       "      <td>0</td>\n",
       "      <td>amc rebel sst</td>\n",
       "    </tr>\n",
       "    <tr>\n",
       "      <th>4</th>\n",
       "      <td>17.0</td>\n",
       "      <td>8</td>\n",
       "      <td>302.0</td>\n",
       "      <td>140</td>\n",
       "      <td>10.5</td>\n",
       "      <td>70</td>\n",
       "      <td>1</td>\n",
       "      <td>0</td>\n",
       "      <td>ford torino</td>\n",
       "    </tr>\n",
       "    <tr>\n",
       "      <th>...</th>\n",
       "      <td>...</td>\n",
       "      <td>...</td>\n",
       "      <td>...</td>\n",
       "      <td>...</td>\n",
       "      <td>...</td>\n",
       "      <td>...</td>\n",
       "      <td>...</td>\n",
       "      <td>...</td>\n",
       "      <td>...</td>\n",
       "    </tr>\n",
       "    <tr>\n",
       "      <th>393</th>\n",
       "      <td>27.0</td>\n",
       "      <td>4</td>\n",
       "      <td>140.0</td>\n",
       "      <td>86</td>\n",
       "      <td>15.6</td>\n",
       "      <td>82</td>\n",
       "      <td>1</td>\n",
       "      <td>1</td>\n",
       "      <td>ford mustang gl</td>\n",
       "    </tr>\n",
       "    <tr>\n",
       "      <th>394</th>\n",
       "      <td>44.0</td>\n",
       "      <td>4</td>\n",
       "      <td>97.0</td>\n",
       "      <td>52</td>\n",
       "      <td>24.6</td>\n",
       "      <td>82</td>\n",
       "      <td>2</td>\n",
       "      <td>1</td>\n",
       "      <td>vw pickup</td>\n",
       "    </tr>\n",
       "    <tr>\n",
       "      <th>395</th>\n",
       "      <td>32.0</td>\n",
       "      <td>4</td>\n",
       "      <td>135.0</td>\n",
       "      <td>84</td>\n",
       "      <td>11.6</td>\n",
       "      <td>82</td>\n",
       "      <td>1</td>\n",
       "      <td>1</td>\n",
       "      <td>dodge rampage</td>\n",
       "    </tr>\n",
       "    <tr>\n",
       "      <th>396</th>\n",
       "      <td>28.0</td>\n",
       "      <td>4</td>\n",
       "      <td>120.0</td>\n",
       "      <td>79</td>\n",
       "      <td>18.6</td>\n",
       "      <td>82</td>\n",
       "      <td>1</td>\n",
       "      <td>1</td>\n",
       "      <td>ford ranger</td>\n",
       "    </tr>\n",
       "    <tr>\n",
       "      <th>397</th>\n",
       "      <td>31.0</td>\n",
       "      <td>4</td>\n",
       "      <td>119.0</td>\n",
       "      <td>82</td>\n",
       "      <td>19.4</td>\n",
       "      <td>82</td>\n",
       "      <td>1</td>\n",
       "      <td>1</td>\n",
       "      <td>chevy s-10</td>\n",
       "    </tr>\n",
       "  </tbody>\n",
       "</table>\n",
       "<p>398 rows × 9 columns</p>\n",
       "</div>"
      ],
      "text/plain": [
       "      mpg  cyl   disp   hp   acc  yr  origin  car_type  \\\n",
       "0    18.0    8  307.0  130  12.0  70       1         0   \n",
       "1    15.0    8  350.0  165  11.5  70       1         0   \n",
       "2    18.0    8  318.0  150  11.0  70       1         0   \n",
       "3    16.0    8  304.0  150  12.0  70       1         0   \n",
       "4    17.0    8  302.0  140  10.5  70       1         0   \n",
       "..    ...  ...    ...  ...   ...  ..     ...       ...   \n",
       "393  27.0    4  140.0   86  15.6  82       1         1   \n",
       "394  44.0    4   97.0   52  24.6  82       2         1   \n",
       "395  32.0    4  135.0   84  11.6  82       1         1   \n",
       "396  28.0    4  120.0   79  18.6  82       1         1   \n",
       "397  31.0    4  119.0   82  19.4  82       1         1   \n",
       "\n",
       "                      car_name  \n",
       "0    chevrolet chevelle malibu  \n",
       "1            buick skylark 320  \n",
       "2           plymouth satellite  \n",
       "3                amc rebel sst  \n",
       "4                  ford torino  \n",
       "..                         ...  \n",
       "393            ford mustang gl  \n",
       "394                  vw pickup  \n",
       "395              dodge rampage  \n",
       "396                ford ranger  \n",
       "397                 chevy s-10  \n",
       "\n",
       "[398 rows x 9 columns]"
      ]
     },
     "execution_count": 26,
     "metadata": {},
     "output_type": "execute_result"
    }
   ],
   "source": [
    "df.drop(columns=['wt'])"
   ]
  },
  {
   "cell_type": "code",
   "execution_count": 27,
   "id": "18bef641",
   "metadata": {},
   "outputs": [
    {
     "data": {
      "text/html": [
       "<div>\n",
       "<style scoped>\n",
       "    .dataframe tbody tr th:only-of-type {\n",
       "        vertical-align: middle;\n",
       "    }\n",
       "\n",
       "    .dataframe tbody tr th {\n",
       "        vertical-align: top;\n",
       "    }\n",
       "\n",
       "    .dataframe thead th {\n",
       "        text-align: right;\n",
       "    }\n",
       "</style>\n",
       "<table border=\"1\" class=\"dataframe\">\n",
       "  <thead>\n",
       "    <tr style=\"text-align: right;\">\n",
       "      <th></th>\n",
       "      <th>mpg</th>\n",
       "      <th>cyl</th>\n",
       "      <th>disp</th>\n",
       "      <th>hp</th>\n",
       "      <th>wt</th>\n",
       "      <th>acc</th>\n",
       "      <th>yr</th>\n",
       "      <th>origin</th>\n",
       "      <th>car_type</th>\n",
       "      <th>car_name</th>\n",
       "    </tr>\n",
       "  </thead>\n",
       "  <tbody>\n",
       "    <tr>\n",
       "      <th>0</th>\n",
       "      <td>18.0</td>\n",
       "      <td>8</td>\n",
       "      <td>307.0</td>\n",
       "      <td>130</td>\n",
       "      <td>3504</td>\n",
       "      <td>12.0</td>\n",
       "      <td>70</td>\n",
       "      <td>1</td>\n",
       "      <td>0</td>\n",
       "      <td>chevrolet chevelle malibu</td>\n",
       "    </tr>\n",
       "    <tr>\n",
       "      <th>1</th>\n",
       "      <td>15.0</td>\n",
       "      <td>8</td>\n",
       "      <td>350.0</td>\n",
       "      <td>165</td>\n",
       "      <td>3693</td>\n",
       "      <td>11.5</td>\n",
       "      <td>70</td>\n",
       "      <td>1</td>\n",
       "      <td>0</td>\n",
       "      <td>buick skylark 320</td>\n",
       "    </tr>\n",
       "    <tr>\n",
       "      <th>2</th>\n",
       "      <td>18.0</td>\n",
       "      <td>8</td>\n",
       "      <td>318.0</td>\n",
       "      <td>150</td>\n",
       "      <td>3436</td>\n",
       "      <td>11.0</td>\n",
       "      <td>70</td>\n",
       "      <td>1</td>\n",
       "      <td>0</td>\n",
       "      <td>plymouth satellite</td>\n",
       "    </tr>\n",
       "    <tr>\n",
       "      <th>3</th>\n",
       "      <td>16.0</td>\n",
       "      <td>8</td>\n",
       "      <td>304.0</td>\n",
       "      <td>150</td>\n",
       "      <td>3433</td>\n",
       "      <td>12.0</td>\n",
       "      <td>70</td>\n",
       "      <td>1</td>\n",
       "      <td>0</td>\n",
       "      <td>amc rebel sst</td>\n",
       "    </tr>\n",
       "    <tr>\n",
       "      <th>4</th>\n",
       "      <td>17.0</td>\n",
       "      <td>8</td>\n",
       "      <td>302.0</td>\n",
       "      <td>140</td>\n",
       "      <td>3449</td>\n",
       "      <td>10.5</td>\n",
       "      <td>70</td>\n",
       "      <td>1</td>\n",
       "      <td>0</td>\n",
       "      <td>ford torino</td>\n",
       "    </tr>\n",
       "    <tr>\n",
       "      <th>...</th>\n",
       "      <td>...</td>\n",
       "      <td>...</td>\n",
       "      <td>...</td>\n",
       "      <td>...</td>\n",
       "      <td>...</td>\n",
       "      <td>...</td>\n",
       "      <td>...</td>\n",
       "      <td>...</td>\n",
       "      <td>...</td>\n",
       "      <td>...</td>\n",
       "    </tr>\n",
       "    <tr>\n",
       "      <th>393</th>\n",
       "      <td>27.0</td>\n",
       "      <td>4</td>\n",
       "      <td>140.0</td>\n",
       "      <td>86</td>\n",
       "      <td>2790</td>\n",
       "      <td>15.6</td>\n",
       "      <td>82</td>\n",
       "      <td>1</td>\n",
       "      <td>1</td>\n",
       "      <td>ford mustang gl</td>\n",
       "    </tr>\n",
       "    <tr>\n",
       "      <th>394</th>\n",
       "      <td>44.0</td>\n",
       "      <td>4</td>\n",
       "      <td>97.0</td>\n",
       "      <td>52</td>\n",
       "      <td>2130</td>\n",
       "      <td>24.6</td>\n",
       "      <td>82</td>\n",
       "      <td>2</td>\n",
       "      <td>1</td>\n",
       "      <td>vw pickup</td>\n",
       "    </tr>\n",
       "    <tr>\n",
       "      <th>395</th>\n",
       "      <td>32.0</td>\n",
       "      <td>4</td>\n",
       "      <td>135.0</td>\n",
       "      <td>84</td>\n",
       "      <td>2295</td>\n",
       "      <td>11.6</td>\n",
       "      <td>82</td>\n",
       "      <td>1</td>\n",
       "      <td>1</td>\n",
       "      <td>dodge rampage</td>\n",
       "    </tr>\n",
       "    <tr>\n",
       "      <th>396</th>\n",
       "      <td>28.0</td>\n",
       "      <td>4</td>\n",
       "      <td>120.0</td>\n",
       "      <td>79</td>\n",
       "      <td>2625</td>\n",
       "      <td>18.6</td>\n",
       "      <td>82</td>\n",
       "      <td>1</td>\n",
       "      <td>1</td>\n",
       "      <td>ford ranger</td>\n",
       "    </tr>\n",
       "    <tr>\n",
       "      <th>397</th>\n",
       "      <td>31.0</td>\n",
       "      <td>4</td>\n",
       "      <td>119.0</td>\n",
       "      <td>82</td>\n",
       "      <td>2720</td>\n",
       "      <td>19.4</td>\n",
       "      <td>82</td>\n",
       "      <td>1</td>\n",
       "      <td>1</td>\n",
       "      <td>chevy s-10</td>\n",
       "    </tr>\n",
       "  </tbody>\n",
       "</table>\n",
       "<p>398 rows × 10 columns</p>\n",
       "</div>"
      ],
      "text/plain": [
       "      mpg  cyl   disp   hp    wt   acc  yr  origin  car_type  \\\n",
       "0    18.0    8  307.0  130  3504  12.0  70       1         0   \n",
       "1    15.0    8  350.0  165  3693  11.5  70       1         0   \n",
       "2    18.0    8  318.0  150  3436  11.0  70       1         0   \n",
       "3    16.0    8  304.0  150  3433  12.0  70       1         0   \n",
       "4    17.0    8  302.0  140  3449  10.5  70       1         0   \n",
       "..    ...  ...    ...  ...   ...   ...  ..     ...       ...   \n",
       "393  27.0    4  140.0   86  2790  15.6  82       1         1   \n",
       "394  44.0    4   97.0   52  2130  24.6  82       2         1   \n",
       "395  32.0    4  135.0   84  2295  11.6  82       1         1   \n",
       "396  28.0    4  120.0   79  2625  18.6  82       1         1   \n",
       "397  31.0    4  119.0   82  2720  19.4  82       1         1   \n",
       "\n",
       "                      car_name  \n",
       "0    chevrolet chevelle malibu  \n",
       "1            buick skylark 320  \n",
       "2           plymouth satellite  \n",
       "3                amc rebel sst  \n",
       "4                  ford torino  \n",
       "..                         ...  \n",
       "393            ford mustang gl  \n",
       "394                  vw pickup  \n",
       "395              dodge rampage  \n",
       "396                ford ranger  \n",
       "397                 chevy s-10  \n",
       "\n",
       "[398 rows x 10 columns]"
      ]
     },
     "execution_count": 27,
     "metadata": {},
     "output_type": "execute_result"
    }
   ],
   "source": [
    "df"
   ]
  },
  {
   "cell_type": "code",
   "execution_count": 28,
   "id": "4cfababb",
   "metadata": {},
   "outputs": [],
   "source": [
    "df.drop(columns=['wt'],inplace=True)"
   ]
  },
  {
   "cell_type": "code",
   "execution_count": 29,
   "id": "b5de1d75",
   "metadata": {},
   "outputs": [
    {
     "data": {
      "text/html": [
       "<div>\n",
       "<style scoped>\n",
       "    .dataframe tbody tr th:only-of-type {\n",
       "        vertical-align: middle;\n",
       "    }\n",
       "\n",
       "    .dataframe tbody tr th {\n",
       "        vertical-align: top;\n",
       "    }\n",
       "\n",
       "    .dataframe thead th {\n",
       "        text-align: right;\n",
       "    }\n",
       "</style>\n",
       "<table border=\"1\" class=\"dataframe\">\n",
       "  <thead>\n",
       "    <tr style=\"text-align: right;\">\n",
       "      <th></th>\n",
       "      <th>mpg</th>\n",
       "      <th>cyl</th>\n",
       "      <th>disp</th>\n",
       "      <th>hp</th>\n",
       "      <th>acc</th>\n",
       "      <th>yr</th>\n",
       "      <th>origin</th>\n",
       "      <th>car_type</th>\n",
       "      <th>car_name</th>\n",
       "    </tr>\n",
       "  </thead>\n",
       "  <tbody>\n",
       "    <tr>\n",
       "      <th>0</th>\n",
       "      <td>18.0</td>\n",
       "      <td>8</td>\n",
       "      <td>307.0</td>\n",
       "      <td>130</td>\n",
       "      <td>12.0</td>\n",
       "      <td>70</td>\n",
       "      <td>1</td>\n",
       "      <td>0</td>\n",
       "      <td>chevrolet chevelle malibu</td>\n",
       "    </tr>\n",
       "    <tr>\n",
       "      <th>1</th>\n",
       "      <td>15.0</td>\n",
       "      <td>8</td>\n",
       "      <td>350.0</td>\n",
       "      <td>165</td>\n",
       "      <td>11.5</td>\n",
       "      <td>70</td>\n",
       "      <td>1</td>\n",
       "      <td>0</td>\n",
       "      <td>buick skylark 320</td>\n",
       "    </tr>\n",
       "    <tr>\n",
       "      <th>2</th>\n",
       "      <td>18.0</td>\n",
       "      <td>8</td>\n",
       "      <td>318.0</td>\n",
       "      <td>150</td>\n",
       "      <td>11.0</td>\n",
       "      <td>70</td>\n",
       "      <td>1</td>\n",
       "      <td>0</td>\n",
       "      <td>plymouth satellite</td>\n",
       "    </tr>\n",
       "    <tr>\n",
       "      <th>3</th>\n",
       "      <td>16.0</td>\n",
       "      <td>8</td>\n",
       "      <td>304.0</td>\n",
       "      <td>150</td>\n",
       "      <td>12.0</td>\n",
       "      <td>70</td>\n",
       "      <td>1</td>\n",
       "      <td>0</td>\n",
       "      <td>amc rebel sst</td>\n",
       "    </tr>\n",
       "    <tr>\n",
       "      <th>4</th>\n",
       "      <td>17.0</td>\n",
       "      <td>8</td>\n",
       "      <td>302.0</td>\n",
       "      <td>140</td>\n",
       "      <td>10.5</td>\n",
       "      <td>70</td>\n",
       "      <td>1</td>\n",
       "      <td>0</td>\n",
       "      <td>ford torino</td>\n",
       "    </tr>\n",
       "    <tr>\n",
       "      <th>...</th>\n",
       "      <td>...</td>\n",
       "      <td>...</td>\n",
       "      <td>...</td>\n",
       "      <td>...</td>\n",
       "      <td>...</td>\n",
       "      <td>...</td>\n",
       "      <td>...</td>\n",
       "      <td>...</td>\n",
       "      <td>...</td>\n",
       "    </tr>\n",
       "    <tr>\n",
       "      <th>393</th>\n",
       "      <td>27.0</td>\n",
       "      <td>4</td>\n",
       "      <td>140.0</td>\n",
       "      <td>86</td>\n",
       "      <td>15.6</td>\n",
       "      <td>82</td>\n",
       "      <td>1</td>\n",
       "      <td>1</td>\n",
       "      <td>ford mustang gl</td>\n",
       "    </tr>\n",
       "    <tr>\n",
       "      <th>394</th>\n",
       "      <td>44.0</td>\n",
       "      <td>4</td>\n",
       "      <td>97.0</td>\n",
       "      <td>52</td>\n",
       "      <td>24.6</td>\n",
       "      <td>82</td>\n",
       "      <td>2</td>\n",
       "      <td>1</td>\n",
       "      <td>vw pickup</td>\n",
       "    </tr>\n",
       "    <tr>\n",
       "      <th>395</th>\n",
       "      <td>32.0</td>\n",
       "      <td>4</td>\n",
       "      <td>135.0</td>\n",
       "      <td>84</td>\n",
       "      <td>11.6</td>\n",
       "      <td>82</td>\n",
       "      <td>1</td>\n",
       "      <td>1</td>\n",
       "      <td>dodge rampage</td>\n",
       "    </tr>\n",
       "    <tr>\n",
       "      <th>396</th>\n",
       "      <td>28.0</td>\n",
       "      <td>4</td>\n",
       "      <td>120.0</td>\n",
       "      <td>79</td>\n",
       "      <td>18.6</td>\n",
       "      <td>82</td>\n",
       "      <td>1</td>\n",
       "      <td>1</td>\n",
       "      <td>ford ranger</td>\n",
       "    </tr>\n",
       "    <tr>\n",
       "      <th>397</th>\n",
       "      <td>31.0</td>\n",
       "      <td>4</td>\n",
       "      <td>119.0</td>\n",
       "      <td>82</td>\n",
       "      <td>19.4</td>\n",
       "      <td>82</td>\n",
       "      <td>1</td>\n",
       "      <td>1</td>\n",
       "      <td>chevy s-10</td>\n",
       "    </tr>\n",
       "  </tbody>\n",
       "</table>\n",
       "<p>398 rows × 9 columns</p>\n",
       "</div>"
      ],
      "text/plain": [
       "      mpg  cyl   disp   hp   acc  yr  origin  car_type  \\\n",
       "0    18.0    8  307.0  130  12.0  70       1         0   \n",
       "1    15.0    8  350.0  165  11.5  70       1         0   \n",
       "2    18.0    8  318.0  150  11.0  70       1         0   \n",
       "3    16.0    8  304.0  150  12.0  70       1         0   \n",
       "4    17.0    8  302.0  140  10.5  70       1         0   \n",
       "..    ...  ...    ...  ...   ...  ..     ...       ...   \n",
       "393  27.0    4  140.0   86  15.6  82       1         1   \n",
       "394  44.0    4   97.0   52  24.6  82       2         1   \n",
       "395  32.0    4  135.0   84  11.6  82       1         1   \n",
       "396  28.0    4  120.0   79  18.6  82       1         1   \n",
       "397  31.0    4  119.0   82  19.4  82       1         1   \n",
       "\n",
       "                      car_name  \n",
       "0    chevrolet chevelle malibu  \n",
       "1            buick skylark 320  \n",
       "2           plymouth satellite  \n",
       "3                amc rebel sst  \n",
       "4                  ford torino  \n",
       "..                         ...  \n",
       "393            ford mustang gl  \n",
       "394                  vw pickup  \n",
       "395              dodge rampage  \n",
       "396                ford ranger  \n",
       "397                 chevy s-10  \n",
       "\n",
       "[398 rows x 9 columns]"
      ]
     },
     "execution_count": 29,
     "metadata": {},
     "output_type": "execute_result"
    }
   ],
   "source": [
    "df"
   ]
  },
  {
   "cell_type": "markdown",
   "id": "b91d2147",
   "metadata": {},
   "source": [
    "# Q6. How do you find the unique values in a column of a Pandas DataFrame?\n"
   ]
  },
  {
   "cell_type": "markdown",
   "id": "0b211bb6",
   "metadata": {},
   "source": [
    "To find the unique values in a column of a Pandas DataFrame, you can use the unique() method."
   ]
  },
  {
   "cell_type": "code",
   "execution_count": 36,
   "id": "860a5eee",
   "metadata": {},
   "outputs": [
    {
     "data": {
      "text/html": [
       "<div>\n",
       "<style scoped>\n",
       "    .dataframe tbody tr th:only-of-type {\n",
       "        vertical-align: middle;\n",
       "    }\n",
       "\n",
       "    .dataframe tbody tr th {\n",
       "        vertical-align: top;\n",
       "    }\n",
       "\n",
       "    .dataframe thead th {\n",
       "        text-align: right;\n",
       "    }\n",
       "</style>\n",
       "<table border=\"1\" class=\"dataframe\">\n",
       "  <thead>\n",
       "    <tr style=\"text-align: right;\">\n",
       "      <th></th>\n",
       "      <th>mpg</th>\n",
       "      <th>cyl</th>\n",
       "      <th>disp</th>\n",
       "      <th>hp</th>\n",
       "      <th>acc</th>\n",
       "      <th>yr</th>\n",
       "      <th>origin</th>\n",
       "      <th>car_type</th>\n",
       "      <th>car_name</th>\n",
       "    </tr>\n",
       "  </thead>\n",
       "  <tbody>\n",
       "    <tr>\n",
       "      <th>0</th>\n",
       "      <td>18.0</td>\n",
       "      <td>8</td>\n",
       "      <td>307.0</td>\n",
       "      <td>130</td>\n",
       "      <td>12.0</td>\n",
       "      <td>70</td>\n",
       "      <td>1</td>\n",
       "      <td>0</td>\n",
       "      <td>chevrolet chevelle malibu</td>\n",
       "    </tr>\n",
       "    <tr>\n",
       "      <th>1</th>\n",
       "      <td>15.0</td>\n",
       "      <td>8</td>\n",
       "      <td>350.0</td>\n",
       "      <td>165</td>\n",
       "      <td>11.5</td>\n",
       "      <td>70</td>\n",
       "      <td>1</td>\n",
       "      <td>0</td>\n",
       "      <td>buick skylark 320</td>\n",
       "    </tr>\n",
       "    <tr>\n",
       "      <th>2</th>\n",
       "      <td>18.0</td>\n",
       "      <td>8</td>\n",
       "      <td>318.0</td>\n",
       "      <td>150</td>\n",
       "      <td>11.0</td>\n",
       "      <td>70</td>\n",
       "      <td>1</td>\n",
       "      <td>0</td>\n",
       "      <td>plymouth satellite</td>\n",
       "    </tr>\n",
       "    <tr>\n",
       "      <th>3</th>\n",
       "      <td>16.0</td>\n",
       "      <td>8</td>\n",
       "      <td>304.0</td>\n",
       "      <td>150</td>\n",
       "      <td>12.0</td>\n",
       "      <td>70</td>\n",
       "      <td>1</td>\n",
       "      <td>0</td>\n",
       "      <td>amc rebel sst</td>\n",
       "    </tr>\n",
       "    <tr>\n",
       "      <th>4</th>\n",
       "      <td>17.0</td>\n",
       "      <td>8</td>\n",
       "      <td>302.0</td>\n",
       "      <td>140</td>\n",
       "      <td>10.5</td>\n",
       "      <td>70</td>\n",
       "      <td>1</td>\n",
       "      <td>0</td>\n",
       "      <td>ford torino</td>\n",
       "    </tr>\n",
       "  </tbody>\n",
       "</table>\n",
       "</div>"
      ],
      "text/plain": [
       "    mpg  cyl   disp   hp   acc  yr  origin  car_type  \\\n",
       "0  18.0    8  307.0  130  12.0  70       1         0   \n",
       "1  15.0    8  350.0  165  11.5  70       1         0   \n",
       "2  18.0    8  318.0  150  11.0  70       1         0   \n",
       "3  16.0    8  304.0  150  12.0  70       1         0   \n",
       "4  17.0    8  302.0  140  10.5  70       1         0   \n",
       "\n",
       "                    car_name  \n",
       "0  chevrolet chevelle malibu  \n",
       "1          buick skylark 320  \n",
       "2         plymouth satellite  \n",
       "3              amc rebel sst  \n",
       "4                ford torino  "
      ]
     },
     "execution_count": 36,
     "metadata": {},
     "output_type": "execute_result"
    }
   ],
   "source": [
    "df.head()"
   ]
  },
  {
   "cell_type": "code",
   "execution_count": 37,
   "id": "d58486f4",
   "metadata": {},
   "outputs": [
    {
     "data": {
      "text/plain": [
       "Index(['mpg', 'cyl', 'disp', 'hp', 'acc', 'yr', 'origin', 'car_type',\n",
       "       'car_name'],\n",
       "      dtype='object')"
      ]
     },
     "execution_count": 37,
     "metadata": {},
     "output_type": "execute_result"
    }
   ],
   "source": [
    "df.columns"
   ]
  },
  {
   "cell_type": "code",
   "execution_count": 38,
   "id": "726576e6",
   "metadata": {},
   "outputs": [
    {
     "data": {
      "text/plain": [
       "array([307. , 350. , 318. , 304. , 302. , 429. , 454. , 440. , 455. ,\n",
       "       390. , 383. , 340. , 400. , 113. , 198. , 199. , 200. ,  97. ,\n",
       "       110. , 107. , 104. , 121. , 360. , 140. ,  98. , 232. , 225. ,\n",
       "       250. , 351. , 258. , 122. , 116. ,  79. ,  88. ,  71. ,  72. ,\n",
       "        91. ,  97.5,  70. , 120. ,  96. , 108. , 155. ,  68. , 114. ,\n",
       "       156. ,  76. ,  83. ,  90. , 231. , 262. , 134. , 119. , 171. ,\n",
       "       115. , 101. , 305. ,  85. , 130. , 168. , 111. , 260. , 151. ,\n",
       "       146. ,  80. ,  78. , 105. , 131. , 163. ,  89. , 267. ,  86. ,\n",
       "       183. , 141. , 173. , 135. ,  81. , 100. , 145. , 112. , 181. ,\n",
       "       144. ])"
      ]
     },
     "execution_count": 38,
     "metadata": {},
     "output_type": "execute_result"
    }
   ],
   "source": [
    "df.disp.unique()"
   ]
  },
  {
   "cell_type": "code",
   "execution_count": 39,
   "id": "35a84d5b",
   "metadata": {},
   "outputs": [
    {
     "data": {
      "text/plain": [
       "array([0, 1], dtype=int64)"
      ]
     },
     "execution_count": 39,
     "metadata": {},
     "output_type": "execute_result"
    }
   ],
   "source": [
    "df['car_type'].unique()"
   ]
  },
  {
   "cell_type": "code",
   "execution_count": 40,
   "id": "91a510ba",
   "metadata": {},
   "outputs": [
    {
     "data": {
      "text/plain": [
       "array(['chevrolet chevelle malibu', 'buick skylark 320',\n",
       "       'plymouth satellite', 'amc rebel sst', 'ford torino',\n",
       "       'ford galaxie 500', 'chevrolet impala', 'plymouth fury iii',\n",
       "       'pontiac catalina', 'amc ambassador dpl', 'dodge challenger se',\n",
       "       \"plymouth 'cuda 340\", 'chevrolet monte carlo',\n",
       "       'buick estate wagon (sw)', 'toyota corona mark ii',\n",
       "       'plymouth duster', 'amc hornet', 'ford maverick', 'datsun pl510',\n",
       "       'volkswagen 1131 deluxe sedan', 'peugeot 504', 'audi 100 ls',\n",
       "       'saab 99e', 'bmw 2002', 'amc gremlin', 'ford f250', 'chevy c20',\n",
       "       'dodge d200', 'hi 1200d', 'chevrolet vega 2300', 'toyota corona',\n",
       "       'ford pinto', 'plymouth satellite custom', 'ford torino 500',\n",
       "       'amc matador', 'pontiac catalina brougham', 'dodge monaco (sw)',\n",
       "       'ford country squire (sw)', 'pontiac safari (sw)',\n",
       "       'amc hornet sportabout (sw)', 'chevrolet vega (sw)',\n",
       "       'pontiac firebird', 'ford mustang', 'mercury capri 2000',\n",
       "       'opel 1900', 'peugeot 304', 'fiat 124b', 'toyota corolla 1200',\n",
       "       'datsun 1200', 'volkswagen model 111', 'plymouth cricket',\n",
       "       'toyota corona hardtop', 'dodge colt hardtop', 'volkswagen type 3',\n",
       "       'chevrolet vega', 'ford pinto runabout', 'amc ambassador sst',\n",
       "       'mercury marquis', 'buick lesabre custom',\n",
       "       'oldsmobile delta 88 royale', 'chrysler newport royal',\n",
       "       'mazda rx2 coupe', 'amc matador (sw)',\n",
       "       'chevrolet chevelle concours (sw)', 'ford gran torino (sw)',\n",
       "       'plymouth satellite custom (sw)', 'volvo 145e (sw)',\n",
       "       'volkswagen 411 (sw)', 'peugeot 504 (sw)', 'renault 12 (sw)',\n",
       "       'ford pinto (sw)', 'datsun 510 (sw)',\n",
       "       'toyouta corona mark ii (sw)', 'dodge colt (sw)',\n",
       "       'toyota corolla 1600 (sw)', 'buick century 350',\n",
       "       'chevrolet malibu', 'ford gran torino', 'dodge coronet custom',\n",
       "       'mercury marquis brougham', 'chevrolet caprice classic',\n",
       "       'ford ltd', 'plymouth fury gran sedan',\n",
       "       'chrysler new yorker brougham', 'buick electra 225 custom',\n",
       "       'amc ambassador brougham', 'plymouth valiant',\n",
       "       'chevrolet nova custom', 'volkswagen super beetle', 'ford country',\n",
       "       'plymouth custom suburb', 'oldsmobile vista cruiser',\n",
       "       'toyota carina', 'datsun 610', 'maxda rx3', 'mercury capri v6',\n",
       "       'fiat 124 sport coupe', 'chevrolet monte carlo s',\n",
       "       'pontiac grand prix', 'fiat 128', 'opel manta', 'audi 100ls',\n",
       "       'volvo 144ea', 'dodge dart custom', 'saab 99le', 'toyota mark ii',\n",
       "       'oldsmobile omega', 'chevrolet nova', 'datsun b210',\n",
       "       'chevrolet chevelle malibu classic', 'plymouth satellite sebring',\n",
       "       'buick century luxus (sw)', 'dodge coronet custom (sw)',\n",
       "       'audi fox', 'volkswagen dasher', 'datsun 710', 'dodge colt',\n",
       "       'fiat 124 tc', 'honda civic', 'subaru', 'fiat x1.9',\n",
       "       'plymouth valiant custom', 'mercury monarch', 'chevrolet bel air',\n",
       "       'plymouth grand fury', 'buick century',\n",
       "       'chevroelt chevelle malibu', 'plymouth fury', 'buick skyhawk',\n",
       "       'chevrolet monza 2+2', 'ford mustang ii', 'toyota corolla',\n",
       "       'pontiac astro', 'volkswagen rabbit', 'amc pacer', 'volvo 244dl',\n",
       "       'honda civic cvcc', 'fiat 131', 'capri ii', 'renault 12tl',\n",
       "       'dodge coronet brougham', 'chevrolet chevette', 'chevrolet woody',\n",
       "       'vw rabbit', 'dodge aspen se', 'ford granada ghia',\n",
       "       'pontiac ventura sj', 'amc pacer d/l', 'datsun b-210', 'volvo 245',\n",
       "       'plymouth volare premier v8', 'mercedes-benz 280s',\n",
       "       'cadillac seville', 'chevy c10', 'ford f108', 'dodge d100',\n",
       "       'honda accord cvcc', 'buick opel isuzu deluxe', 'renault 5 gtl',\n",
       "       'plymouth arrow gs', 'datsun f-10 hatchback',\n",
       "       'oldsmobile cutlass supreme', 'dodge monaco brougham',\n",
       "       'mercury cougar brougham', 'chevrolet concours', 'buick skylark',\n",
       "       'plymouth volare custom', 'ford granada', 'pontiac grand prix lj',\n",
       "       'chevrolet monte carlo landau', 'chrysler cordoba',\n",
       "       'ford thunderbird', 'volkswagen rabbit custom',\n",
       "       'pontiac sunbird coupe', 'toyota corolla liftback',\n",
       "       'ford mustang ii 2+2', 'dodge colt m/m', 'subaru dl', 'datsun 810',\n",
       "       'bmw 320i', 'mazda rx-4', 'volkswagen rabbit custom diesel',\n",
       "       'ford fiesta', 'mazda glc deluxe', 'datsun b210 gx',\n",
       "       'oldsmobile cutlass salon brougham', 'dodge diplomat',\n",
       "       'mercury monarch ghia', 'pontiac phoenix lj',\n",
       "       'ford fairmont (auto)', 'ford fairmont (man)', 'plymouth volare',\n",
       "       'amc concord', 'buick century special', 'mercury zephyr',\n",
       "       'dodge aspen', 'amc concord d/l',\n",
       "       'buick regal sport coupe (turbo)', 'ford futura',\n",
       "       'dodge magnum xe', 'datsun 510', 'dodge omni',\n",
       "       'toyota celica gt liftback', 'plymouth sapporo',\n",
       "       'oldsmobile starfire sx', 'datsun 200-sx', 'audi 5000',\n",
       "       'volvo 264gl', 'saab 99gle', 'peugeot 604sl',\n",
       "       'volkswagen scirocco', 'honda accord lx', 'pontiac lemans v6',\n",
       "       'mercury zephyr 6', 'ford fairmont 4', 'amc concord dl 6',\n",
       "       'dodge aspen 6', 'ford ltd landau', 'mercury grand marquis',\n",
       "       'dodge st. regis', 'chevrolet malibu classic (sw)',\n",
       "       'chrysler lebaron town @ country (sw)', 'vw rabbit custom',\n",
       "       'maxda glc deluxe', 'dodge colt hatchback custom', 'amc spirit dl',\n",
       "       'mercedes benz 300d', 'cadillac eldorado', 'plymouth horizon',\n",
       "       'plymouth horizon tc3', 'datsun 210', 'fiat strada custom',\n",
       "       'buick skylark limited', 'chevrolet citation',\n",
       "       'oldsmobile omega brougham', 'pontiac phoenix',\n",
       "       'toyota corolla tercel', 'datsun 310', 'ford fairmont',\n",
       "       'audi 4000', 'toyota corona liftback', 'mazda 626',\n",
       "       'datsun 510 hatchback', 'mazda glc', 'vw rabbit c (diesel)',\n",
       "       'vw dasher (diesel)', 'audi 5000s (diesel)', 'mercedes-benz 240d',\n",
       "       'honda civic 1500 gl', 'renault lecar deluxe', 'vokswagen rabbit',\n",
       "       'datsun 280-zx', 'mazda rx-7 gs', 'triumph tr7 coupe',\n",
       "       'ford mustang cobra', 'honda accord', 'plymouth reliant',\n",
       "       'dodge aries wagon (sw)', 'toyota starlet', 'plymouth champ',\n",
       "       'honda civic 1300', 'datsun 210 mpg', 'toyota tercel',\n",
       "       'mazda glc 4', 'plymouth horizon 4', 'ford escort 4w',\n",
       "       'ford escort 2h', 'volkswagen jetta', 'renault 18i',\n",
       "       'honda prelude', 'datsun 200sx', 'peugeot 505s turbo diesel',\n",
       "       'volvo diesel', 'toyota cressida', 'datsun 810 maxima',\n",
       "       'oldsmobile cutlass ls', 'ford granada gl',\n",
       "       'chrysler lebaron salon', 'chevrolet cavalier',\n",
       "       'chevrolet cavalier wagon', 'chevrolet cavalier 2-door',\n",
       "       'pontiac j2000 se hatchback', 'dodge aries se',\n",
       "       'ford fairmont futura', 'amc concord dl', 'volkswagen rabbit l',\n",
       "       'mazda glc custom l', 'mazda glc custom', 'plymouth horizon miser',\n",
       "       'mercury lynx l', 'nissan stanza xe', 'honda civic (auto)',\n",
       "       'datsun 310 gx', 'buick century limited',\n",
       "       'oldsmobile cutlass ciera (diesel)', 'chrysler lebaron medallion',\n",
       "       'ford granada l', 'toyota celica gt', 'dodge charger 2.2',\n",
       "       'chevrolet camaro', 'ford mustang gl', 'vw pickup',\n",
       "       'dodge rampage', 'ford ranger', 'chevy s-10'], dtype=object)"
      ]
     },
     "execution_count": 40,
     "metadata": {},
     "output_type": "execute_result"
    }
   ],
   "source": [
    "df['car_name'].unique()"
   ]
  },
  {
   "cell_type": "markdown",
   "id": "b55ff296",
   "metadata": {},
   "source": [
    "# Q7. How do you find the number of missing values in each column of a Pandas DataFrame?\n"
   ]
  },
  {
   "cell_type": "markdown",
   "id": "6580a641",
   "metadata": {},
   "source": [
    "To find the number of missing values in each column of a Pandas DataFrame, you can use the isna() and sum() methods.\n"
   ]
  },
  {
   "cell_type": "code",
   "execution_count": 41,
   "id": "0232ae89",
   "metadata": {},
   "outputs": [
    {
     "data": {
      "text/html": [
       "<div>\n",
       "<style scoped>\n",
       "    .dataframe tbody tr th:only-of-type {\n",
       "        vertical-align: middle;\n",
       "    }\n",
       "\n",
       "    .dataframe tbody tr th {\n",
       "        vertical-align: top;\n",
       "    }\n",
       "\n",
       "    .dataframe thead th {\n",
       "        text-align: right;\n",
       "    }\n",
       "</style>\n",
       "<table border=\"1\" class=\"dataframe\">\n",
       "  <thead>\n",
       "    <tr style=\"text-align: right;\">\n",
       "      <th></th>\n",
       "      <th>mpg</th>\n",
       "      <th>cyl</th>\n",
       "      <th>disp</th>\n",
       "      <th>hp</th>\n",
       "      <th>acc</th>\n",
       "      <th>yr</th>\n",
       "      <th>origin</th>\n",
       "      <th>car_type</th>\n",
       "      <th>car_name</th>\n",
       "    </tr>\n",
       "  </thead>\n",
       "  <tbody>\n",
       "    <tr>\n",
       "      <th>0</th>\n",
       "      <td>18.0</td>\n",
       "      <td>8</td>\n",
       "      <td>307.0</td>\n",
       "      <td>130</td>\n",
       "      <td>12.0</td>\n",
       "      <td>70</td>\n",
       "      <td>1</td>\n",
       "      <td>0</td>\n",
       "      <td>chevrolet chevelle malibu</td>\n",
       "    </tr>\n",
       "    <tr>\n",
       "      <th>1</th>\n",
       "      <td>15.0</td>\n",
       "      <td>8</td>\n",
       "      <td>350.0</td>\n",
       "      <td>165</td>\n",
       "      <td>11.5</td>\n",
       "      <td>70</td>\n",
       "      <td>1</td>\n",
       "      <td>0</td>\n",
       "      <td>buick skylark 320</td>\n",
       "    </tr>\n",
       "    <tr>\n",
       "      <th>2</th>\n",
       "      <td>18.0</td>\n",
       "      <td>8</td>\n",
       "      <td>318.0</td>\n",
       "      <td>150</td>\n",
       "      <td>11.0</td>\n",
       "      <td>70</td>\n",
       "      <td>1</td>\n",
       "      <td>0</td>\n",
       "      <td>plymouth satellite</td>\n",
       "    </tr>\n",
       "    <tr>\n",
       "      <th>3</th>\n",
       "      <td>16.0</td>\n",
       "      <td>8</td>\n",
       "      <td>304.0</td>\n",
       "      <td>150</td>\n",
       "      <td>12.0</td>\n",
       "      <td>70</td>\n",
       "      <td>1</td>\n",
       "      <td>0</td>\n",
       "      <td>amc rebel sst</td>\n",
       "    </tr>\n",
       "    <tr>\n",
       "      <th>4</th>\n",
       "      <td>17.0</td>\n",
       "      <td>8</td>\n",
       "      <td>302.0</td>\n",
       "      <td>140</td>\n",
       "      <td>10.5</td>\n",
       "      <td>70</td>\n",
       "      <td>1</td>\n",
       "      <td>0</td>\n",
       "      <td>ford torino</td>\n",
       "    </tr>\n",
       "  </tbody>\n",
       "</table>\n",
       "</div>"
      ],
      "text/plain": [
       "    mpg  cyl   disp   hp   acc  yr  origin  car_type  \\\n",
       "0  18.0    8  307.0  130  12.0  70       1         0   \n",
       "1  15.0    8  350.0  165  11.5  70       1         0   \n",
       "2  18.0    8  318.0  150  11.0  70       1         0   \n",
       "3  16.0    8  304.0  150  12.0  70       1         0   \n",
       "4  17.0    8  302.0  140  10.5  70       1         0   \n",
       "\n",
       "                    car_name  \n",
       "0  chevrolet chevelle malibu  \n",
       "1          buick skylark 320  \n",
       "2         plymouth satellite  \n",
       "3              amc rebel sst  \n",
       "4                ford torino  "
      ]
     },
     "execution_count": 41,
     "metadata": {},
     "output_type": "execute_result"
    }
   ],
   "source": [
    "df.head()"
   ]
  },
  {
   "cell_type": "code",
   "execution_count": 42,
   "id": "8878cf8c",
   "metadata": {},
   "outputs": [
    {
     "name": "stdout",
     "output_type": "stream",
     "text": [
      "<class 'pandas.core.frame.DataFrame'>\n",
      "RangeIndex: 398 entries, 0 to 397\n",
      "Data columns (total 9 columns):\n",
      " #   Column    Non-Null Count  Dtype  \n",
      "---  ------    --------------  -----  \n",
      " 0   mpg       398 non-null    float64\n",
      " 1   cyl       398 non-null    int64  \n",
      " 2   disp      398 non-null    float64\n",
      " 3   hp        398 non-null    object \n",
      " 4   acc       398 non-null    float64\n",
      " 5   yr        398 non-null    int64  \n",
      " 6   origin    398 non-null    int64  \n",
      " 7   car_type  398 non-null    int64  \n",
      " 8   car_name  398 non-null    object \n",
      "dtypes: float64(3), int64(4), object(2)\n",
      "memory usage: 28.1+ KB\n"
     ]
    }
   ],
   "source": [
    "df.info()"
   ]
  },
  {
   "cell_type": "code",
   "execution_count": 43,
   "id": "aaa9495e",
   "metadata": {},
   "outputs": [
    {
     "data": {
      "text/plain": [
       "mpg         0\n",
       "cyl         0\n",
       "disp        0\n",
       "hp          0\n",
       "acc         0\n",
       "yr          0\n",
       "origin      0\n",
       "car_type    0\n",
       "car_name    0\n",
       "dtype: int64"
      ]
     },
     "execution_count": 43,
     "metadata": {},
     "output_type": "execute_result"
    }
   ],
   "source": [
    "df.isnull().sum()  # zero null values in this data set"
   ]
  },
  {
   "cell_type": "code",
   "execution_count": 44,
   "id": "8948e61e",
   "metadata": {},
   "outputs": [
    {
     "data": {
      "text/plain": [
       "mpg         0\n",
       "cyl         0\n",
       "disp        0\n",
       "hp          0\n",
       "acc         0\n",
       "yr          0\n",
       "origin      0\n",
       "car_type    0\n",
       "car_name    0\n",
       "dtype: int64"
      ]
     },
     "execution_count": 44,
     "metadata": {},
     "output_type": "execute_result"
    }
   ],
   "source": [
    "df.isna().sum()"
   ]
  },
  {
   "cell_type": "markdown",
   "id": "52af488c",
   "metadata": {},
   "source": [
    "# Q8. How do you fill missing values in a Pandas DataFrame with a specific value?\n"
   ]
  },
  {
   "cell_type": "markdown",
   "id": "82e7aa65",
   "metadata": {},
   "source": [
    "To fill missing values in a Pandas DataFrame with a specific value, you can use the fillna() method."
   ]
  },
  {
   "cell_type": "code",
   "execution_count": 45,
   "id": "4f9875cb",
   "metadata": {},
   "outputs": [
    {
     "name": "stdout",
     "output_type": "stream",
     "text": [
      "     A    B    C\n",
      "0  1.0  4.0  7.0\n",
      "1  2.0  NaN  8.0\n",
      "2  3.0  6.0  9.0\n",
      "3  NaN  6.0  NaN\n",
      "     A    B    C\n",
      "0  1.0  4.0  7.0\n",
      "1  2.0  0.0  8.0\n",
      "2  3.0  6.0  9.0\n",
      "3  0.0  6.0  0.0\n"
     ]
    }
   ],
   "source": [
    "import pandas as pd\n",
    "import numpy as np\n",
    "\n",
    "# create a sample DataFrame with missing values\n",
    "df = pd.DataFrame({'A': [1, 2, 3, None], 'B': [4, None, 6, 6], 'C': [7, 8, 9, None]})\n",
    "\n",
    "# print the original DataFrame\n",
    "print(df)\n",
    "\n",
    "# fill missing values with 0\n",
    "df = df.fillna(0)\n",
    "\n",
    "# print the updated DataFrame\n",
    "print(df)\n"
   ]
  },
  {
   "cell_type": "markdown",
   "id": "fe62e78b",
   "metadata": {},
   "source": [
    "# Q9. How do you concatenate two Pandas DataFrames?"
   ]
  },
  {
   "cell_type": "code",
   "execution_count": 1,
   "id": "484099e6",
   "metadata": {},
   "outputs": [
    {
     "name": "stdout",
     "output_type": "stream",
     "text": [
      "   A  B\n",
      "0  1  4\n",
      "1  2  5\n",
      "2  3  6\n",
      "0  4  7\n",
      "1  5  8\n",
      "2  6  9\n"
     ]
    }
   ],
   "source": [
    "import pandas as pd\n",
    "\n",
    "# Create two sample DataFrames\n",
    "df1 = pd.DataFrame({'A': [1, 2, 3], 'B': [4, 5, 6]})\n",
    "df2 = pd.DataFrame({'A': [4, 5, 6], 'B': [7, 8, 9]})\n",
    "\n",
    "# Concatenate the two DataFrames vertically\n",
    "result = pd.concat([df1, df2])\n",
    "\n",
    "print(result)\n"
   ]
  },
  {
   "cell_type": "markdown",
   "id": "4c99bb09",
   "metadata": {},
   "source": [
    "# Q10. How do you merge two Pandas DataFrames on a specific column?"
   ]
  },
  {
   "cell_type": "markdown",
   "id": "13117917",
   "metadata": {},
   "source": [
    "     To merge two Pandas DataFrames on a specific column, you can use the merge() function provided by Pandas. The merge() function combines two DataFrames based on the values of a common column, similar to the SQL JOIN operation."
   ]
  },
  {
   "cell_type": "markdown",
   "id": "490a8653",
   "metadata": {},
   "source": [
    "syntax:\n",
    "merged_df = pd.merge(df1, df2, on='column_name')\n"
   ]
  },
  {
   "cell_type": "markdown",
   "id": "4bfcf336",
   "metadata": {},
   "source": [
    "    df1 and df2 are the two DataFrames you want to merge.\n",
    "    \n",
    "    'column_name' is the name of the column on which you want to merge the DataFrames.\n",
    "    \n",
    "    By default, merge() performs an inner join, which keeps only the matching rows between the DataFrames. If you want to include all rows from both DataFrames, you can specify the how parameter, such as how='left' or how='right'."
   ]
  },
  {
   "cell_type": "code",
   "execution_count": 2,
   "id": "8da97d28",
   "metadata": {},
   "outputs": [
    {
     "name": "stdout",
     "output_type": "stream",
     "text": [
      "   ID   Name  Age\n",
      "0   2  Alice   25\n",
      "1   3    Bob   30\n"
     ]
    }
   ],
   "source": [
    "import pandas as pd\n",
    "\n",
    "# Creating two sample DataFrames\n",
    "df1 = pd.DataFrame({'ID': [1, 2, 3], 'Name': ['John', 'Alice', 'Bob']})\n",
    "df2 = pd.DataFrame({'ID': [2, 3, 4], 'Age': [25, 30, 35]})\n",
    "\n",
    "# Merging on the 'ID' column\n",
    "merged_df = pd.merge(df1, df2, on='ID')\n",
    "\n",
    "print(merged_df)\n"
   ]
  },
  {
   "cell_type": "markdown",
   "id": "f7044fcd",
   "metadata": {},
   "source": [
    "    In the above example, the DataFrames df1 and df2 are merged on the 'ID' column, resulting in a new DataFrame merged_df that includes only the matching rows based on the 'ID'."
   ]
  },
  {
   "cell_type": "markdown",
   "id": "68aa7a4b",
   "metadata": {},
   "source": [
    "# Q11. How do you group data in a Pandas DataFrame by a specific column and apply an aggregation function?"
   ]
  },
  {
   "cell_type": "markdown",
   "id": "926c2384",
   "metadata": {},
   "source": [
    "\n",
    "    To group data in a Pandas DataFrame by a specific column and apply an aggregation function, you can use the groupby() function provided by Pandas. The groupby() function allows you to split the DataFrame into groups based on a column and perform various aggregations on each group."
   ]
  },
  {
   "cell_type": "code",
   "execution_count": 3,
   "id": "c3628ed5",
   "metadata": {},
   "outputs": [
    {
     "name": "stdout",
     "output_type": "stream",
     "text": [
      "Category\n",
      "A    55\n",
      "B    80\n",
      "Name: Value, dtype: int64\n"
     ]
    }
   ],
   "source": [
    "import pandas as pd\n",
    "\n",
    "# Create a sample DataFrame\n",
    "data = {\n",
    "    'Category': ['A', 'A', 'B', 'B', 'A', 'B'],\n",
    "    'Value': [10, 15, 20, 25, 30, 35]\n",
    "}\n",
    "\n",
    "df = pd.DataFrame(data)\n",
    "\n",
    "# Group the data by 'Category' and calculate the sum of 'Value' for each group\n",
    "grouped_df = df.groupby('Category')['Value'].sum()\n",
    "\n",
    "print(grouped_df)\n"
   ]
  },
  {
   "cell_type": "markdown",
   "id": "c5bc4a07",
   "metadata": {},
   "source": [
    "    In the above example, we have a DataFrame with two columns: 'Category' and 'Value'. We group the data by the 'Category' column using groupby('Category') and then apply the sum() function to the 'Value' column to calculate the sum of values for each category.\n",
    "\n",
    "    You can replace sum() with any other aggregation function like mean(), count(), max(), min(), etc., depending on the desired operation you want to perform on the grouped data."
   ]
  },
  {
   "cell_type": "markdown",
   "id": "eb5a8a77",
   "metadata": {},
   "source": [
    "# Q12. How do you pivot a Pandas DataFrame?"
   ]
  },
  {
   "cell_type": "markdown",
   "id": "0b58c4bb",
   "metadata": {},
   "source": [
    "    In Pandas, you can pivot a DataFrame using the pivot() function. The pivot() function reshapes the DataFrame by converting unique values from one column into multiple columns, creating a new DataFrame"
   ]
  },
  {
   "cell_type": "code",
   "execution_count": 4,
   "id": "ee597d57",
   "metadata": {},
   "outputs": [
    {
     "name": "stdout",
     "output_type": "stream",
     "text": [
      "Category     A   B\n",
      "Date              \n",
      "2021-01-01  10  20\n",
      "2021-01-02  15  25\n"
     ]
    }
   ],
   "source": [
    "import pandas as pd\n",
    "\n",
    "# Create a sample DataFrame\n",
    "data = {\n",
    "    'Date': ['2021-01-01', '2021-01-02', '2021-01-01', '2021-01-02'],\n",
    "    'Category': ['A', 'A', 'B', 'B'],\n",
    "    'Value': [10, 15, 20, 25]\n",
    "}\n",
    "\n",
    "df = pd.DataFrame(data)\n",
    "\n",
    "# Pivot the DataFrame\n",
    "pivoted_df = df.pivot(index='Date', columns='Category', values='Value')\n",
    "\n",
    "print(pivoted_df)\n"
   ]
  },
  {
   "cell_type": "markdown",
   "id": "b89d432a",
   "metadata": {},
   "source": [
    "    In the above example, we have a DataFrame with three columns: 'Date', 'Category', and 'Value'. We use the pivot() function and specify the column to use as the index (index='Date'), the column to use as the new column headers (columns='Category'), and the column whose values will fill the new columns (values='Value').\n",
    "\n",
    "    The resulting DataFrame pivoted_df has 'Date' as the index and 'Category' as the columns. The values in the 'Value' column are filled into the respective cells based on the 'Date' and 'Category' combinations.\n",
    "\n",
    "    Note that if there are duplicate values for the same 'Date' and 'Category' combination, the pivot() function will raise an error. In such cases, you may need to perform some preprocessing or aggregation of the data before pivoting.\n",
    "\n",
    "\n",
    "\n",
    "\n"
   ]
  },
  {
   "cell_type": "markdown",
   "id": "849f5e90",
   "metadata": {},
   "source": [
    "# Q13. How do you change the data type of a column in a Pandas DataFrame?"
   ]
  },
  {
   "cell_type": "markdown",
   "id": "41113aba",
   "metadata": {},
   "source": [
    "     To change the data type of a column in a Pandas DataFrame, you can use the astype() function or the to_numeric() function. Here's how you can use both methods:\n",
    "\n",
    "1. Using astype():"
   ]
  },
  {
   "cell_type": "code",
   "execution_count": 5,
   "id": "969c6e30",
   "metadata": {},
   "outputs": [
    {
     "name": "stdout",
     "output_type": "stream",
     "text": [
      "Column1    float64\n",
      "Column2     object\n",
      "dtype: object\n"
     ]
    }
   ],
   "source": [
    "import pandas as pd\n",
    "\n",
    "# Create a sample DataFrame\n",
    "data = {\n",
    "    'Column1': [1, 2, 3, 4, 5],\n",
    "    'Column2': ['A', 'B', 'C', 'D', 'E']\n",
    "}\n",
    "\n",
    "df = pd.DataFrame(data)\n",
    "\n",
    "# Change the data type of 'Column1' to float\n",
    "df['Column1'] = df['Column1'].astype(float)\n",
    "\n",
    "print(df.dtypes)\n"
   ]
  },
  {
   "cell_type": "markdown",
   "id": "be5f3da1",
   "metadata": {},
   "source": [
    "    In the above example, we have a DataFrame with two columns: 'Column1' and 'Column2'. We use the astype() function to change the data type of 'Column1' to float. The resulting data type can be verified using the dtypes attribute of the DataFrame.\n",
    "    \n",
    "2. Using to_numeric():"
   ]
  },
  {
   "cell_type": "code",
   "execution_count": 6,
   "id": "47eb20d8",
   "metadata": {},
   "outputs": [
    {
     "name": "stdout",
     "output_type": "stream",
     "text": [
      "Column1     int64\n",
      "Column2    object\n",
      "dtype: object\n"
     ]
    }
   ],
   "source": [
    "import pandas as pd\n",
    "\n",
    "# Create a sample DataFrame\n",
    "data = {\n",
    "    'Column1': [1, 2, 3, 4, 5],\n",
    "    'Column2': ['A', 'B', 'C', 'D', 'E']\n",
    "}\n",
    "\n",
    "df = pd.DataFrame(data)\n",
    "\n",
    "# Change the data type of 'Column1' to float\n",
    "df['Column1'] = pd.to_numeric(df['Column1'], errors='coerce')\n",
    "\n",
    "print(df.dtypes)\n"
   ]
  },
  {
   "cell_type": "markdown",
   "id": "ddd9d4ee",
   "metadata": {},
   "source": [
    "    In this example, we use the to_numeric() function to convert the values in 'Column1' to numeric data type. The errors='coerce' argument handles any non-numeric values by converting them to NaN (Not a Number). This allows changing the data type to float.\n",
    "\n",
    "Both methods provide flexibility in changing the data type of a column to the desired type, such as float, integer, datetime, etc."
   ]
  },
  {
   "cell_type": "markdown",
   "id": "4a72c9b0",
   "metadata": {},
   "source": [
    "# Q14. How do you sort a Pandas DataFrame by a specific column?"
   ]
  },
  {
   "cell_type": "markdown",
   "id": "7733d600",
   "metadata": {},
   "source": [
    "To sort a Pandas DataFrame by a specific column, you can use the sort_values() function. Here's an example:"
   ]
  },
  {
   "cell_type": "code",
   "execution_count": 7,
   "id": "672935bc",
   "metadata": {},
   "outputs": [
    {
     "name": "stdout",
     "output_type": "stream",
     "text": [
      "   Column1 Column2\n",
      "1        1       A\n",
      "3        2       B\n",
      "0        3       C\n",
      "2        4       D\n",
      "4        5       E\n"
     ]
    }
   ],
   "source": [
    "import pandas as pd\n",
    "\n",
    "# Create a sample DataFrame\n",
    "data = {\n",
    "    'Column1': [3, 1, 4, 2, 5],\n",
    "    'Column2': ['C', 'A', 'D', 'B', 'E']\n",
    "}\n",
    "\n",
    "df = pd.DataFrame(data)\n",
    "\n",
    "# Sort the DataFrame by 'Column1' in ascending order\n",
    "sorted_df = df.sort_values('Column1')\n",
    "\n",
    "print(sorted_df)\n"
   ]
  },
  {
   "cell_type": "markdown",
   "id": "0f1551e5",
   "metadata": {},
   "source": [
    "    In the above example, we have a DataFrame with two columns: 'Column1' and 'Column2'. We use the sort_values() function and specify the column to sort by ('Column1'). By default, sort_values() sorts the DataFrame in ascending order based on the specified column.\n",
    "\n",
    "If you want to sort the DataFrame in descending order, you can pass the ascending=False parameter to sort_values():"
   ]
  },
  {
   "cell_type": "code",
   "execution_count": 8,
   "id": "4329d755",
   "metadata": {},
   "outputs": [],
   "source": [
    "sorted_df = df.sort_values('Column1', ascending=False)\n"
   ]
  },
  {
   "cell_type": "markdown",
   "id": "0913f33b",
   "metadata": {},
   "source": [
    "This will sort the DataFrame in descending order based on 'Column1'.\n",
    "\n",
    "    You can also sort by multiple columns by passing a list of column names to sort_values(). The DataFrame will be sorted first by the first column, and then by the subsequent columns in the specified order. For example:"
   ]
  },
  {
   "cell_type": "code",
   "execution_count": 9,
   "id": "ea7a2b5b",
   "metadata": {},
   "outputs": [],
   "source": [
    "sorted_df = df.sort_values(['Column1', 'Column2'])\n"
   ]
  },
  {
   "cell_type": "markdown",
   "id": "8b589b73",
   "metadata": {},
   "source": [
    "    This will sort the DataFrame by 'Column1' in ascending order and then by 'Column2' in ascending order within each group of 'Column1'.\n",
    "\n",
    "    By default, sort_values() returns a new DataFrame with the sorted values. If you want to modify the original DataFrame in-place, you can use the inplace=True parameter:"
   ]
  },
  {
   "cell_type": "code",
   "execution_count": 10,
   "id": "9e6799b2",
   "metadata": {},
   "outputs": [],
   "source": [
    "df.sort_values('Column1', inplace=True)\n"
   ]
  },
  {
   "cell_type": "markdown",
   "id": "be685aa0",
   "metadata": {},
   "source": [
    "# Q15. How do you create a copy of a Pandas DataFrame?"
   ]
  },
  {
   "cell_type": "markdown",
   "id": "d69c9b6c",
   "metadata": {},
   "source": [
    "To create a copy of a Pandas DataFrame, you can use the copy() method.\n",
    "              Here's an example:"
   ]
  },
  {
   "cell_type": "code",
   "execution_count": 11,
   "id": "ca1f77e9",
   "metadata": {},
   "outputs": [
    {
     "name": "stdout",
     "output_type": "stream",
     "text": [
      "   Column1 Column2\n",
      "0        1       A\n",
      "1        2       B\n",
      "2        3       C\n",
      "3        4       D\n",
      "4        5       E\n",
      "   Column1 Column2\n",
      "0       10       A\n",
      "1       20       B\n",
      "2       30       C\n",
      "3       40       D\n",
      "4       50       E\n"
     ]
    }
   ],
   "source": [
    "import pandas as pd\n",
    "\n",
    "# Create a sample DataFrame\n",
    "data = {\n",
    "    'Column1': [1, 2, 3, 4, 5],\n",
    "    'Column2': ['A', 'B', 'C', 'D', 'E']\n",
    "}\n",
    "\n",
    "df = pd.DataFrame(data)\n",
    "\n",
    "# Create a copy of the DataFrame\n",
    "df_copy = df.copy()\n",
    "\n",
    "# Modify the copy\n",
    "df_copy['Column1'] = df_copy['Column1'] * 10\n",
    "\n",
    "print(df)\n",
    "print(df_copy)\n"
   ]
  },
  {
   "cell_type": "markdown",
   "id": "11ba8311",
   "metadata": {},
   "source": [
    "    In the above example, we create a DataFrame df with two columns: 'Column1' and 'Column2'. We then use the copy() method to create a copy of the DataFrame, stored in df_copy.\n",
    "\n",
    "    Modifying df_copy does not affect the original DataFrame df. As you can see in the output, the values in 'Column1' of df_copy have been multiplied by 10, while df remains unchanged.\n",
    "\n",
    "    Creating a copy of a DataFrame allows you to work with the data independently without altering the original DataFrame. It is especially useful when you want to make changes or apply operations to the copy while keeping the original data intact."
   ]
  },
  {
   "cell_type": "markdown",
   "id": "427ee5ff",
   "metadata": {},
   "source": [
    "# Q16. How do you filter rows of a Pandas DataFrame by multiple conditions?"
   ]
  },
  {
   "cell_type": "markdown",
   "id": "256c5e7f",
   "metadata": {},
   "source": [
    "\n",
    "    To filter rows of a Pandas DataFrame by multiple conditions, you can use the loc[] or boolean indexing. Here's an example using both methods:"
   ]
  },
  {
   "cell_type": "code",
   "execution_count": 12,
   "id": "482b2d56",
   "metadata": {},
   "outputs": [
    {
     "name": "stdout",
     "output_type": "stream",
     "text": [
      "Empty DataFrame\n",
      "Columns: [Name, Age, City]\n",
      "Index: []\n"
     ]
    }
   ],
   "source": [
    "import pandas as pd\n",
    "\n",
    "# Create a sample DataFrame\n",
    "data = {\n",
    "    'Name': ['Alice', 'Bob', 'Charlie', 'David', 'Eve'],\n",
    "    'Age': [25, 30, 35, 40, 45],\n",
    "    'City': ['New York', 'London', 'Paris', 'Tokyo', 'Sydney']\n",
    "}\n",
    "\n",
    "df = pd.DataFrame(data)\n",
    "\n",
    "# Filter rows using loc[]\n",
    "filtered_df = df.loc[(df['Age'] > 30) & (df['City'] == 'London')]\n",
    "\n",
    "print(filtered_df)\n"
   ]
  },
  {
   "cell_type": "markdown",
   "id": "c8e792dc",
   "metadata": {},
   "source": [
    "    In the above example, we have a DataFrame with three columns: 'Name', 'Age', and 'City'. We use the loc[] indexer to filter rows based on multiple conditions. In this case, we filter for rows where the 'Age' column is greater than 30 and the 'City' column is equal to 'London'.\n",
    "\n",
    "Another method to filter rows by multiple conditions is to use boolean indexing:"
   ]
  },
  {
   "cell_type": "code",
   "execution_count": 14,
   "id": "cf2a2d65",
   "metadata": {},
   "outputs": [
    {
     "data": {
      "text/html": [
       "<div>\n",
       "<style scoped>\n",
       "    .dataframe tbody tr th:only-of-type {\n",
       "        vertical-align: middle;\n",
       "    }\n",
       "\n",
       "    .dataframe tbody tr th {\n",
       "        vertical-align: top;\n",
       "    }\n",
       "\n",
       "    .dataframe thead th {\n",
       "        text-align: right;\n",
       "    }\n",
       "</style>\n",
       "<table border=\"1\" class=\"dataframe\">\n",
       "  <thead>\n",
       "    <tr style=\"text-align: right;\">\n",
       "      <th></th>\n",
       "      <th>Name</th>\n",
       "      <th>Age</th>\n",
       "      <th>City</th>\n",
       "    </tr>\n",
       "  </thead>\n",
       "  <tbody>\n",
       "  </tbody>\n",
       "</table>\n",
       "</div>"
      ],
      "text/plain": [
       "Empty DataFrame\n",
       "Columns: [Name, Age, City]\n",
       "Index: []"
      ]
     },
     "execution_count": 14,
     "metadata": {},
     "output_type": "execute_result"
    }
   ],
   "source": [
    "filtered_df = df[(df['Age'] > 30) & (df['City'] == 'London')]\n",
    "filtered_df"
   ]
  },
  {
   "cell_type": "markdown",
   "id": "0975a8e7",
   "metadata": {},
   "source": [
    "      The df[condition] syntax returns a DataFrame where the specified condition is True. In this example, we use the & operator to combine two conditions. The resulting DataFrame contains rows where both conditions are satisfied.\n",
    "\n",
    "     You can use various logical operators to combine multiple conditions, such as & (and), | (or), and ~ (not). Parentheses are used to group conditions and maintain the desired precedence.\n",
    "\n",
    "    Using either loc[] or boolean indexing allows you to filter rows of a DataFrame based on multiple conditions, providing flexibility in data selection and extraction."
   ]
  },
  {
   "cell_type": "markdown",
   "id": "ac3b5be9",
   "metadata": {},
   "source": [
    "# Q17. How do you calculate the mean of a column in a Pandas DataFrame?"
   ]
  },
  {
   "cell_type": "markdown",
   "id": "76a6c5f5",
   "metadata": {},
   "source": [
    "    To calculate the mean of a column in a Pandas DataFrame, you can use the mean() function. Here's an example:"
   ]
  },
  {
   "cell_type": "code",
   "execution_count": 15,
   "id": "716c3f5a",
   "metadata": {},
   "outputs": [
    {
     "name": "stdout",
     "output_type": "stream",
     "text": [
      "3.0\n"
     ]
    }
   ],
   "source": [
    "import pandas as pd\n",
    "\n",
    "# Create a sample DataFrame\n",
    "data = {\n",
    "    'Column1': [1, 2, 3, 4, 5]\n",
    "}\n",
    "\n",
    "df = pd.DataFrame(data)\n",
    "\n",
    "# Calculate the mean of 'Column1'\n",
    "column_mean = df['Column1'].mean()\n",
    "\n",
    "print(column_mean)\n"
   ]
  },
  {
   "cell_type": "markdown",
   "id": "af06c562",
   "metadata": {},
   "source": [
    "    In the above example, we have a DataFrame with one column called 'Column1'. We use the mean() function on the 'Column1' column to calculate its mean value. The result is stored in the variable column_mean.\n",
    "\n",
    "    The mean() function returns the average value of the column. It automatically excludes any missing or NaN values from the calculation.\n",
    "\n",
    "You can also calculate the mean of multiple columns by specifying multiple column names within the square brackets:"
   ]
  },
  {
   "cell_type": "markdown",
   "id": "a39fe9b8",
   "metadata": {},
   "source": [
    "    column_means = df[['Column1', 'Column2']].mean()"
   ]
  },
  {
   "cell_type": "markdown",
   "id": "0f82a5e6",
   "metadata": {},
   "source": [
    "\n",
    "    \n",
    "    This will calculate the means of 'Column1' and 'Column2' and return a Series with the mean values for each column.\n",
    "\n",
    "    By default, the mean() function calculates the arithmetic mean. If you want to calculate other types of means, such as the geometric mean or harmonic mean, you can use the scipy.stats module or other specialized libraries that provide specific mean calculations.\n"
   ]
  },
  {
   "cell_type": "markdown",
   "id": "60fb491b",
   "metadata": {},
   "source": [
    "# Q18. How do you calculate the standard deviation of a column in a Pandas DataFrame?"
   ]
  },
  {
   "cell_type": "markdown",
   "id": "8a5b0e25",
   "metadata": {},
   "source": [
    "    To calculate the standard deviation of a column in a Pandas DataFrame, use the std() function:"
   ]
  },
  {
   "cell_type": "markdown",
   "id": "52c7e1d0",
   "metadata": {},
   "source": [
    "    column_std = df['Column'].std()\n"
   ]
  },
  {
   "cell_type": "markdown",
   "id": "b48e3a94",
   "metadata": {},
   "source": [
    "Replace 'Column' with the actual column name. The result is the standard deviation value."
   ]
  },
  {
   "cell_type": "code",
   "execution_count": 17,
   "id": "a7aa4c23",
   "metadata": {},
   "outputs": [
    {
     "name": "stdout",
     "output_type": "stream",
     "text": [
      "1.5811388300841898\n"
     ]
    }
   ],
   "source": [
    "import pandas as pd\n",
    "\n",
    "# Create a sample DataFrame\n",
    "data = {\n",
    "    'Column1': [1, 2, 3, 4, 5]\n",
    "}\n",
    "\n",
    "df = pd.DataFrame(data)\n",
    "\n",
    "# Calculate the standard deviation of 'Column1'\n",
    "column_std = df['Column1'].std()\n",
    "\n",
    "print(column_std)\n"
   ]
  },
  {
   "cell_type": "markdown",
   "id": "e84575a1",
   "metadata": {},
   "source": [
    "# Q19. How do you calculate the correlation between two columns in a Pandas DataFrame?\n"
   ]
  },
  {
   "cell_type": "markdown",
   "id": "3c0a787d",
   "metadata": {},
   "source": [
    "     To calculate the correlation between two columns in a Pandas DataFrame, you can use the corr() function. Here's an example:\n",
    "\n"
   ]
  },
  {
   "cell_type": "code",
   "execution_count": 18,
   "id": "73a21605",
   "metadata": {},
   "outputs": [
    {
     "name": "stdout",
     "output_type": "stream",
     "text": [
      "0.9999999999999999\n"
     ]
    }
   ],
   "source": [
    "import pandas as pd\n",
    "\n",
    "# Create a sample DataFrame\n",
    "data = {\n",
    "    'Column1': [1, 2, 3, 4, 5],\n",
    "    'Column2': [2, 4, 6, 8, 10]\n",
    "}\n",
    "\n",
    "df = pd.DataFrame(data)\n",
    "\n",
    "# Calculate the correlation between 'Column1' and 'Column2'\n",
    "correlation = df['Column1'].corr(df['Column2'])\n",
    "\n",
    "print(correlation)\n"
   ]
  },
  {
   "cell_type": "markdown",
   "id": "5129daf1",
   "metadata": {},
   "source": [
    "    In the above example, we have a DataFrame with two columns: 'Column1' and 'Column2'. We use the corr() function to calculate the correlation between these two columns. The resulting correlation value is stored in the variable correlation.\n",
    "\n",
    "    The corr() function calculates the Pearson correlation coefficient by default, which measures the linear relationship between two variables. The correlation coefficient ranges from -1 to 1, where 1 represents a perfect positive correlation, -1 represents a perfect negative correlation, and 0 represents no correlation.\n",
    "\n",
    "    You can also calculate the correlation matrix for multiple columns by passing a DataFrame or a subset of columns to the corr() function:"
   ]
  },
  {
   "cell_type": "markdown",
   "id": "ccbb7b9b",
   "metadata": {},
   "source": [
    "    correlation_matrix = df[['Column1', 'Column2', 'Column3']].corr()\n"
   ]
  },
  {
   "cell_type": "markdown",
   "id": "1802f980",
   "metadata": {},
   "source": [
    "    This will calculate the correlation coefficients between 'Column1', 'Column2', and 'Column3' and return a correlation matrix DataFrame.\n",
    "\n",
    "    Note that the corr() function excludes any missing or NaN values pair-wise from the calculation. If you want to include missing values and treat them as NaN, you can use the corr() function with the method='pearson' parameter and min_periods to set the minimum number of valid observations required to compute the correlation:"
   ]
  },
  {
   "cell_type": "markdown",
   "id": "19e5476f",
   "metadata": {},
   "source": [
    "    correlation = df['Column1'].corr(df['Column2'], method='pearson', min_periods=1)\n"
   ]
  },
  {
   "cell_type": "markdown",
   "id": "699adc2c",
   "metadata": {},
   "source": [
    "    This will calculate the correlation while considering missing values as NaN and computing the correlation with at least 1 valid observation.\n",
    "\n",
    "    Other correlation methods such as Kendall's rank correlation (method='kendall') and Spearman's rank correlation (method='spearman') can also be used with the corr() function."
   ]
  },
  {
   "cell_type": "markdown",
   "id": "4cd242cf",
   "metadata": {},
   "source": [
    "# Q20. How do you select specific columns in a DataFrame using their labels?\n"
   ]
  },
  {
   "cell_type": "markdown",
   "id": "a8813903",
   "metadata": {},
   "source": [
    "    To select specific columns in a Pandas DataFrame using their labels, you can use the indexing operator [] or the loc[] accessor. Here's an example:"
   ]
  },
  {
   "cell_type": "code",
   "execution_count": 19,
   "id": "36ed9cef",
   "metadata": {},
   "outputs": [
    {
     "name": "stdout",
     "output_type": "stream",
     "text": [
      "   Column1  Column3\n",
      "0        1       10\n",
      "1        2       20\n",
      "2        3       30\n",
      "3        4       40\n",
      "4        5       50\n"
     ]
    }
   ],
   "source": [
    "import pandas as pd\n",
    "\n",
    "# Create a sample DataFrame\n",
    "data = {\n",
    "    'Column1': [1, 2, 3, 4, 5],\n",
    "    'Column2': ['A', 'B', 'C', 'D', 'E'],\n",
    "    'Column3': [10, 20, 30, 40, 50]\n",
    "}\n",
    "\n",
    "df = pd.DataFrame(data)\n",
    "\n",
    "# Select specific columns using indexing operator []\n",
    "selected_columns = df[['Column1', 'Column3']]\n",
    "\n",
    "print(selected_columns)\n"
   ]
  },
  {
   "cell_type": "markdown",
   "id": "8d274aff",
   "metadata": {},
   "source": [
    "     In the above example, we have a DataFrame with three columns: 'Column1', 'Column2', and 'Column3'. We use the indexing operator [] and provide a list of column names ['Column1', 'Column3'] to select specific columns. The resulting DataFrame selected_columns contains only the selected columns.\n",
    "\n",
    "Alternatively, you can use the loc[] accessor to select columns by labels:"
   ]
  },
  {
   "cell_type": "code",
   "execution_count": 20,
   "id": "d232b6b1",
   "metadata": {},
   "outputs": [],
   "source": [
    "selected_columns = df.loc[:, ['Column1', 'Column3']]\n"
   ]
  },
  {
   "cell_type": "markdown",
   "id": "608b0df3",
   "metadata": {},
   "source": [
    "    Here, the : in df.loc[:, ['Column1', 'Column3']] indicates that we want to select all rows (:) and the list ['Column1', 'Column3'] specifies the desired column labels.\n",
    "\n",
    "Both methods allow you to select specific columns by their labels and create a new DataFrame containing only the selected columns."
   ]
  },
  {
   "cell_type": "markdown",
   "id": "0bd122f6",
   "metadata": {},
   "source": [
    "# Q21. How do you select specific rows in a DataFrame using their indexes?"
   ]
  },
  {
   "cell_type": "markdown",
   "id": "c3f2ca04",
   "metadata": {},
   "source": [
    "    To select specific rows in a Pandas DataFrame using their indexes, you can use the loc[] accessor or boolean indexing. Here's an example:"
   ]
  },
  {
   "cell_type": "code",
   "execution_count": 21,
   "id": "ab7859e1",
   "metadata": {},
   "outputs": [
    {
     "name": "stdout",
     "output_type": "stream",
     "text": [
      "   Column1 Column2  Column3\n",
      "a        1       A       10\n",
      "c        3       C       30\n",
      "e        5       E       50\n"
     ]
    }
   ],
   "source": [
    "import pandas as pd\n",
    "\n",
    "# Create a sample DataFrame\n",
    "data = {\n",
    "    'Column1': [1, 2, 3, 4, 5],\n",
    "    'Column2': ['A', 'B', 'C', 'D', 'E'],\n",
    "    'Column3': [10, 20, 30, 40, 50]\n",
    "}\n",
    "\n",
    "df = pd.DataFrame(data, index=['a', 'b', 'c', 'd', 'e'])\n",
    "\n",
    "# Select specific rows using loc[]\n",
    "selected_rows = df.loc[['a', 'c', 'e']]\n",
    "\n",
    "print(selected_rows)\n"
   ]
  },
  {
   "cell_type": "markdown",
   "id": "b1aa0e88",
   "metadata": {},
   "source": [
    "    In the above example, we have a DataFrame with three columns: 'Column1', 'Column2', and 'Column3', and we set custom row indexes using the index parameter. We use the loc[] accessor and provide a list of row labels ['a', 'c', 'e'] to select specific rows. The resulting DataFrame selected_rows contains only the selected rows.\n",
    "\n",
    "Alternatively, you can use boolean indexing to select rows based on conditions:"
   ]
  },
  {
   "cell_type": "code",
   "execution_count": 23,
   "id": "2b94558a",
   "metadata": {},
   "outputs": [
    {
     "name": "stdout",
     "output_type": "stream",
     "text": [
      "   Column1 Column2  Column3\n",
      "d        4       D       40\n",
      "e        5       E       50\n"
     ]
    }
   ],
   "source": [
    "selected_rows = df[df['Column1'] > 3]\n",
    "print(selected_rows)\n"
   ]
  },
  {
   "cell_type": "markdown",
   "id": "b275e736",
   "metadata": {},
   "source": [
    "    This selects rows where the value in 'Column1' is greater than 3. You can customize the condition based on your specific requirements.\n",
    "\n",
    "Both methods allow you to select specific rows by their indexes or based on certain conditions. The resulting DataFrame will contain only the selected rows."
   ]
  },
  {
   "cell_type": "markdown",
   "id": "24bc1aea",
   "metadata": {},
   "source": [
    "# Q22. How do you sort a DataFrame by a specific column?"
   ]
  },
  {
   "cell_type": "markdown",
   "id": "8ea281fe",
   "metadata": {},
   "source": [
    "    To sort a Pandas DataFrame by a specific column, you can use the sort_values() function. Here's an example:"
   ]
  },
  {
   "cell_type": "code",
   "execution_count": 24,
   "id": "a4d9fc66",
   "metadata": {},
   "outputs": [
    {
     "name": "stdout",
     "output_type": "stream",
     "text": [
      "      Name  Age      City\n",
      "0    Alice   25  New York\n",
      "1      Bob   30    London\n",
      "2  Charlie   35     Paris\n",
      "3    David   40     Tokyo\n",
      "4      Eve   45    Sydney\n"
     ]
    }
   ],
   "source": [
    "import pandas as pd\n",
    "\n",
    "# Create a sample DataFrame\n",
    "data = {\n",
    "    'Name': ['Alice', 'Bob', 'Charlie', 'David', 'Eve'],\n",
    "    'Age': [25, 30, 35, 40, 45],\n",
    "    'City': ['New York', 'London', 'Paris', 'Tokyo', 'Sydney']\n",
    "}\n",
    "\n",
    "df = pd.DataFrame(data)\n",
    "\n",
    "# Sort DataFrame by 'Age' column in ascending order\n",
    "sorted_df = df.sort_values('Age')\n",
    "\n",
    "print(sorted_df)\n"
   ]
  },
  {
   "cell_type": "markdown",
   "id": "a577fda4",
   "metadata": {},
   "source": [
    "    In the above example, we have a DataFrame with three columns: 'Name', 'Age', and 'City'. We use the sort_values() function and specify the column name 'Age' as the parameter to sort the DataFrame by the 'Age' column. By default, the sorting is done in ascending order.\n",
    "\n",
    "To sort the DataFrame in descending order, you can pass the ascending=False parameter:"
   ]
  },
  {
   "cell_type": "code",
   "execution_count": 26,
   "id": "da2f5c84",
   "metadata": {},
   "outputs": [
    {
     "name": "stdout",
     "output_type": "stream",
     "text": [
      "      Name  Age      City\n",
      "4      Eve   45    Sydney\n",
      "3    David   40     Tokyo\n",
      "2  Charlie   35     Paris\n",
      "1      Bob   30    London\n",
      "0    Alice   25  New York\n"
     ]
    }
   ],
   "source": [
    "sorted_df = df.sort_values('Age', ascending=False)\n",
    "print(sorted_df)"
   ]
  },
  {
   "cell_type": "markdown",
   "id": "80ffeedb",
   "metadata": {},
   "source": [
    "    This will sort the DataFrame by the 'Age' column in descending order.\n",
    "\n",
    "You can also sort by multiple columns by passing a list of column names to the sort_values() function:"
   ]
  },
  {
   "cell_type": "code",
   "execution_count": 27,
   "id": "6f02ea66",
   "metadata": {},
   "outputs": [
    {
     "name": "stdout",
     "output_type": "stream",
     "text": [
      "      Name  Age      City\n",
      "0    Alice   25  New York\n",
      "1      Bob   30    London\n",
      "2  Charlie   35     Paris\n",
      "3    David   40     Tokyo\n",
      "4      Eve   45    Sydney\n"
     ]
    }
   ],
   "source": [
    "sorted_df = df.sort_values(['Age', 'Name'])\n",
    "print(sorted_df)"
   ]
  },
  {
   "cell_type": "markdown",
   "id": "965000e0",
   "metadata": {},
   "source": [
    "    This will sort the DataFrame first by the 'Age' column in ascending order and then by the 'Name' column in ascending order.\n",
    "\n",
    "     The sort_values() function returns a new sorted DataFrame while leaving the original DataFrame unchanged."
   ]
  },
  {
   "cell_type": "markdown",
   "id": "a7cb76db",
   "metadata": {},
   "source": [
    "# Q23. How do you create a new column in a DataFrame based on the values of another column?"
   ]
  },
  {
   "cell_type": "markdown",
   "id": "697fb781",
   "metadata": {},
   "source": [
    "    To create a new column in a Pandas DataFrame based on the values of another column, you can assign a new column name to the DataFrame indexing operator [] and provide the desired calculation or transformation. Here's an example:"
   ]
  },
  {
   "cell_type": "code",
   "execution_count": 28,
   "id": "d076452c",
   "metadata": {},
   "outputs": [
    {
     "name": "stdout",
     "output_type": "stream",
     "text": [
      "      Name  Age  Age_5_years_later\n",
      "0    Alice   25                 30\n",
      "1      Bob   30                 35\n",
      "2  Charlie   35                 40\n",
      "3    David   40                 45\n",
      "4      Eve   45                 50\n"
     ]
    }
   ],
   "source": [
    "import pandas as pd\n",
    "\n",
    "# Create a sample DataFrame\n",
    "data = {\n",
    "    'Name': ['Alice', 'Bob', 'Charlie', 'David', 'Eve'],\n",
    "    'Age': [25, 30, 35, 40, 45]\n",
    "}\n",
    "\n",
    "df = pd.DataFrame(data)\n",
    "\n",
    "# Create a new column 'Age_5_years_later' based on the values of the 'Age' column\n",
    "df['Age_5_years_later'] = df['Age'] + 5\n",
    "\n",
    "print(df)\n"
   ]
  },
  {
   "cell_type": "markdown",
   "id": "b0200b40",
   "metadata": {},
   "source": [
    "    In the above example, we have a DataFrame with two columns: 'Name' and 'Age'. We create a new column called 'Age_5_years_later' by assigning df['Age'] + 5 to it. This expression performs an element-wise calculation, adding 5 to each value in the 'Age' column.\n",
    "\n",
    "You can customize the calculation or transformation based on your specific requirements. For example, you can use mathematical operations, apply functions, or combine values from multiple columns to create the new column.\n",
    "\n",
    "Note that the number of values in the new column should match the number of rows in the DataFrame. If you provide a single value, it will be broadcasted to all rows of the new column.\n",
    "\n",
    "By assigning a new value to a non-existing column name, Pandas automatically creates the new column and populates it with the assigned values. The original DataFrame is modified in-place with the new column added."
   ]
  },
  {
   "cell_type": "markdown",
   "id": "cea5cf44",
   "metadata": {},
   "source": [
    "# Q24. How do you remove duplicates from a DataFrame?"
   ]
  },
  {
   "cell_type": "markdown",
   "id": "2dde21cb",
   "metadata": {},
   "source": [
    "To remove duplicates from a Pandas DataFrame, you can use the drop_duplicates() function. Here's an example:"
   ]
  },
  {
   "cell_type": "code",
   "execution_count": 29,
   "id": "0e698d2d",
   "metadata": {},
   "outputs": [
    {
     "name": "stdout",
     "output_type": "stream",
     "text": [
      "      Name  Age\n",
      "0    Alice   25\n",
      "1      Bob   30\n",
      "2  Charlie   35\n",
      "4    David   40\n"
     ]
    }
   ],
   "source": [
    "import pandas as pd\n",
    "\n",
    "# Create a sample DataFrame with duplicates\n",
    "data = {\n",
    "    'Name': ['Alice', 'Bob', 'Charlie', 'Alice', 'David', 'Bob'],\n",
    "    'Age': [25, 30, 35, 25, 40, 30]\n",
    "}\n",
    "\n",
    "df = pd.DataFrame(data)\n",
    "\n",
    "# Remove duplicates based on all columns\n",
    "df_no_duplicates = df.drop_duplicates()\n",
    "\n",
    "print(df_no_duplicates)\n"
   ]
  },
  {
   "cell_type": "markdown",
   "id": "99b097be",
   "metadata": {},
   "source": [
    "    In the above example, we have a DataFrame with two columns: 'Name' and 'Age'. We use the drop_duplicates() function to remove duplicates from the DataFrame. By default, it considers all columns when identifying duplicates.\n",
    "\n",
    "    The resulting DataFrame df_no_duplicates contains only the unique rows, and any duplicates are removed.\n",
    "\n",
    "You can also specify specific columns to consider when removing duplicates by passing a list of column names to the subset parameter:"
   ]
  },
  {
   "cell_type": "code",
   "execution_count": 30,
   "id": "8418d1a0",
   "metadata": {},
   "outputs": [
    {
     "name": "stdout",
     "output_type": "stream",
     "text": [
      "      Name  Age\n",
      "0    Alice   25\n",
      "1      Bob   30\n",
      "2  Charlie   35\n",
      "4    David   40\n"
     ]
    }
   ],
   "source": [
    "df_no_duplicates = df.drop_duplicates(subset=['Name'])\n",
    "print(df_no_duplicates)"
   ]
  },
  {
   "cell_type": "markdown",
   "id": "6ea6947f",
   "metadata": {},
   "source": [
    "    In this case, only the 'Name' column is considered when identifying duplicates, and rows with duplicated 'Name' values are removed.\n",
    "\n",
    "By default, the first occurrence of a duplicated row is kept, and all subsequent occurrences are removed. You can change this behavior by specifying the keep parameter. For example, to keep the last occurrence and remove all previous duplicates:"
   ]
  },
  {
   "cell_type": "code",
   "execution_count": 31,
   "id": "8c485695",
   "metadata": {},
   "outputs": [
    {
     "name": "stdout",
     "output_type": "stream",
     "text": [
      "      Name  Age\n",
      "2  Charlie   35\n",
      "3    Alice   25\n",
      "4    David   40\n",
      "5      Bob   30\n"
     ]
    }
   ],
   "source": [
    "df_no_duplicates = df.drop_duplicates(keep='last')\n",
    "print(df_no_duplicates)"
   ]
  },
  {
   "cell_type": "markdown",
   "id": "c72baffa",
   "metadata": {},
   "source": [
    "This will keep the last occurrence of each duplicated row and remove the rest.\n",
    "\n",
    "The drop_duplicates() function returns a new DataFrame with duplicates removed, while leaving the original DataFrame unchanged."
   ]
  },
  {
   "cell_type": "markdown",
   "id": "df24b0c3",
   "metadata": {},
   "source": [
    "# Q25. What is the difference between .loc and .iloc in Pandas?"
   ]
  },
  {
   "cell_type": "markdown",
   "id": "a8e8f570",
   "metadata": {},
   "source": [
    "In Pandas, both .loc and .iloc are used for indexing and selecting data in a DataFrame or Series, but they differ in how they reference and access the data.\n",
    "\n",
    ".loc is primarily label-based and is used to access data by specifying explicit labels of rows and columns. It allows you to use meaningful index labels or column names to perform data selection. Here are a few examples of using .loc:"
   ]
  },
  {
   "cell_type": "code",
   "execution_count": null,
   "id": "00675a79",
   "metadata": {},
   "outputs": [],
   "source": [
    "# Access a single value\n",
    "df.loc[row_label, column_label]\n",
    "\n",
    "# Access a row\n",
    "df.loc[row_label]\n",
    "\n",
    "# Access multiple rows\n",
    "df.loc[start_label:end_label]\n",
    "\n",
    "# Access specific rows and columns\n",
    "df.loc[row_label_1:row_label_2, column_label_1:column_label_2]\n",
    "\n",
    "# Access rows based on a condition\n",
    "df.loc[df['column'] > value]\n"
   ]
  },
  {
   "cell_type": "markdown",
   "id": "2367310e",
   "metadata": {},
   "source": [
    "    On the other hand, .iloc is primarily integer-based and is used for accessing data by specifying integer-based positions of rows and columns. It is useful when you want to select data using integer-based indexing, regardless of the label values. Here are a few examples of using .iloc:"
   ]
  },
  {
   "cell_type": "code",
   "execution_count": null,
   "id": "533a9de0",
   "metadata": {},
   "outputs": [],
   "source": [
    "# Access a single value\n",
    "df.iloc[row_index, column_index]\n",
    "\n",
    "# Access a row\n",
    "df.iloc[row_index]\n",
    "\n",
    "# Access multiple rows\n",
    "df.iloc[start_index:end_index]\n",
    "\n",
    "# Access specific rows and columns\n",
    "df.iloc[row_index_1:row_index_2, column_index_1:column_index_2]\n"
   ]
  },
  {
   "cell_type": "markdown",
   "id": "06e40833",
   "metadata": {},
   "source": [
    "    In summary, the main difference between .loc and .iloc is the way they reference and access data. .loc uses label-based indexing, while .iloc uses integer-based indexing. Use .loc when you want to access data using labels, and use .iloc when you want to access data using integer positions"
   ]
  },
  {
   "cell_type": "code",
   "execution_count": null,
   "id": "f6b11f13",
   "metadata": {},
   "outputs": [],
   "source": []
  }
 ],
 "metadata": {
  "kernelspec": {
   "display_name": "Python 3 (ipykernel)",
   "language": "python",
   "name": "python3"
  },
  "language_info": {
   "codemirror_mode": {
    "name": "ipython",
    "version": 3
   },
   "file_extension": ".py",
   "mimetype": "text/x-python",
   "name": "python",
   "nbconvert_exporter": "python",
   "pygments_lexer": "ipython3",
   "version": "3.9.7"
  }
 },
 "nbformat": 4,
 "nbformat_minor": 5
}
