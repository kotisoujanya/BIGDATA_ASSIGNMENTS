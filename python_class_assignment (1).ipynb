{
 "cells": [
  {
   "cell_type": "markdown",
   "id": "3e23c08b",
   "metadata": {},
   "source": [
    "# Q1. Why do we call Python as a general purpose and high-level programming language?\n",
    "\n",
    "    Python is an object-oriented, high-level programming language. Object-oriented means this language is based\n",
    "    around objects (such as data) rather than functions, and high-level means it's easy for humans to understand.\n",
    "    In computer software, a general-purpose programming language (GPL) is a programming language designed to be used\n",
    "    for building software in a wide variety of application domains, across a multitude of hardware configurations and \n",
    "    operating systems."
   ]
  },
  {
   "cell_type": "markdown",
   "id": "31b35ae0",
   "metadata": {},
   "source": [
    "# Q2. Why is Python called a dynamically typed language?\n",
    "    \n",
    "    In the python language we need not to mention statically the datatype of the data,python interpreter takecare\n",
    "    of the datatype dynamically "
   ]
  },
  {
   "cell_type": "markdown",
   "id": "8d5ee9bb",
   "metadata": {},
   "source": [
    "# Q3. List some pros and cons of Python programming language?\n",
    "\n",
    "     \n",
    "     pros:\n",
    "     python is easy to learn and read\n",
    "     python enhances productivity\n",
    "     python has a vast collection of libraries\n",
    "     python is free,open_source and has a vibrant community\n",
    "     python is a portable language\n",
    "     python is a interpreted language\n",
    "     \n",
    "     cons:\n",
    "     python has speed limitations\n",
    "     python is not so strong with mobile computing\n",
    "     python can have runtime errors\n",
    "     Python consumes a lot of memory space\n",
    "     Python is not easy to test\n",
    "     "
   ]
  },
  {
   "cell_type": "markdown",
   "id": "12ad8b03",
   "metadata": {},
   "source": [
    "# Q4. In what all domains can we use Python?\n",
    "\n",
    "     python is used in Artificial inteligence(AI)\n",
    "     Machine Learning\n",
    "     Deep Learning\n",
    "     Data science applications\n",
    "  "
   ]
  },
  {
   "cell_type": "markdown",
   "id": "c0305dc4",
   "metadata": {},
   "source": [
    "# Q5. What are variable and how can we declare them?\n",
    "    \n",
    "    an identifier is a word and  it is used to identify variables,methods,functions,classes....etc.\n",
    "    It can be a variable name,method name,function name,classname..ete\n",
    "    Variable:variable is a container that contains data\n",
    "    Rules to declear an identifier:\n",
    "    1.It can be formed by using alphabets(A to Z &a to z),digits(0 to 9),&underscore symbol(_).\n",
    "    2.It must start with alphabets and underscore symbol only\n",
    "    3.length of the identifier(variable) is not limited.\n",
    "    4.It shoud not contain special symbol other than underscore symbol\n",
    "    5.it should not contain white space character(space bar,tab&enter keys)"
   ]
  },
  {
   "cell_type": "markdown",
   "id": "bcb79e38",
   "metadata": {},
   "source": [
    "# Q6. How can we take an input from the user in Python?\n",
    "     \n",
    "     Here we are using the input() function (python In-Build function)."
   ]
  },
  {
   "cell_type": "markdown",
   "id": "60ddb975",
   "metadata": {},
   "source": [
    "# Q7. What is the default datatype of the value that has been taken as an input using input() function?\n",
    "\n",
    "      \"String\" litral is the default datatype of the value  when we use input() function as ainput."
   ]
  },
  {
   "cell_type": "markdown",
   "id": "36c97b91",
   "metadata": {},
   "source": [
    "# Q8. What is type casting?\n",
    "    \n",
    "    changing the one datatype to another data type is known as type casting."
   ]
  },
  {
   "cell_type": "markdown",
   "id": "79c17f8c",
   "metadata": {},
   "source": [
    "# Q9. Can we take more than one input from the user using single input() function? If yes, how? If no, why?\n",
    "     \n",
    "     No,at a time only one input will be taken by using only single input() function.\n",
    "     yes,when we use split() function along with input() function we can take multiple inputs by the user\n",
    "      "
   ]
  },
  {
   "cell_type": "markdown",
   "id": "034cdbcd",
   "metadata": {},
   "source": [
    "# Q10. What are keywords?\n",
    "\n",
    "    A set of words reserved by language itself and those words are known as keywords.\n",
    "    In python there are 36 keywords right now\n",
    "    \n",
    "    "
   ]
  },
  {
   "cell_type": "code",
   "execution_count": 75,
   "id": "f4d21134",
   "metadata": {},
   "outputs": [
    {
     "name": "stdout",
     "output_type": "stream",
     "text": [
      "['False', 'None', 'True', '__peg_parser__', 'and', 'as', 'assert', 'async', 'await', 'break', 'class', 'continue', 'def', 'del', 'elif', 'else', 'except', 'finally', 'for', 'from', 'global', 'if', 'import', 'in', 'is', 'lambda', 'nonlocal', 'not', 'or', 'pass', 'raise', 'return', 'try', 'while', 'with', 'yield']\n"
     ]
    },
    {
     "data": {
      "text/plain": [
       "36"
      ]
     },
     "execution_count": 75,
     "metadata": {},
     "output_type": "execute_result"
    }
   ],
   "source": [
    "import keyword\n",
    "print(keyword.kwlist)\n",
    "len(keyword.kwlist)"
   ]
  },
  {
   "cell_type": "markdown",
   "id": "f0a3f3ef",
   "metadata": {},
   "source": [
    "# Q11. Can we use keywords as a variable? Support your answer with reason.\n",
    "    \n",
    "    No, we can not use the keywords as a variable\n",
    "    Keywords are used to define the syntax of the coding. The keyword cannot be used as an identifier, function, and\n",
    "    variable name. All the keywords in python are written in lower case except True and False"
   ]
  },
  {
   "cell_type": "markdown",
   "id": "902f8a45",
   "metadata": {},
   "source": [
    "# Q12. What is indentation? What's the use of indentaion in Python?\n",
    "      \n",
    "      Indentation is basically the leading white space character added at the beginning of statements to indicate\n",
    "      a block of code.The main purpose of indenting the code is to separate the blocks of code. Besides, it also \n",
    "      improves the readability of the code."
   ]
  },
  {
   "cell_type": "markdown",
   "id": "af26bebe",
   "metadata": {},
   "source": [
    "# Q13. How can we throw some output in Python?\n",
    "\n",
    "     Using the print() function(In-Build python function) we can print the output."
   ]
  },
  {
   "cell_type": "markdown",
   "id": "6422b986",
   "metadata": {},
   "source": [
    "# Q14. What are operators in Python?\n",
    "\n",
    "      An operator is a special symbol which operates on data.\n",
    "      In python operators are divided into 8 categories\n",
    "      1.Arithemetic operators\n",
    "         +  ---> addition\n",
    "         -  ---> subtration\n",
    "         *  ---> multipication\n",
    "         /  ---> division\n",
    "         // ---> floor division\n",
    "         %  --->modulo division\n",
    "         ** ---> exponential\n",
    "      2.relational operators (these operators always returns bool type date)\n",
    "         <  ---> lessthan\n",
    "         >  ---> greaterthan\n",
    "         <= ---> lessthan or equals to\n",
    "         >= ---> greaterthan or equals to\n",
    "         == ---> equals to\n",
    "         != ---> not equals to\n",
    "      3.logical operators (these operators always returns bool type date)\n",
    "         and  ---> logical AND\n",
    "         or   ---> logical OR\n",
    "         not  ---> logical NOT\n",
    "      4.bitwise operators\n",
    "         &  ---> bitwise AND\n",
    "         |  ---> bitwise OR\n",
    "         ^  ---> bitwise XOR\n",
    "         << ---> left shift\n",
    "         >> ---> right shift\n",
    "         ~  ---> complement(Tilde)\n",
    "      5.Assignment operators\n",
    "         =     ---> normal assignment\n",
    "         a+=b  ---> a=a+b\n",
    "         a-=b  ---> a=a-b\n",
    "         a*=b  ---> a=a*b\n",
    "         a/=b  ---> a=a/b\n",
    "         a//=b ---> a=a//b\n",
    "         a%=b  ---> a=a%b\n",
    "         a**=b ---> a=a**b\n",
    "         a&=b  ---> a=a&b\n",
    "         a|=b  ---> a=a|b\n",
    "         a^=b  ---> a=a^b\n",
    "         a<<=b ---> a=a<<b\n",
    "         a>>=b ---> a=a>>b\n",
    "      6.membership operators\n",
    "      7.identity operators\n",
    "      8.unary plus & unary minus operators\n",
    "      "
   ]
  },
  {
   "cell_type": "markdown",
   "id": "a9a0ee98",
   "metadata": {},
   "source": [
    "# Q15. What is difference between / and // operators?\n",
    "\n",
    "       \" / \" is divison operator it ruturns Quotient in float format\n",
    "       \"//\"  is a floor division operator it ruturns quotient in integer format"
   ]
  },
  {
   "cell_type": "markdown",
   "id": "d624a00d",
   "metadata": {},
   "source": [
    "# Q16. Write a code that gives following as an output.\n",
    "\n",
    "    iNeuroniNeuroniNeuroniNeuron\n",
    "\n",
    "example:\n"
   ]
  },
  {
   "cell_type": "code",
   "execution_count": 76,
   "id": "15d8a6a5",
   "metadata": {},
   "outputs": [
    {
     "name": "stdout",
     "output_type": "stream",
     "text": [
      "iNeuroniNeuroniNeuroniNeuron\n"
     ]
    }
   ],
   "source": [
    " print(\"iNeuron\"*4)"
   ]
  },
  {
   "cell_type": "markdown",
   "id": "5fc0a604",
   "metadata": {},
   "source": [
    "# Q17. Write a code to take a number as an input from the user and check if the number is odd or even."
   ]
  },
  {
   "cell_type": "code",
   "execution_count": 77,
   "id": "34a74f8d",
   "metadata": {},
   "outputs": [
    {
     "name": "stdout",
     "output_type": "stream",
     "text": [
      "enter a number: 52\n",
      "given input number is even number\n"
     ]
    }
   ],
   "source": [
    "# Q17. Write a code to take a number as an input from the user and check if the number is odd or even.\n",
    "x=int(input(\"enter a number: \"))\n",
    "if x%2==0:\n",
    "    print(\"given input number is even number\")\n",
    "#elif:\n",
    "   # print(\"given number is odd number \")\n",
    "else:\n",
    "    print(\"given input number is odd\")"
   ]
  },
  {
   "cell_type": "markdown",
   "id": "fb739e4d",
   "metadata": {},
   "source": [
    "# Q18. What are boolean operator?\n",
    "   \n",
    "    Logical And\n",
    "    logical OR\n",
    "    logical NOT and relational operatores like >,<,<=,>=,==,!= also  returns bool values(True and false)"
   ]
  },
  {
   "cell_type": "markdown",
   "id": "ed1161db",
   "metadata": {},
   "source": [
    "# Q19. What will the output of the following?"
   ]
  },
  {
   "cell_type": "code",
   "execution_count": 78,
   "id": "50e50882",
   "metadata": {},
   "outputs": [
    {
     "name": "stdout",
     "output_type": "stream",
     "text": [
      "1\n",
      "0\n",
      "False\n",
      "1\n"
     ]
    }
   ],
   "source": [
    "# Q19. What will the output of the following?\n",
    "\"\"\"\n",
    "1 or 0    \n",
    "0 and 0\n",
    "True and False and True\n",
    "1 or 0 or 0 \"\"\"\n",
    "print(0 or 1)\n",
    "print(0 and 0)\n",
    "print(True and False and True)\n",
    "print(1 or 0 or 0)\n"
   ]
  },
  {
   "cell_type": "markdown",
   "id": "62b58db7",
   "metadata": {},
   "source": [
    "# Q20. What are conditional statements in Python?\n",
    "\n",
    "       The if statement is a conditional statement in python, that is used to determine whether a block of code will be executed or not\n",
    "       if conditional statement\n",
    "       if-else statement\n",
    "       if-elif---else statement\n",
    "       Nested if  statement   \n",
    "       "
   ]
  },
  {
   "cell_type": "markdown",
   "id": "ba8e2e5e",
   "metadata": {},
   "source": [
    "# Q21. What is use of 'if', 'elif' and 'else' keywords?\n",
    "     \n",
    "     \n",
    "     It allows us to check for multiple expressions. If the condition for if is False , it checks the condition of the next          \n",
    "     elif block and so on. If all the conditions are False , the body of else is executed."
   ]
  },
  {
   "cell_type": "markdown",
   "id": "024dc8c8",
   "metadata": {},
   "source": [
    "# Q22. Write a code to take the age of person as an input and if age >= 18 display \"I can vote\". If age is < 18 display \"I can't vote\"."
   ]
  },
  {
   "cell_type": "code",
   "execution_count": 41,
   "id": "2227511c",
   "metadata": {},
   "outputs": [
    {
     "name": "stdout",
     "output_type": "stream",
     "text": [
      "enter the age of the person: 12\n",
      " i cann't vote\n"
     ]
    }
   ],
   "source": [
    "age=int(input(\"enter the age of the person: \"))\n",
    "if age>=18:\n",
    "    print(\"i can vote\")\n",
    "else:\n",
    "    print(\" i cann't vote\")"
   ]
  },
  {
   "cell_type": "markdown",
   "id": "d52b4368",
   "metadata": {},
   "source": [
    "# Q23. Write a code that displays the sum of all the even numbers from the given list.\n",
    "\n",
    "numbers = [12, 75, 150, 180, 145, 525, 50]"
   ]
  },
  {
   "cell_type": "code",
   "execution_count": 42,
   "id": "c2457946",
   "metadata": {},
   "outputs": [
    {
     "name": "stdout",
     "output_type": "stream",
     "text": [
      "sum of the even numbers in a given list:  12\n",
      " after  adding 12\n",
      "sum of the even numbers in a given list:  162\n",
      " after  adding 162\n",
      "sum of the even numbers in a given list:  342\n",
      " after  adding 342\n",
      "sum of the even numbers in a given list:  392\n",
      " after  adding 392\n"
     ]
    }
   ],
   "source": [
    "numbers=[12, 75, 150, 180, 145, 525, 50]\n",
    "sum=0\n",
    "for i in numbers:\n",
    "    if i%2==0:\n",
    "        sum=sum+i\n",
    "        print(\"sum of the even numbers in a given list: \",sum)\n",
    "        print(f\" after  adding {sum}\")\n",
    "        "
   ]
  },
  {
   "cell_type": "markdown",
   "id": "118c9a57",
   "metadata": {},
   "source": [
    "# Q24. Write a code to take 3 numbers as an input from the user and display the greatest no as output.\n",
    "\n",
    "     "
   ]
  },
  {
   "cell_type": "code",
   "execution_count": 63,
   "id": "82a3d018",
   "metadata": {},
   "outputs": [
    {
     "name": "stdout",
     "output_type": "stream",
     "text": [
      "856\n"
     ]
    }
   ],
   "source": [
    "a=[200,500,856]\n",
    "greater_number=0\n",
    "for i in range(len(a)):\n",
    "    if a[i]>greater_number:\n",
    "        greater_number=a[i]\n",
    "print(greater_number)"
   ]
  },
  {
   "cell_type": "markdown",
   "id": "be8c0c04",
   "metadata": {},
   "source": [
    "# Q25. Write a program to display only those numbers from a list that satisfy the following conditions\n",
    "\n",
    "- The number must be divisible by five\n",
    "\n",
    "- If the number is greater than 150, then skip it and move to the next number\n",
    "\n",
    "- If the number is greater than 500, then stop the loop\n",
    "```\n",
    "numbers = [12, 75, 150, 180, 145, 525, 50]\n",
    "```"
   ]
  },
  {
   "cell_type": "code",
   "execution_count": 44,
   "id": "9a78ec4d",
   "metadata": {},
   "outputs": [
    {
     "name": "stdout",
     "output_type": "stream",
     "text": [
      "75\n",
      "150\n",
      "145\n",
      "50\n"
     ]
    }
   ],
   "source": [
    "numbers = [12, 75, 150, 180, 145, 525, 50,600,750,652,13,186]\n",
    "for ele in numbers:\n",
    "    if ele%5==0:\n",
    "        if ele>150:\n",
    "            continue\n",
    "            if ele>500:\n",
    "                break\n",
    "        print(ele)    \n",
    "        \n",
    "        "
   ]
  },
  {
   "cell_type": "code",
   "execution_count": 1,
   "id": "7bac48bb",
   "metadata": {},
   "outputs": [
    {
     "name": "stdout",
     "output_type": "stream",
     "text": [
      "75\n",
      "150\n",
      "145\n"
     ]
    }
   ],
   "source": [
    "numbers = [12, 75, 150, 180, 145, 525, 50,600,750,652,13,186]\n",
    "for i in numbers:\n",
    "    if i > 500:\n",
    "        break\n",
    "    elif  i> 150:\n",
    "        continue\n",
    "    elif i%5==0:\n",
    "        print(i)"
   ]
  },
  {
   "cell_type": "markdown",
   "id": "a55b9911",
   "metadata": {},
   "source": [
    "# Q26. What is a string? How can we declare string in Python?\n",
    "      \n",
    "     A string is a series of characters.To create a string, put the sequence of characters inside either single quotes,\n",
    "     double quotes, or triple quotes and then assign it to a variable.Strings are immutable\n",
    "     for example, variable=\" sequence of characters \""
   ]
  },
  {
   "cell_type": "markdown",
   "id": "4ba6ee94",
   "metadata": {},
   "source": [
    "# Q27. How can we access the string using its index?\n",
    "    \n",
    "    You can access the characters in a string by referring to its index number inside square brackets [].Individual\n",
    "    characters in a string can be accessed by specifying the string name followed by a number in square brackets ( [] ).\n",
    "    String indexing in Python is zero-based: the first character in the string has index 0 , the next has index 1 ,\n",
    "    and so on.\n",
    "     \n",
    "     example is below"
   ]
  },
  {
   "cell_type": "code",
   "execution_count": 5,
   "id": "f32fa72b",
   "metadata": {},
   "outputs": [
    {
     "name": "stdout",
     "output_type": "stream",
     "text": [
      "s\n",
      "t\n",
      "r\n",
      "i\n",
      "n\n",
      "string example\n"
     ]
    }
   ],
   "source": [
    "variable=\"string example\"\n",
    "print(variable[0])\n",
    "print(variable[1])\n",
    "print(variable[2])\n",
    "print(variable[3])\n",
    "print(variable[4])\n",
    "print(variable[:])\n"
   ]
  },
  {
   "cell_type": "markdown",
   "id": "a74ba7f2",
   "metadata": {},
   "source": [
    "# Q28. Write a code to get the desired output of the following\n",
    "\n",
    "string = \"Big Data iNeuron\"       \n",
    "\n",
    "\n",
    "desired_output = \"iNeuron\""
   ]
  },
  {
   "cell_type": "code",
   "execution_count": 20,
   "id": "eac25dea",
   "metadata": {},
   "outputs": [
    {
     "name": "stdout",
     "output_type": "stream",
     "text": [
      "iNeuron\n"
     ]
    }
   ],
   "source": [
    "string=\"Big Data iNeuron\"\n",
    "print(string[9:])"
   ]
  },
  {
   "cell_type": "markdown",
   "id": "a0468b02",
   "metadata": {},
   "source": [
    "# Q29. Write a code to get the desired output of the following\n",
    "\n",
    "string = \"Big Data iNeuron\"\n",
    "\n",
    "\n",
    "desired_output = \"norueNi\""
   ]
  },
  {
   "cell_type": "code",
   "execution_count": 21,
   "id": "1e664424",
   "metadata": {},
   "outputs": [
    {
     "name": "stdout",
     "output_type": "stream",
     "text": [
      "norueNi\n"
     ]
    }
   ],
   "source": [
    "string=\"Big Data iNeuron\"\n",
    "string1=string[:-8:-1]\n",
    "print(string1)"
   ]
  },
  {
   "cell_type": "markdown",
   "id": "df9d1f65",
   "metadata": {},
   "source": [
    "# Q30. Resverse the string given in the above question."
   ]
  },
  {
   "cell_type": "code",
   "execution_count": 22,
   "id": "024eb8be",
   "metadata": {},
   "outputs": [
    {
     "name": "stdout",
     "output_type": "stream",
     "text": [
      "norueNi\n",
      "norueNi ataD giB\n"
     ]
    }
   ],
   "source": [
    "string=\"Big Data iNeuron\"\n",
    "string1=string[:-8:-1]\n",
    "print(string1)\n",
    "print(string[::-1])"
   ]
  },
  {
   "cell_type": "markdown",
   "id": "a0054daa",
   "metadata": {},
   "source": [
    "# Q31. How can you delete entire string at once?"
   ]
  },
  {
   "cell_type": "code",
   "execution_count": 25,
   "id": "1ba41278",
   "metadata": {},
   "outputs": [
    {
     "ename": "NameError",
     "evalue": "name 'string' is not defined",
     "output_type": "error",
     "traceback": [
      "\u001b[1;31m---------------------------------------------------------------------------\u001b[0m",
      "\u001b[1;31mNameError\u001b[0m                                 Traceback (most recent call last)",
      "Input \u001b[1;32mIn [25]\u001b[0m, in \u001b[0;36m<cell line: 3>\u001b[1;34m()\u001b[0m\n\u001b[0;32m      1\u001b[0m \u001b[38;5;66;03m#we can delete entire string by using del keyword\u001b[39;00m\n\u001b[0;32m      2\u001b[0m \u001b[38;5;28;01mdel\u001b[39;00m string\n\u001b[1;32m----> 3\u001b[0m \u001b[43mstring\u001b[49m\n",
      "\u001b[1;31mNameError\u001b[0m: name 'string' is not defined"
     ]
    }
   ],
   "source": [
    "#we can delete entire string by using del keyword\n",
    "del string\n",
    "string\n",
    "#string[:]"
   ]
  },
  {
   "cell_type": "markdown",
   "id": "5861bc30",
   "metadata": {},
   "source": [
    "# Q32. What is escape sequence?\n"
   ]
  },
  {
   "cell_type": "markdown",
   "id": "c8248fd6",
   "metadata": {},
   "source": [
    "      An escape sequence is a sequence of characters that, when used inside a character or string, does not represent \n",
    "      itself but is converted into another character or series of characters.\n",
    "      Code\tResult\tTry it\n",
    "      \\'\tSingle Quote\n",
    "      \\\\\tBackslash\t\n",
    "      \\n\tNew Line\t\n"
   ]
  },
  {
   "cell_type": "markdown",
   "id": "17c11c27",
   "metadata": {},
   "source": [
    "# Q33. How can you print the below string?\n",
    "\n",
    "'iNeuron's Big Data Course'"
   ]
  },
  {
   "cell_type": "code",
   "execution_count": 26,
   "id": "724afd8f",
   "metadata": {},
   "outputs": [
    {
     "name": "stdout",
     "output_type": "stream",
     "text": [
      " 'iNeuron's Big Data Course ' \n"
     ]
    }
   ],
   "source": [
    "print(\" 'iNeuron's Big Data Course ' \")"
   ]
  },
  {
   "cell_type": "markdown",
   "id": "9944958b",
   "metadata": {},
   "source": [
    "# Q34. What is a list in Python?"
   ]
  },
  {
   "cell_type": "markdown",
   "id": "6160f609",
   "metadata": {},
   "source": [
    "    List. Lists are used to store multiple items in a single variable. Lists are one of 4 built-in data types in Python used to store collections of data,It suports homogeneous and heterogeneuos elements and it can be created using []."
   ]
  },
  {
   "cell_type": "markdown",
   "id": "f576b3d4",
   "metadata": {},
   "source": [
    "# Q35. How can you create a list in Python?"
   ]
  },
  {
   "cell_type": "markdown",
   "id": "63d5e6d1",
   "metadata": {},
   "source": [
    "    list can be created by using empty square brackets [] --->variable=[]\n",
    "    list can also created by using list() function ---->variable=list()"
   ]
  },
  {
   "cell_type": "code",
   "execution_count": 1,
   "id": "641edee0",
   "metadata": {},
   "outputs": [
    {
     "name": "stdout",
     "output_type": "stream",
     "text": [
      "<class 'list'>\n",
      "<class 'list'>\n"
     ]
    }
   ],
   "source": [
    "s=list()\n",
    "print(type(s))\n",
    "s1=[]\n",
    "print(type(s))"
   ]
  },
  {
   "cell_type": "markdown",
   "id": "20734de8",
   "metadata": {},
   "source": [
    "# Q36. How can we access the elements in a list?"
   ]
  },
  {
   "cell_type": "markdown",
   "id": "48fbc48d",
   "metadata": {},
   "source": [
    "    list can access the elements by using \"indexing \" and slicing operations\n",
    "    list supports both postive and negative indexing.\n",
    "    positive index starts from \"0\" from left to right and negative index starts with \"-1\" from rights to left.\n",
    "    In a list,insertion order is preserved."
   ]
  },
  {
   "cell_type": "code",
   "execution_count": 6,
   "id": "f0c81ac7",
   "metadata": {},
   "outputs": [
    {
     "name": "stdout",
     "output_type": "stream",
     "text": [
      "5\n",
      "4\n",
      "3\n"
     ]
    }
   ],
   "source": [
    "list1=[1,2,4,5,6,3,5]\n",
    "print(list1[-1])\n",
    "print(list1[-5])\n",
    "print(list1[5])"
   ]
  },
  {
   "cell_type": "markdown",
   "id": "889c1157",
   "metadata": {},
   "source": [
    "# Q37. Write a code to access the word \"iNeuron\" from the given list.\n",
    "\n",
    "lst = [1,2,3,\"Hi\",[45,54, \"iNeuron\"], \"Big Data\"]\n"
   ]
  },
  {
   "cell_type": "code",
   "execution_count": 29,
   "id": "72243b2f",
   "metadata": {},
   "outputs": [
    {
     "name": "stdout",
     "output_type": "stream",
     "text": [
      "[45, 54, 'iNeuron']\n",
      "iNeuron\n"
     ]
    }
   ],
   "source": [
    "lst=[1,2,3,\"Hi\",[45,54,\"iNeuron\"],\"Big Data\"]\n",
    "print(lst[4])\n",
    "print(lst[4][2])"
   ]
  },
  {
   "cell_type": "markdown",
   "id": "7f21d5d6",
   "metadata": {},
   "source": [
    "# Q38. Take a list as an input from the user and find the length of the list.\n"
   ]
  },
  {
   "cell_type": "code",
   "execution_count": 13,
   "id": "ba1e8d5a",
   "metadata": {},
   "outputs": [
    {
     "name": "stdout",
     "output_type": "stream",
     "text": [
      "8\n",
      "enter list elements: 1 2 3 4\n"
     ]
    },
    {
     "ename": "ValueError",
     "evalue": "invalid literal for int() with base 10: '1 2 3 4'",
     "output_type": "error",
     "traceback": [
      "\u001b[1;31m---------------------------------------------------------------------------\u001b[0m",
      "\u001b[1;31mValueError\u001b[0m                                Traceback (most recent call last)",
      "Input \u001b[1;32mIn [13]\u001b[0m, in \u001b[0;36m<cell line: 5>\u001b[1;34m()\u001b[0m\n\u001b[0;32m      2\u001b[0m \u001b[38;5;28mprint\u001b[39m(\u001b[38;5;28mlen\u001b[39m(list1))  \u001b[38;5;66;03m#using the length function \u001b[39;00m\n\u001b[0;32m      4\u001b[0m l\u001b[38;5;241m=\u001b[39m[]\n\u001b[1;32m----> 5\u001b[0m l\u001b[38;5;241m=\u001b[39m\u001b[38;5;28mlist\u001b[39m(\u001b[38;5;28;43mint\u001b[39;49m\u001b[43m(\u001b[49m\u001b[38;5;28;43minput\u001b[39;49m\u001b[43m(\u001b[49m\u001b[38;5;124;43m\"\u001b[39;49m\u001b[38;5;124;43menter list elements: \u001b[39;49m\u001b[38;5;124;43m\"\u001b[39;49m\u001b[43m)\u001b[49m\u001b[43m)\u001b[49m)\u001b[38;5;241m.\u001b[39msplit()\n\u001b[0;32m      6\u001b[0m \u001b[38;5;66;03m#l.append(list2)\u001b[39;00m\n\u001b[0;32m      7\u001b[0m \u001b[38;5;28mprint\u001b[39m(\u001b[38;5;28mlen\u001b[39m(l))\n",
      "\u001b[1;31mValueError\u001b[0m: invalid literal for int() with base 10: '1 2 3 4'"
     ]
    }
   ],
   "source": [
    "list1=[20,50,40,80,90,70,\"hi\",\"souji\"]\n",
    "print(len(list1))  #using the length function \n",
    "\n",
    "l=[]\n",
    "l=list(int(input(\"enter list elements: \"))).split()\n",
    "#l.append(list2)\n",
    "print(len(l))"
   ]
  },
  {
   "cell_type": "markdown",
   "id": "1e4b8022",
   "metadata": {},
   "source": [
    "# Q39. Add the word \"Big\" in the 3rd index of the given list.\n",
    "\n",
    "lst = [\"Welcome\", \"to\", \"Data\", \"course\"]"
   ]
  },
  {
   "cell_type": "code",
   "execution_count": 39,
   "id": "24e275ca",
   "metadata": {},
   "outputs": [
    {
     "name": "stdout",
     "output_type": "stream",
     "text": [
      "['Welcome', 'to', 'Data', 'Big']\n"
     ]
    }
   ],
   "source": [
    "lst=[\"Welcome\",\"to\",\"Data\",\"course\"]\n",
    "lst[3]=\"Big\"\n",
    "print(lst)"
   ]
  },
  {
   "cell_type": "markdown",
   "id": "60568ddb",
   "metadata": {},
   "source": [
    "# Q40. What is a tuple? How is it different from list?"
   ]
  },
  {
   "cell_type": "markdown",
   "id": "d0715cd7",
   "metadata": {},
   "source": [
    "    tuple is is a one of the buit in data type in python used to store collections of data and multiple items assigned to a single variable.It is an iterable object\n",
    "    Difference between list and tuple :\n",
    "    Lists are mutable means it can change the elements of the list\n",
    "    tuples are immutable means once we declare the value we cann't change "
   ]
  },
  {
   "cell_type": "markdown",
   "id": "19fedcaa",
   "metadata": {},
   "source": [
    "# Q41. How can you create a tuple in Python?\n"
   ]
  },
  {
   "cell_type": "markdown",
   "id": "c51798d4",
   "metadata": {},
   "source": [
    "    tuple can be created by using paranthesis ()\n",
    "    tuple can also be created by tuple() function\n",
    "    tuple can also be created by assigning multiple values to a single variable"
   ]
  },
  {
   "cell_type": "code",
   "execution_count": 173,
   "id": "753ea07d",
   "metadata": {},
   "outputs": [
    {
     "name": "stdout",
     "output_type": "stream",
     "text": [
      "<class 'tuple'>\n",
      "<class 'tuple'>\n",
      "<class 'tuple'>\n"
     ]
    }
   ],
   "source": [
    "#example\n",
    "t=()\n",
    "print(type(t))\n",
    "tupl=tuple()\n",
    "print(type(tupl))\n",
    "a=1,2,3,4\n",
    "print(type(a))"
   ]
  },
  {
   "cell_type": "markdown",
   "id": "a92c224b",
   "metadata": {},
   "source": [
    "# Q42. Create a tuple and try to add your name in the tuple. Are you able to do it? Support your answer with reason."
   ]
  },
  {
   "cell_type": "markdown",
   "id": "f927a490",
   "metadata": {},
   "source": [
    "# Q43. Can two tuple be appended. If yes, write a code for it. If not, why?"
   ]
  },
  {
   "cell_type": "code",
   "execution_count": 193,
   "id": "c0ea09f6",
   "metadata": {},
   "outputs": [
    {
     "name": "stdout",
     "output_type": "stream",
     "text": [
      "<class 'tuple'>\n"
     ]
    },
    {
     "ename": "AttributeError",
     "evalue": "'tuple' object has no attribute 'add'",
     "output_type": "error",
     "traceback": [
      "\u001b[1;31m---------------------------------------------------------------------------\u001b[0m",
      "\u001b[1;31mAttributeError\u001b[0m                            Traceback (most recent call last)",
      "Input \u001b[1;32mIn [193]\u001b[0m, in \u001b[0;36m<cell line: 3>\u001b[1;34m()\u001b[0m\n\u001b[0;32m      1\u001b[0m a\u001b[38;5;241m=\u001b[39m(\u001b[38;5;241m10\u001b[39m,\u001b[38;5;241m20\u001b[39m,\u001b[38;5;124m\"\u001b[39m\u001b[38;5;124mhi\u001b[39m\u001b[38;5;124m\"\u001b[39m,\u001b[38;5;241m50\u001b[39m,\u001b[38;5;241m60\u001b[39m,\u001b[38;5;124m'\u001b[39m\u001b[38;5;124mhello\u001b[39m\u001b[38;5;124m'\u001b[39m,\u001b[38;5;241m100\u001b[39m)\n\u001b[0;32m      2\u001b[0m \u001b[38;5;28mprint\u001b[39m(\u001b[38;5;28mtype\u001b[39m(a))\n\u001b[1;32m----> 3\u001b[0m \u001b[43ma\u001b[49m\u001b[38;5;241;43m.\u001b[39;49m\u001b[43madd\u001b[49m(\u001b[38;5;124m\"\u001b[39m\u001b[38;5;124msouji\u001b[39m\u001b[38;5;124m\"\u001b[39m)\n\u001b[0;32m      4\u001b[0m \u001b[38;5;66;03m#a.append(\"souji\")\u001b[39;00m\n\u001b[0;32m      5\u001b[0m \u001b[38;5;66;03m# once assigning the values of tuple we cann't add or remove the elements to existing tuple\"\"\"\u001b[39;00m\n\u001b[0;32m      6\u001b[0m b\u001b[38;5;241m=\u001b[39m(\u001b[38;5;124m\"\u001b[39m\u001b[38;5;124msoujanya\u001b[39m\u001b[38;5;124m\"\u001b[39m,\u001b[38;5;124m\"\u001b[39m\u001b[38;5;124mbig data\u001b[39m\u001b[38;5;124m\"\u001b[39m)\n",
      "\u001b[1;31mAttributeError\u001b[0m: 'tuple' object has no attribute 'add'"
     ]
    }
   ],
   "source": [
    "a=(10,20,\"hi\",50,60,'hello',100)\n",
    "print(type(a))\n",
    "a.add(\"souji\")\n",
    "#a.append(\"souji\")\n",
    "# once assigning the values of tuple we cann't add or remove the elements to existing tuple because tuples are immutable\"\"\"\n",
    "b=(\"soujanya\",\"big data\")\n",
    "c=a+b #\"concatenate two tuples and assigning to new varoab;e is possible\"\n",
    "print(c)"
   ]
  },
  {
   "cell_type": "markdown",
   "id": "3dfc099a",
   "metadata": {},
   "source": [
    "# Q44. Take a tuple as an input and print the count of elements in it."
   ]
  },
  {
   "cell_type": "code",
   "execution_count": 250,
   "id": "083db1e5",
   "metadata": {},
   "outputs": [
    {
     "name": "stdout",
     "output_type": "stream",
     "text": [
      "enter a list elements: 1,2,3,4,5\n",
      "['1', '2', '3', '4', '5']\n",
      "<class 'list'>\n",
      "length of the given tuple :  5\n",
      "11\n",
      "length of the tuple:  1\n",
      "length of the tuple:  2\n",
      "length of the tuple:  3\n",
      "length of the tuple:  4\n",
      "length of the tuple:  5\n",
      "length of the tuple:  6\n",
      "length of the tuple:  7\n",
      "length of the tuple:  8\n",
      "length of the tuple:  9\n",
      "length of the tuple:  10\n",
      "length of the tuple:  11\n"
     ]
    }
   ],
   "source": [
    "v=input(\"enter a list elements: \").split(\",\")\n",
    "print(v)\n",
    "print(type(v))\n",
    "z=tuple(v)\n",
    "print(f\"length of the given tuple : \",len(z))\n",
    "\n",
    "\n",
    "\n",
    "\n",
    "\n",
    "# by using len() function\n",
    "variable=(20,10,500,60,4,\"hi\",\"hwllo\",800,60,50,100)\n",
    "print(len(variable))\n",
    "\n",
    "# by using foor loop\n",
    "length=0\n",
    "for i in variable:\n",
    "    length=length+bool(i)\n",
    "    print(f\"length of the tuple: \",length)\n",
    "    "
   ]
  },
  {
   "cell_type": "markdown",
   "id": "382fb45b",
   "metadata": {},
   "source": [
    "# Q45. What are sets in Python?\n"
   ]
  },
  {
   "cell_type": "markdown",
   "id": "dd5e1800",
   "metadata": {},
   "source": [
    "     A Set is an unordered collection data type that is iterable, mutable and has no duplicate elements. \n",
    "\n",
    "     Set are represented by { } (values enclosed in curly braces)"
   ]
  },
  {
   "cell_type": "markdown",
   "id": "4b8fb9dd",
   "metadata": {},
   "source": [
    "# Q46. How can you create a set?"
   ]
  },
  {
   "cell_type": "markdown",
   "id": "c23f5921",
   "metadata": {},
   "source": [
    "    set can be created by using braces {}.\n",
    "    Empty braces considered as dict,because dict also can be created by using braces{}.\n",
    "    Atleast one element if it is present,then it is considered as a set.\n",
    "    set can also be created by using set() function."
   ]
  },
  {
   "cell_type": "code",
   "execution_count": 204,
   "id": "c4713407",
   "metadata": {},
   "outputs": [
    {
     "name": "stdout",
     "output_type": "stream",
     "text": [
      "<class 'set'>\n",
      "<class 'dict'>\n",
      "<class 'set'>\n"
     ]
    }
   ],
   "source": [
    "s=set()\n",
    "print(type(s))\n",
    "s={}\n",
    "print(type(s))\n",
    "s={1}\n",
    "print(type(s))"
   ]
  },
  {
   "cell_type": "markdown",
   "id": "9489abb4",
   "metadata": {},
   "source": [
    "# Q47. Create a set and add \"iNeuron\" in your set."
   ]
  },
  {
   "cell_type": "code",
   "execution_count": 206,
   "id": "7f2853c5",
   "metadata": {},
   "outputs": [
    {
     "name": "stdout",
     "output_type": "stream",
     "text": [
      "<class 'set'>\n",
      "{'iNeuron'}\n"
     ]
    }
   ],
   "source": [
    "s=set()\n",
    "print(type(s))\n",
    "s.add(\"iNeuron\")\n",
    "print(s)"
   ]
  },
  {
   "cell_type": "markdown",
   "id": "9a134d91",
   "metadata": {},
   "source": [
    "# Q48. Try to add multiple values using add() function."
   ]
  },
  {
   "cell_type": "code",
   "execution_count": 208,
   "id": "8b51af93",
   "metadata": {},
   "outputs": [
    {
     "name": "stdout",
     "output_type": "stream",
     "text": [
      "<class 'set'>\n",
      "{'hi', 'hello', 100, 200, 10}\n"
     ]
    }
   ],
   "source": [
    "s1=set()\n",
    "print(type(s1))\n",
    "s1.add(10)\n",
    "s1.add(\"hi\")\n",
    "s1.add(\"hello\")\n",
    "s1.add(100)\n",
    "s1.add(200)\n",
    "print(s1)\n"
   ]
  },
  {
   "cell_type": "markdown",
   "id": "e5833fc6",
   "metadata": {},
   "source": [
    "# Q49. How is update() different from add()?\n",
    "\n",
    "    By using update() function we can add multiple elements at a time to set.\n",
    "    by using add() function we can add at a time one element to the set."
   ]
  },
  {
   "cell_type": "code",
   "execution_count": 215,
   "id": "bc4f42f3",
   "metadata": {},
   "outputs": [
    {
     "name": "stdout",
     "output_type": "stream",
     "text": [
      "{'hi', 1, 2, 'hello', 100, 5, 3, 4, 200, 8, 10, 6, 7}\n",
      "{'hi', 1}\n"
     ]
    }
   ],
   "source": [
    "s2=set()   \n",
    "s2.update([1,5,3,2,4,8,6,7]) # using update() function\n",
    "print(s1)\n",
    "\n",
    "s2=set()\n",
    "s2.add(1)\n",
    "s2.add(\"hi\")\n",
    "print(s2)"
   ]
  },
  {
   "cell_type": "markdown",
   "id": "e7b48a33",
   "metadata": {},
   "source": [
    "# Q50. What is clear() in sets?\n",
    "    The clear() method removes all elements in a set."
   ]
  },
  {
   "cell_type": "code",
   "execution_count": 219,
   "id": "1eec7932",
   "metadata": {},
   "outputs": [
    {
     "name": "stdout",
     "output_type": "stream",
     "text": [
      "set()\n"
     ]
    }
   ],
   "source": [
    "s1={'hi', 1, 2, 'hello', 100, 5, 3, 4, 200, 8, 10, 6, 7}\n",
    "s1.clear()\n",
    "print(s1)"
   ]
  },
  {
   "cell_type": "markdown",
   "id": "b97e2110",
   "metadata": {},
   "source": [
    "# Q51. What is frozen set?\n",
    "     \n",
    "     frozonset is an immutable version of a set.\n",
    "     frozenset can be created by using frozenset() function only.\n",
    "     \n",
    "     "
   ]
  },
  {
   "cell_type": "code",
   "execution_count": 220,
   "id": "7c4911d6",
   "metadata": {},
   "outputs": [
    {
     "name": "stdout",
     "output_type": "stream",
     "text": [
      "<class 'frozenset'>\n"
     ]
    }
   ],
   "source": [
    "#example\n",
    "a=frozenset()\n",
    "print(type(a))"
   ]
  },
  {
   "cell_type": "markdown",
   "id": "0f5254cc",
   "metadata": {},
   "source": [
    "# Q52. How is frozen set different from set?\n",
    "\n",
    "    We can't add an element to frozenset to frozenset and we cann't remove an element from frozenset because frozenset is a immutable\n",
    "    set cann't be used as a key in dict where as frozenset can be used as key in dict because dict allows immutable keys only.\n",
    "     "
   ]
  },
  {
   "cell_type": "markdown",
   "id": "3591731b",
   "metadata": {},
   "source": [
    "# Q53. What is union() in sets? Explain via code.\n",
    "      \n",
    "      The union() method returns a set that contains all items from the original set, and all items from the specified set(s).\n",
    "      we can use union()  or | operator(both are giving same meaning)"
   ]
  },
  {
   "cell_type": "code",
   "execution_count": 224,
   "id": "39849ff8",
   "metadata": {},
   "outputs": [
    {
     "name": "stdout",
     "output_type": "stream",
     "text": [
      "{70, 71, 8, 10, 80, 20, 90, 30, 100, 102, 40, 42, 50, 52, 500, 60}\n",
      "{70, 71, 8, 10, 80, 20, 90, 30, 100, 102, 40, 42, 50, 52, 500, 60}\n"
     ]
    }
   ],
   "source": [
    "A={10,20,30,40,50,60,70,80,90,100}\n",
    "B={20,42,52,71,8,30,50,102,500}\n",
    "print(A.union(B))\n",
    "print(A|B)  # uninon symbol is - |\n"
   ]
  },
  {
   "cell_type": "markdown",
   "id": "ef3e09a6",
   "metadata": {},
   "source": [
    "# Q54. What is intersection() in sets? Explain via code.\n",
    "    \n",
    "    Python set intersection() method returns a new set with an element that is common to all set\n",
    "\n",
    "The intersection of two given sets is the largest set, which contains all the elements that are common to both sets. The intersection of two given sets A and B is a set which consists of all the elements which are common to both A and B."
   ]
  },
  {
   "cell_type": "code",
   "execution_count": 226,
   "id": "d1cf43c4",
   "metadata": {},
   "outputs": [
    {
     "name": "stdout",
     "output_type": "stream",
     "text": [
      "{50, 20, 30}\n",
      "{50, 20, 30}\n"
     ]
    }
   ],
   "source": [
    "A={10,20,30,40,50,60,70,80,90,100}\n",
    "B={20,42,52,71,8,30,50,102,500}\n",
    "print(A.intersection(B))\n",
    "print(A&B)"
   ]
  },
  {
   "cell_type": "markdown",
   "id": "e1d53616",
   "metadata": {},
   "source": [
    "# Q55. What is dictionary ibn Python?\n",
    "    \n",
    "    Dictionaries are Python's implementation of a data structure that is more generally known as an associative array. A dictionary consists of a collection of key-value pairs. Each key-value pair maps the key to its associated value.\n",
    "    dict is denoted by {}."
   ]
  },
  {
   "cell_type": "code",
   "execution_count": 231,
   "id": "eadd9e16",
   "metadata": {},
   "outputs": [
    {
     "name": "stdout",
     "output_type": "stream",
     "text": [
      "<class 'dict'>\n",
      "{'data': 'big data', 1: 'sojanya'}\n"
     ]
    }
   ],
   "source": [
    "#example\n",
    "d={}\n",
    "print(type(d))\n",
    "d[\"data\"]=\"big data\"\n",
    "d[1]=\"sojanya\"\n",
    "print(d)"
   ]
  },
  {
   "cell_type": "markdown",
   "id": "78927ec8",
   "metadata": {},
   "source": [
    "# Q56. How is dictionary different from all other data structures\n",
    "     \n",
    "     Dictionaries are used to store data values in key:value pairs. A dictionary is a collection which is ordered*, changeable and do not allow duplicates.\n",
    "     dictionaries only one data structure to provide key and value pair remaining data strutures are onle single element values \n"
   ]
  },
  {
   "cell_type": "markdown",
   "id": "915a19fb",
   "metadata": {},
   "source": [
    "# Q57. How can we delare a dictionary in Python?\n",
    "      \n",
    "     dict can be created by using braces {}.\n",
    "     dict can also be created by using dict() function.\n",
    "     It contains data as a key and values pairs.\n",
    "     key and value separated with : symbol.\n",
    "     it allows immutable keys only.\n",
    "     Values can be mutable or immutable.\n",
    "     keys and values can be homogeneous or heterogeneous.\n",
    "     it doesn't allow duplicate keys .values may be duplicated.\n",
    "     list and set cann't be used as keys because dict allows immutable keys only.\n",
    "     "
   ]
  },
  {
   "cell_type": "markdown",
   "id": "a06d41bb",
   "metadata": {},
   "source": [
    "# Q58. What will the output of the following?\n",
    "\n",
    "var = {}\n",
    "\n",
    "print(type(var))"
   ]
  },
  {
   "cell_type": "code",
   "execution_count": 232,
   "id": "18fc2281",
   "metadata": {},
   "outputs": [
    {
     "name": "stdout",
     "output_type": "stream",
     "text": [
      "<class 'dict'>\n"
     ]
    }
   ],
   "source": [
    "var = {}\n",
    "print(type(var))"
   ]
  },
  {
   "cell_type": "markdown",
   "id": "cdd08017",
   "metadata": {},
   "source": [
    "# Q59. How can we add an element in a dictionary?\n",
    "      \n",
    "      In dictionary we can add the elements by using key and values."
   ]
  },
  {
   "cell_type": "code",
   "execution_count": 234,
   "id": "fb49d493",
   "metadata": {},
   "outputs": [
    {
     "name": "stdout",
     "output_type": "stream",
     "text": [
      "<class 'dict'>\n",
      "{'soujanya': 100, 'sravanthi': 200, 'laxmi': 500}\n"
     ]
    }
   ],
   "source": [
    "var = {}\n",
    "print(type(var))\n",
    "var[\"soujanya\"]=100\n",
    "var[\"sravanthi\"]=200\n",
    "var[\"laxmi\"]=500\n",
    "print(var)"
   ]
  },
  {
   "cell_type": "markdown",
   "id": "60b13222",
   "metadata": {},
   "source": [
    "# Q60. Create a dictionary and access all the values in that dictionary."
   ]
  },
  {
   "cell_type": "code",
   "execution_count": 240,
   "id": "4f71b7af",
   "metadata": {},
   "outputs": [
    {
     "name": "stdout",
     "output_type": "stream",
     "text": [
      "{'soujanya': 100, 'sravanthi': 200, 'laxmi': 500, 1: 'priyanka', 2: 'mohan rao'}\n",
      "<class 'dict'>\n",
      "100\n",
      "500\n",
      "priyanka\n",
      "mohan rao\n"
     ]
    }
   ],
   "source": [
    "var={'soujanya': 100, 'sravanthi': 200, 'laxmi': 500,1:\"priyanka\",2:\"mohan rao\"}\n",
    "print(var)\n",
    "print(type(var))\n",
    "\n",
    "# accessing the dictionary elements by using keys.\n",
    "print(var[\"soujanya\"])\n",
    "print(var[\"laxmi\"])\n",
    "print(var[1])\n",
    "print(var[2])"
   ]
  },
  {
   "cell_type": "markdown",
   "id": "f5adb540",
   "metadata": {},
   "source": [
    "# Q61. Create a nested dictionary and access all the element in the inner dictionary."
   ]
  },
  {
   "cell_type": "code",
   "execution_count": 262,
   "id": "db6c0bee",
   "metadata": {},
   "outputs": [
    {
     "name": "stdout",
     "output_type": "stream",
     "text": [
      "{'soujanya': 100, 'sravanthi': 200, 'name': {'laxmi': 500, 1: 'priyanka', 2: 'mohan rao'}, 1: 's'}\n",
      "{'laxmi': 500, 1: 'priyanka', 2: 'mohan rao'}\n",
      "mohan rao\n",
      "priyanka\n"
     ]
    }
   ],
   "source": [
    "dict1={ 'soujanya': 100, 'sravanthi': 200, 'name':{'laxmi': 500, 1: 'priyanka', 2: 'mohan rao'},1:\"s\" }\n",
    "print(dict1)\n",
    "\n",
    "#accessing\n",
    "print(dict1['name'])\n",
    "print(dict1['name'][2])\n",
    "print(dict1['name'][1])"
   ]
  },
  {
   "cell_type": "markdown",
   "id": "1b793467",
   "metadata": {},
   "source": [
    "# Q62. What is the use of get() function?\n",
    "    \n",
    "    The get() method returns the value of the item with the specified key.\n",
    "    syntax:\n",
    "    dictionary.get(keyname, value)"
   ]
  },
  {
   "cell_type": "code",
   "execution_count": 271,
   "id": "3e8a1e46",
   "metadata": {},
   "outputs": [
    {
     "name": "stdout",
     "output_type": "stream",
     "text": [
      "{'soujanya': 100, 'sravanthi': 200, 'name': {'laxmi': 500, 1: 'priyanka', 2: 'mohan rao'}, 1: 's'}\n",
      "{'laxmi': 500, 1: 'priyanka', 2: 'mohan rao'}\n",
      "100\n",
      "None\n",
      "100\n"
     ]
    }
   ],
   "source": [
    "dict1={ 'soujanya': 100, 'sravanthi': 200, 'name':{'laxmi': 500, 1: 'priyanka', 2: 'mohan rao'},1:\"s\" }\n",
    "print(dict1)\n",
    "print(dict1.get(\"name\"))\n",
    "print(dict1.get(\"soujanya\"))\n",
    "\n",
    "#we use get() method for getting the value of the kay if it there it returns value of the key \n",
    "print(dict1.get('study'))\n",
    "print(dict1.get('study',100))"
   ]
  },
  {
   "cell_type": "markdown",
   "id": "00508d09",
   "metadata": {},
   "source": [
    "# Q63. What is the use of items() function?\n",
    "     \n",
    "     Items() function is used to return the all key and vaule pairs in the dictionay.\n",
    "     "
   ]
  },
  {
   "cell_type": "code",
   "execution_count": 278,
   "id": "9cb01e01",
   "metadata": {},
   "outputs": [
    {
     "name": "stdout",
     "output_type": "stream",
     "text": [
      "dict_items([('brand', 'Ford'), ('model', 'Mustang'), ('year', 1964)])\n",
      "dict_items([('soujanya', 100), ('sravanthi', 200), ('name', {'laxmi': 500, 1: 'priyanka', 2: 'mohan rao'}), (1, 's')])\n"
     ]
    }
   ],
   "source": [
    "car = {\"brand\": \"Ford\",\"model\": \"Mustang\",\"year\": 1964}\n",
    "print(car.items())\n",
    "\n",
    "dict1={ 'soujanya': 100, 'sravanthi': 200, 'name':{'laxmi': 500, 1: 'priyanka', 2: 'mohan rao'},1:\"s\" }\n",
    "print(dict1.items())\n"
   ]
  },
  {
   "cell_type": "markdown",
   "id": "0a412275",
   "metadata": {},
   "source": [
    "# Q64. What is the use of pop() function?\n",
    "    \n",
    "    Python dictionary pop() method removes and returns the specified element from the dictionary.\n",
    "    Syntax : dict.pop(key, def)."
   ]
  },
  {
   "cell_type": "code",
   "execution_count": 291,
   "id": "1015392c",
   "metadata": {},
   "outputs": [
    {
     "name": "stdout",
     "output_type": "stream",
     "text": [
      "s\n",
      "{'soujanya': 100, 'sravanthi': 200, 'name': {'laxmi': 500, 1: 'priyanka', 2: 'mohan rao'}}\n",
      "{'laxmi': 500, 1: 'priyanka', 2: 'mohan rao'}\n"
     ]
    }
   ],
   "source": [
    "dict1={ 'soujanya': 100, 'sravanthi': 200, 'name':{'laxmi': 500, 1: 'priyanka', 2: 'mohan rao'},1:\"s\" }\n",
    "print(dict1.pop(1))\n",
    "print(dict1)\n",
    "print(dict1.pop('name'))\n"
   ]
  },
  {
   "cell_type": "markdown",
   "id": "e0a4562d",
   "metadata": {},
   "source": [
    "# Q65. What is the use of popitem() function?\n",
    "    \n",
    "    python dictionary popitem() method removes the last inserted key-value pair from the dictionary and returns it as a tuple."
   ]
  },
  {
   "cell_type": "code",
   "execution_count": 292,
   "id": "b4b00c1d",
   "metadata": {},
   "outputs": [
    {
     "name": "stdout",
     "output_type": "stream",
     "text": [
      "(1, 's')\n",
      "{'soujanya': 100, 'sravanthi': 200, 'name': {'laxmi': 500, 1: 'priyanka', 2: 'mohan rao'}}\n"
     ]
    }
   ],
   "source": [
    "dict2={ 'soujanya': 100, 'sravanthi': 200, 'name':{'laxmi': 500, 1: 'priyanka', 2: 'mohan rao'},1:\"s\" }\n",
    "print(dict2.popitem())\n",
    "print(dict2)"
   ]
  },
  {
   "cell_type": "markdown",
   "id": "0f24124a",
   "metadata": {},
   "source": [
    "# Q66. What is the use of keys() function?\n",
    "     \n",
    "     keys() function is used to return the all the keys in the dictonary."
   ]
  },
  {
   "cell_type": "code",
   "execution_count": 297,
   "id": "68d8c55b",
   "metadata": {},
   "outputs": [
    {
     "name": "stdout",
     "output_type": "stream",
     "text": [
      "dict_keys(['soujanya', 'sravanthi', 'name', 1])\n",
      "['soujanya', 'sravanthi', 'name', 1]\n"
     ]
    }
   ],
   "source": [
    "dict3={ 'soujanya': 100, 'sravanthi': 200, 'name':{'laxmi': 500, 1: 'priyanka', 2: 'mohan rao'},1:\"s\" }\n",
    "print(dict3.keys())\n",
    "print(list(dict3.keys()))"
   ]
  },
  {
   "cell_type": "markdown",
   "id": "4d960973",
   "metadata": {},
   "source": [
    "# Q67. What is the use of values() function?\n",
    "\n",
    "      values() function is returns all the values in the dictionary."
   ]
  },
  {
   "cell_type": "code",
   "execution_count": 299,
   "id": "d8ba49a3",
   "metadata": {},
   "outputs": [
    {
     "name": "stdout",
     "output_type": "stream",
     "text": [
      "dict_values([100, 200, {'laxmi': 500, 1: 'priyanka', 2: 'mohan rao'}, 's'])\n",
      "[100, 200, {'laxmi': 500, 1: 'priyanka', 2: 'mohan rao'}, 's']\n"
     ]
    }
   ],
   "source": [
    "dict4={ 'soujanya': 100, 'sravanthi': 200, 'name':{'laxmi': 500, 1: 'priyanka', 2: 'mohan rao'},1:\"s\" }\n",
    "print(dict4.values())\n",
    "print(list(dict4.values()))"
   ]
  },
  {
   "cell_type": "markdown",
   "id": "d402b8ec",
   "metadata": {},
   "source": [
    "# Q68. What are loops in Python?\n",
    "     \n",
    "     A loop statement allows us to execute a statement or group of statements multiple times.Repetitive commands are executed by loops.Python loops are particularly flexible and they are not limited to integers.We can also use loops for character vectors,logical vectors,lists,or expressions."
   ]
  },
  {
   "cell_type": "markdown",
   "id": "cd7b6bbd",
   "metadata": {},
   "source": [
    "# Q69. How many type of loop are there in Python?\n",
    "     \n",
    "     In python there are 2 loops:\n",
    "     1.while loop\n",
    "     2.for loop"
   ]
  },
  {
   "cell_type": "markdown",
   "id": "5ed08ee2",
   "metadata": {},
   "source": [
    "# Q70. What is the difference between for and while loops?\n",
    "\n",
    "       In While: while ( condition) \n",
    "       { statements; //body of loop}\n",
    "       It shows an error if the no condition is given.\n",
    "       while loop is used for the number of iterations are unknown .and here statement is executed when\n",
    "       condtion is true only ,if the condition is false then it terminate the loop.\n",
    "       \n",
    "       In for loop: Here \n",
    "       for(initialization; condition; iteration)\n",
    "       { //body of ‘for’ loop}\n",
    "       It iterates infinite time, if no condition is given.\n",
    "       for loop is used for number of iterations is known.\n",
    "       \n",
    "       \n",
    "       --> Initialization, conditional checking, and increment or decrement is done while iteration in “for” loop \n",
    "       executed.while on the other hand, only initialization and condition checking in the syntax can be done.\n",
    "       --> For loop is used when we are aware of the number iterations at the time of execution. on the other hand,\n",
    "       in “while” loop, we can execute it even if we are not aware of the number of iterations.\n",
    "       -->If you forgot to put the conditional statement in for loop, it will reiterate the loop infinite times but\n",
    "       if you forgot to put the conditional statement in while loop, it will show an error to you.\n",
    "       --> The syntax in the for loop will be executed only when the initialization statement is on the top of the\n",
    "       syntax but in case of while loop, it doesn’t matter whether initialization statement finds anywhere in the syntax.\n",
    "       --> The iteration will be executed on if the body of the loop executes. on the contrary, the iteration statement\n",
    "       in while loop can be written anywhere in the syntax.\n",
    " "
   ]
  },
  {
   "cell_type": "markdown",
   "id": "44bcf372",
   "metadata": {},
   "source": [
    "# Q71. What is the use of continue statement?\n",
    "     \n",
    "     It passes the control to the next iteration of a loop.\n",
    "     \n",
    "     The continue keyword is used to end the current iteration in a for loop (or a while loop), and continues to \n",
    "     the next iteration."
   ]
  },
  {
   "cell_type": "code",
   "execution_count": 80,
   "id": "f04ed0cd",
   "metadata": {},
   "outputs": [
    {
     "name": "stdout",
     "output_type": "stream",
     "text": [
      "5\n",
      "6\n",
      "7\n",
      "8\n",
      "9\n",
      "10\n",
      "11\n"
     ]
    }
   ],
   "source": [
    "#example\n",
    "i=0\n",
    "while i<=10:\n",
    "    i+=1\n",
    "    if i<5:\n",
    "        continue\n",
    "    print(i)"
   ]
  },
  {
   "cell_type": "markdown",
   "id": "eb51b533",
   "metadata": {},
   "source": [
    "# Q72. What is the use of break statement?\n",
    "\n",
    "     It terminates the nearest enclosing loop.\n",
    "     \n",
    "     'Break' in Python is a loop control statement. It is used to control the sequence of the loop. Suppose you want to\n",
    "     terminate a loop and skip to the next code after the loop; break will help you do that. A typical scenario of using the \n",
    "     Break in Python is when an external condition triggers the loop's termination.\n"
   ]
  },
  {
   "cell_type": "code",
   "execution_count": 79,
   "id": "f69861ad",
   "metadata": {},
   "outputs": [
    {
     "name": "stdout",
     "output_type": "stream",
     "text": [
      "1\n",
      "2\n",
      "3\n",
      "4\n"
     ]
    }
   ],
   "source": [
    "i=1\n",
    "while i<=10:\n",
    "    if i==5:\n",
    "        break\n",
    "    print(i)\n",
    "    i+=1\n",
    "    "
   ]
  },
  {
   "cell_type": "markdown",
   "id": "7f9c3646",
   "metadata": {},
   "source": [
    "# Q73. What is the use of pass statement?\n",
    "     \n",
    "     It passes the control to the next statement.\n"
   ]
  },
  {
   "cell_type": "code",
   "execution_count": 81,
   "id": "d71cb8d4",
   "metadata": {},
   "outputs": [
    {
     "name": "stdout",
     "output_type": "stream",
     "text": [
      "10\n"
     ]
    }
   ],
   "source": [
    "for i in range(1,11):\n",
    "    pass\n",
    "print(i)\n"
   ]
  },
  {
   "cell_type": "code",
   "execution_count": 82,
   "id": "25aa6372",
   "metadata": {},
   "outputs": [
    {
     "name": "stdout",
     "output_type": "stream",
     "text": [
      "1\n",
      "2\n",
      "3\n",
      "4\n",
      "5\n",
      "6\n",
      "7\n",
      "8\n",
      "9\n",
      "10\n",
      "10\n"
     ]
    }
   ],
   "source": [
    "for i in range(1,11):\n",
    "    pass\n",
    "    print(i)\n",
    "print(i)"
   ]
  },
  {
   "cell_type": "markdown",
   "id": "f11738c1",
   "metadata": {},
   "source": [
    "# Q74. What is the use of range() function?\n",
    "     \n",
    "     Python range() Function:\n",
    "     The range() function returns a sequence of numbers, starting from 0 by default, and increments by 1 (by default), \n",
    "     and stops before a specified number."
   ]
  },
  {
   "cell_type": "code",
   "execution_count": 83,
   "id": "cc1e4389",
   "metadata": {},
   "outputs": [
    {
     "name": "stdout",
     "output_type": "stream",
     "text": [
      "1\n",
      "2\n",
      "3\n",
      "4\n",
      "5\n",
      "6\n",
      "7\n",
      "8\n",
      "9\n",
      "10\n"
     ]
    }
   ],
   "source": [
    "#example\n",
    "for i in range(1,11):\n",
    "    print(i)"
   ]
  },
  {
   "cell_type": "code",
   "execution_count": 85,
   "id": "b7b9f059",
   "metadata": {},
   "outputs": [
    {
     "name": "stdout",
     "output_type": "stream",
     "text": [
      "1\n",
      "3\n",
      "5\n",
      "7\n",
      "9\n"
     ]
    }
   ],
   "source": [
    "for i in range(1,11,2):\n",
    "    print(i)"
   ]
  },
  {
   "cell_type": "code",
   "execution_count": 86,
   "id": "d4d227fe",
   "metadata": {},
   "outputs": [
    {
     "name": "stdout",
     "output_type": "stream",
     "text": [
      "10\n",
      "8\n",
      "6\n",
      "4\n",
      "2\n"
     ]
    }
   ],
   "source": [
    "for i in range(10,0,-2):\n",
    "    print(i)"
   ]
  },
  {
   "cell_type": "markdown",
   "id": "d211e8cc",
   "metadata": {},
   "source": [
    "# Q75. How can you loop over a dictionary?\n"
   ]
  },
  {
   "cell_type": "code",
   "execution_count": 92,
   "id": "994619fa",
   "metadata": {},
   "outputs": [
    {
     "name": "stdout",
     "output_type": "stream",
     "text": [
      "('Sachin', 10)\n",
      "('MSD', 7)\n",
      "('Kohli', 18)\n",
      "('Rohit', 45)\n",
      "('dhoni', 8)\n",
      "('dhawan', 10)\n",
      "('karthik', 12)\n",
      "('ashwin', 15)\n",
      "Sachin\n",
      "MSD\n",
      "Kohli\n",
      "Rohit\n",
      "dhoni\n",
      "dhawan\n",
      "karthik\n",
      "ashwin\n",
      "10\n",
      "7\n",
      "18\n",
      "45\n",
      "8\n",
      "10\n",
      "12\n",
      "15\n"
     ]
    }
   ],
   "source": [
    "dict={'Sachin': 10, 'MSD': 7, 'Kohli':18, 'Rohit': 45,\"dhoni\":8,\"dhawan\":10,\"karthik\":12,\"ashwin\":15}\n",
    "#loop for key and value pairs\n",
    "for ele in dict.items():\n",
    "    print(ele)\n",
    "#loop for keys only\n",
    "for ele in dict.keys():\n",
    "    print(ele)\n",
    "#loop for values only\n",
    "for ele in dict.values():\n",
    "    print(ele)"
   ]
  },
  {
   "cell_type": "markdown",
   "id": "82d5dbc6",
   "metadata": {},
   "source": [
    "# Q76. Write a Python program to find the factorial of a given number.\n"
   ]
  },
  {
   "cell_type": "code",
   "execution_count": 59,
   "id": "51efd50c",
   "metadata": {},
   "outputs": [
    {
     "name": "stdout",
     "output_type": "stream",
     "text": [
      "enter any integer values: 6\n",
      "720\n"
     ]
    }
   ],
   "source": [
    "def factorial(n):\n",
    "    if n==0 or n==1:\n",
    "        return 1\n",
    "    result=1\n",
    "    for i in range(1,n+1):\n",
    "        result=result*i\n",
    "    return result\n",
    "x=factorial(int(input(\"enter any integer values: \")))\n",
    "print(x)"
   ]
  },
  {
   "cell_type": "markdown",
   "id": "d7843c85",
   "metadata": {},
   "source": [
    "# Q77. Write a Python program to calculate the simple interest. Formula to calculate simple interest is SI = (PRT)/100"
   ]
  },
  {
   "cell_type": "code",
   "execution_count": 305,
   "id": "0409380c",
   "metadata": {},
   "outputs": [
    {
     "name": "stdout",
     "output_type": "stream",
     "text": [
      "enter principle amount: 150000\n",
      "enter Rate of the interest: 36\n",
      "enter number of years: 3\n",
      "simple interest of the given amounts:  162000.0\n"
     ]
    }
   ],
   "source": [
    "P=float(input(\"enter principle amount: \"))\n",
    "R=float(input(\"enter Rate of the interest: \"))\n",
    "T=float(input(\"enter number of years: \"))\n",
    "SI=(P*T*R)/100\n",
    "print(\"simple interest of the given amounts: \",SI)"
   ]
  },
  {
   "cell_type": "markdown",
   "id": "05c68bcd",
   "metadata": {},
   "source": [
    "# Q78. Write a Python program to calculate the compound interest. Formula of compound interest is A = P(1+ R/100)^t."
   ]
  },
  {
   "cell_type": "code",
   "execution_count": 322,
   "id": "669c9c22",
   "metadata": {},
   "outputs": [
    {
     "name": "stdout",
     "output_type": "stream",
     "text": [
      "enter principle amount: 100000\n",
      "enter rate of Interest: 24\n",
      "enter a time of the duration in years: 2\n",
      "compound_interest:  53760.0\n"
     ]
    }
   ],
   "source": [
    "P=float(input(\"enter principle amount: \"))\n",
    "R=float(input(\"enter rate of Interest: \"))\n",
    "T=int(input(\"enter a time of the duration in years: \"))\n",
    "A=P*(1+R/100)**T\n",
    "compound_interest=A-P\n",
    "print(\"compound_interest: \",compound_interest)\n"
   ]
  },
  {
   "cell_type": "markdown",
   "id": "35bee91a",
   "metadata": {},
   "source": [
    "# Q79. Write a Python program to check if a number is prime or not."
   ]
  },
  {
   "cell_type": "code",
   "execution_count": 323,
   "id": "54221875",
   "metadata": {},
   "outputs": [
    {
     "name": "stdout",
     "output_type": "stream",
     "text": [
      "enter any integer number: 63\n",
      "given number 63 is not a prime number\n"
     ]
    }
   ],
   "source": [
    "n=int(input(\"enter any integer number: \"))\n",
    "count=0\n",
    "for a in range(1,n+1):\n",
    "    if n%a==0:\n",
    "        count+=1\n",
    "if count==2:\n",
    "    print(f\"given number {n} is a prime number \")\n",
    "else:\n",
    "    print(f\"given number {n} is not a prime number\")\n"
   ]
  },
  {
   "cell_type": "markdown",
   "id": "7b9d9998",
   "metadata": {},
   "source": [
    "# Q80. Write a Python program to check Armstrong Number.\n"
   ]
  },
  {
   "cell_type": "code",
   "execution_count": 71,
   "id": "1b64d134",
   "metadata": {},
   "outputs": [
    {
     "name": "stdout",
     "output_type": "stream",
     "text": [
      "enter any number:121\n",
      "given number is not a amstrong number\n"
     ]
    }
   ],
   "source": [
    "n=int(input(\"enter any number:\"))\n",
    "x=n\n",
    "y=n\n",
    "count=0\n",
    "sum1=0\n",
    "while n>0:\n",
    "    r=n%10\n",
    "    count=count+1\n",
    "    n=n//10\n",
    "while x>0:\n",
    "    r=x%10\n",
    "    sum1=sum1+(r**count)\n",
    "    x=x//10\n",
    "if sum1==y:\n",
    "    print(\"given number is amstrong number\")\n",
    "else:\n",
    "    print(\"given number is not a amstrong number\")"
   ]
  },
  {
   "cell_type": "markdown",
   "id": "6eb8caae",
   "metadata": {},
   "source": [
    "# Q82. Write a Python program to interchange the first and last element in a list.\n"
   ]
  },
  {
   "cell_type": "code",
   "execution_count": 330,
   "id": "9131915c",
   "metadata": {},
   "outputs": [
    {
     "name": "stdout",
     "output_type": "stream",
     "text": [
      "[100, 20, 30, 40, 50, 60, 70, 80, 90, 10]\n"
     ]
    }
   ],
   "source": [
    "list1=[10,20,30,40,50,60,70,80,90,100]\n",
    "x=list1[-1]\n",
    "list1[-1]=list1[0]\n",
    "list1[0]=x\n",
    "print(list1)"
   ]
  },
  {
   "cell_type": "markdown",
   "id": "35a71287",
   "metadata": {},
   "source": [
    "# Q83. Write a Python program to swap two elements in a list."
   ]
  },
  {
   "cell_type": "code",
   "execution_count": 132,
   "id": "3e635d72",
   "metadata": {},
   "outputs": [
    {
     "name": "stdout",
     "output_type": "stream",
     "text": [
      "original list:  [10, 20, 30, 40]\n",
      "after swapping list:  [30, 20, 10, 40]\n"
     ]
    }
   ],
   "source": [
    "list1=[10,20,30,40]\n",
    "print(\"original list: \",list1)\n",
    "list1[2],list1[0]=list1[0],list1[2]\n",
    "print(\"after swapping list: \",list1)"
   ]
  },
  {
   "cell_type": "markdown",
   "id": "11ddcb2e",
   "metadata": {},
   "source": [
    "# Q84. Write a Python program to find N largest element from a list.\n"
   ]
  },
  {
   "cell_type": "code",
   "execution_count": 26,
   "id": "7dcc8459",
   "metadata": {},
   "outputs": [
    {
     "name": "stdout",
     "output_type": "stream",
     "text": [
      "n_largest element in the given list 1050\n"
     ]
    }
   ],
   "source": [
    "list10=[100,500,41,2,30,5,456,952,1050,236]\n",
    "n_largest=0\n",
    "for i in list10:\n",
    "    if i>n_largest:\n",
    "        n_largest=i\n",
    "print(\"n_largest element in the given list\",n_largest)"
   ]
  },
  {
   "cell_type": "markdown",
   "id": "a38d53e9",
   "metadata": {},
   "source": [
    "# Q85. Write a Python program to find cumulative sum of a list.\n"
   ]
  },
  {
   "cell_type": "code",
   "execution_count": 32,
   "id": "f290d82f",
   "metadata": {},
   "outputs": [
    {
     "name": "stdout",
     "output_type": "stream",
     "text": [
      "cumulative sum of the given list:  [100, 600, 641, 643, 673, 678, 1134, 2086, 3136, 3372]\n"
     ]
    }
   ],
   "source": [
    "list10=[100,500,41,2,30,5,456,952,1050,236]\n",
    "cumulative_sum=0\n",
    "list11=[]\n",
    "for i in list10:\n",
    "        cumulative_sum=cumulative_sum+i\n",
    "        list11.append(cumulative_sum)\n",
    "print(\"cumulative sum of the given list: \",list11)\n"
   ]
  },
  {
   "cell_type": "markdown",
   "id": "50197182",
   "metadata": {},
   "source": [
    "# Q86. Write a Python program to check if a string is palindrome or not.\n"
   ]
  },
  {
   "cell_type": "code",
   "execution_count": 34,
   "id": "d629773b",
   "metadata": {},
   "outputs": [
    {
     "name": "stdout",
     "output_type": "stream",
     "text": [
      "enter a string characters: malayalam\n",
      "given malayalam string is a palindrome\n"
     ]
    }
   ],
   "source": [
    "string=input(\"enter a string characters: \")\n",
    "str1=string[::-1]\n",
    "if string==str1:\n",
    "    print(f\"given {string} string is a palindrome\")\n",
    "else:\n",
    "    print(f\"given {string} string is not a palindrome\")\n",
    "    "
   ]
  },
  {
   "cell_type": "markdown",
   "id": "f8d653ba",
   "metadata": {},
   "source": [
    "# Q87. Write a Python program to remove i'th element from a string.\n"
   ]
  },
  {
   "cell_type": "code",
   "execution_count": 101,
   "id": "155b9742",
   "metadata": {},
   "outputs": [
    {
     "name": "stdout",
     "output_type": "stream",
     "text": [
      "enter any string characters: soujanya\n",
      "enter i'th element: 5\n",
      "soujaya\n"
     ]
    }
   ],
   "source": [
    "string1=input(\"enter any string characters: \")\n",
    "# Remove nth index element\n",
    "i= int(input(\"enter i'th element: \"))   \n",
    "# Print the new string\n",
    "string=string1.replace(string1[i],\"\")\n",
    "print(string)\n"
   ]
  },
  {
   "cell_type": "markdown",
   "id": "b329e0b8",
   "metadata": {},
   "source": [
    "# Q88. Write a Python program to check if a substring is present in a given string.\n"
   ]
  },
  {
   "cell_type": "code",
   "execution_count": 45,
   "id": "8cd9ccd6",
   "metadata": {},
   "outputs": [
    {
     "name": "stdout",
     "output_type": "stream",
     "text": [
      "enter any string characters: souji and priya are sisters\n",
      "enter any sub_string character: sister\n",
      "substring 'sister'' is present in given string\n"
     ]
    }
   ],
   "source": [
    "string1=input(\"enter any string characters: \")\n",
    "sub_str=input(\"enter any sub_string character: \")\n",
    "if sub_str in string1:\n",
    "    print(f\"substring '{sub_str}'' is present in given string\")"
   ]
  },
  {
   "cell_type": "markdown",
   "id": "a555b7ee",
   "metadata": {},
   "source": [
    "# Q89. Write a Python program to find words which are greater than given length k.\n"
   ]
  },
  {
   "cell_type": "code",
   "execution_count": 74,
   "id": "a549d1bf",
   "metadata": {},
   "outputs": [
    {
     "name": "stdout",
     "output_type": "stream",
     "text": [
      "enter a string characters: write a python program to find words which are\n",
      "['write', 'python', 'program', 'find', 'words', 'which']\n"
     ]
    }
   ],
   "source": [
    "sent=input(\"enter a string characters: \")\n",
    "length=3\n",
    "res=[word for word in sent.split() if len(word)>length]\n",
    "print(res)"
   ]
  },
  {
   "cell_type": "markdown",
   "id": "925c8428",
   "metadata": {},
   "source": [
    "# Q90. Write a Python program to extract unquire dictionary values."
   ]
  },
  {
   "cell_type": "code",
   "execution_count": 55,
   "id": "2d25bde9",
   "metadata": {},
   "outputs": [
    {
     "name": "stdout",
     "output_type": "stream",
     "text": [
      "list of the given all values of the dictionary:  [123, 12, 's', 's', 'souji', 'hi', 'priya', 'souji']\n",
      "uniquie values for the given dictionary values:  ['hi', 'souji', 12, 's', 'priya', 123]\n"
     ]
    }
   ],
   "source": [
    "dict10={1:123,2:12,3:'s',4:'s',5:\"souji\",6:'hi',7:\"priya\",'name':'souji'}\n",
    "values=dict10.values()\n",
    "print(\"list of the given all values of the dictionary: \",list(values))\n",
    "print(\"uniquie values for the given dictionary values: \",list(set(values)))"
   ]
  },
  {
   "cell_type": "markdown",
   "id": "7bb66d91",
   "metadata": {},
   "source": [
    "# Q91. Write a Python program to merge two dictionary"
   ]
  },
  {
   "cell_type": "code",
   "execution_count": 160,
   "id": "d4e30fb2",
   "metadata": {},
   "outputs": [
    {
     "name": "stdout",
     "output_type": "stream",
     "text": [
      "{'Sachin': 10, 'MSD': 7, 'Kohli': 18, 'Rohit': 45, 'dhoni': 8, 'dhawan': 10, 'karthik': 12, 'ashwin': 15}\n"
     ]
    }
   ],
   "source": [
    "Input1 = {'Sachin': 10, 'MSD': 7, 'Kohli':18, 'Rohit': 45}\n",
    "Input2 = {\"dhoni\":8,\"dhawan\":10,\"karthik\":12,\"ashwin\":15}\n",
    "Input1.update(Input2)\n",
    "print(Input1)"
   ]
  },
  {
   "cell_type": "markdown",
   "id": "766f94b4",
   "metadata": {},
   "source": [
    "# Q92. Write a Python program to convert a list of tuples into dictionary.\n",
    "\n",
    "Input : [('Sachin', 10), ('MSD', 7), ('Kohli', 18), ('Rohit', 45)]\n",
    "    \n",
    "Output : {'Sachin': 10, 'MSD': 7, 'Kohli': 18, 'Rohit': 45}"
   ]
  },
  {
   "cell_type": "code",
   "execution_count": 155,
   "id": "64fc9cc9",
   "metadata": {},
   "outputs": [
    {
     "name": "stdout",
     "output_type": "stream",
     "text": [
      "{'Sachin': 10, 'MSD': 7, 'Kohli': 18, 'Rohit': 45}\n"
     ]
    }
   ],
   "source": [
    "Input = [('Sachin', 10), ('MSD', 7), ('Kohli', 18), ('Rohit', 45)]\n",
    "result=dict(Input)\n",
    "print(result)\n"
   ]
  },
  {
   "cell_type": "markdown",
   "id": "38d06769",
   "metadata": {},
   "source": [
    "# Q93. Write a Python program to create a list of tuples from given list having number and its cube in each tuple.\n",
    "\n",
    "Input: list = [9, 5, 6]\n",
    "    \n",
    "Output: [(9, 729), (5, 125), (6, 216)]"
   ]
  },
  {
   "cell_type": "code",
   "execution_count": 146,
   "id": "9e6b07f6",
   "metadata": {},
   "outputs": [
    {
     "name": "stdout",
     "output_type": "stream",
     "text": [
      "[(9, 729), (5, 125), (6, 216)]\n"
     ]
    }
   ],
   "source": [
    "input_list=[9,5,6]\n",
    "res=[(a,a**3) for a in input_list]\n",
    "print(res)"
   ]
  },
  {
   "cell_type": "code",
   "execution_count": 148,
   "id": "e2c003b0",
   "metadata": {},
   "outputs": [
    {
     "name": "stdout",
     "output_type": "stream",
     "text": [
      "[(9, 729), (5, 125), (6, 216)]\n"
     ]
    }
   ],
   "source": [
    "# by using pow() function\n",
    "input_list=[9,5,6]\n",
    "res=[(a,pow(a,3)) for a in input_list]\n",
    "print(res)"
   ]
  },
  {
   "cell_type": "markdown",
   "id": "f908c69c",
   "metadata": {},
   "source": [
    "# Q94. Write a Python program to get all combinations of 2 tuples.\n",
    "\n",
    "Input : test_tuple1 = (7, 2), test_tuple2 = (7, 8)\n",
    "    \n",
    "Output : [(7, 7), (7, 8), (2, 7), (2, 8), (7, 7), (7, 2), (8, 7), (8, 2)]"
   ]
  },
  {
   "cell_type": "code",
   "execution_count": 130,
   "id": "135d177a",
   "metadata": {},
   "outputs": [
    {
     "name": "stdout",
     "output_type": "stream",
     "text": [
      "given original test_tuple1:  (7, 2)\n",
      "given original test_tuple2:  (7, 8)\n",
      "combinations of given two tuples:  [(7, 7), (7, 8), (2, 7), (2, 8), (7, 7), (7, 2), (8, 7), (8, 2)]\n"
     ]
    }
   ],
   "source": [
    "test_tuple1 = (7, 2)\n",
    "test_tuple2 = (7, 8)\n",
    "print(\"given original test_tuple1: \",test_tuple1)\n",
    "print(\"given original test_tuple2: \",test_tuple2)\n",
    "res1=[(a,b) for a in test_tuple1 for b in test_tuple2]\n",
    "res2=[(a,b) for a in test_tuple2 for b in test_tuple1]\n",
    "result=res1+res2\n",
    "print(\"combinations of given two tuples: \",result)"
   ]
  },
  {
   "cell_type": "markdown",
   "id": "0ee3fa8b",
   "metadata": {},
   "source": [
    "# Q95. Write a Python program to sort a list of tuples by second item.\n",
    "\n",
    "Input : [('for', 24), ('Geeks', 8), ('Geeks', 30)] \n",
    "\n",
    "Output : [('Geeks', 8), ('for', 24), ('Geeks', 30)]"
   ]
  },
  {
   "cell_type": "code",
   "execution_count": 130,
   "id": "379553b1",
   "metadata": {},
   "outputs": [
    {
     "name": "stdout",
     "output_type": "stream",
     "text": [
      "[('Geeks', 8), ('for', 24), ('Geeks', 30)]\n"
     ]
    }
   ],
   "source": [
    "# Python program to sort a list of tuples by the second Item \n",
    "# Function to sort the list of tuples by its second item\n",
    "def Sort_Tuple(tup):\n",
    "    lst = len(tup)\n",
    "    for i in range(0, lst):  \n",
    "        for j in range(0, lst-i-1):\n",
    "            if (tup[j][1] > tup[j + 1][1]):\n",
    "                temp = tup[j]\n",
    "                tup[j]= tup[j + 1]\n",
    "                tup[j + 1]= temp\n",
    "    return tup\n",
    "tup =[('for', 24), ('Geeks', 8), ('Geeks', 30)]\n",
    "print(Sort_Tuple(tup))"
   ]
  },
  {
   "cell_type": "code",
   "execution_count": 132,
   "id": "6042209f",
   "metadata": {},
   "outputs": [
    {
     "name": "stdout",
     "output_type": "stream",
     "text": [
      "[('Geeks', 8), ('for', 24), ('Geeks', 30)]\n"
     ]
    }
   ],
   "source": [
    "def Sort_Tuple(tup):\n",
    "    for i in range(0, len(tup)): \n",
    "        for j in range(0, len(tup)-i-1):\n",
    "            if (tup[j][1] > tup[j + 1][1]):\n",
    "                temp = tup[j]\n",
    "                tup[j]= tup[j + 1]\n",
    "                tup[j + 1]= temp\n",
    "    return tup\n",
    "tup =[('for', 24), ('Geeks', 8), ('Geeks', 30)]\n",
    "print(Sort_Tuple(tup))"
   ]
  },
  {
   "cell_type": "code",
   "execution_count": 133,
   "id": "13001a62",
   "metadata": {},
   "outputs": [
    {
     "name": "stdout",
     "output_type": "stream",
     "text": [
      "[('Geeks', 8), ('for', 24), ('Geeks', 30)]\n"
     ]
    }
   ],
   "source": [
    "# Python program to sort a list of\n",
    "# tuples by the second Item using sort()\n",
    "# Function to sort the list by second item of tuple\n",
    "\n",
    "def Sort_Tuple(tup):\n",
    "    tup.sort(key = lambda x: x[1])\n",
    "    return tup\n",
    " \n",
    "tup =[('for', 24), ('Geeks', 8), ('Geeks', 30)]\n",
    "print(Sort_Tuple(tup))"
   ]
  },
  {
   "cell_type": "code",
   "execution_count": 135,
   "id": "5f057865",
   "metadata": {},
   "outputs": [
    {
     "name": "stdout",
     "output_type": "stream",
     "text": [
      "[('Geeks', 8), ('for', 24), ('Geeks', 30)]\n"
     ]
    }
   ],
   "source": [
    "# Python program to sort a list of\n",
    "# tuples by the second Item using sorted()\n",
    "def Sort_Tuple(tup):\n",
    "    return(sorted(tup, key = lambda x: x[1]))\n",
    "\n",
    "tup =[('for', 24), ('Geeks', 8), ('Geeks', 30)]\n",
    "print(Sort_Tuple(tup))"
   ]
  },
  {
   "cell_type": "markdown",
   "id": "dd7ed041",
   "metadata": {},
   "source": [
    "# Q96. Write a python program to print below pattern."
   ]
  },
  {
   "cell_type": "raw",
   "id": "4a788a46",
   "metadata": {},
   "source": [
    "* \n",
    "* * \n",
    "* * * \n",
    "* * * * \n",
    "* * * * *"
   ]
  },
  {
   "cell_type": "code",
   "execution_count": 96,
   "id": "870cedf8",
   "metadata": {},
   "outputs": [
    {
     "name": "stdout",
     "output_type": "stream",
     "text": [
      "* \n",
      "* * \n",
      "* * * \n",
      "* * * * \n",
      "* * * * * \n"
     ]
    }
   ],
   "source": [
    "for i in range(1,6):\n",
    "    for j in range(1,i+1):\n",
    "        print(\"*\",end=\" \")\n",
    "    print()"
   ]
  },
  {
   "cell_type": "markdown",
   "id": "d803137c",
   "metadata": {},
   "source": [
    "# Q97. Write a python program to print below pattern."
   ]
  },
  {
   "cell_type": "raw",
   "id": "f4ea4fc7",
   "metadata": {},
   "source": [
    "\n",
    "    *\n",
    "   **\n",
    "  ***\n",
    " ****\n",
    "*****"
   ]
  },
  {
   "cell_type": "code",
   "execution_count": 102,
   "id": "b7d4c809",
   "metadata": {},
   "outputs": [
    {
     "name": "stdout",
     "output_type": "stream",
     "text": [
      "          * \n",
      "        * * \n",
      "      * * * \n",
      "    * * * * \n",
      "  * * * * * \n"
     ]
    }
   ],
   "source": [
    "for i in range(1,6):\n",
    "    for k in range(6,i,-1):\n",
    "        print(\" \",end=\" \")\n",
    "    for j in range(1,i+1):\n",
    "        print(\"*\",end=\" \")\n",
    "    print()"
   ]
  },
  {
   "cell_type": "markdown",
   "id": "e2e3d45f",
   "metadata": {},
   "source": [
    "# Q98. Write a python program to print below pattern."
   ]
  },
  {
   "cell_type": "raw",
   "id": "048446bb",
   "metadata": {},
   "source": [
    "    * \n",
    "   * * \n",
    "  * * * \n",
    " * * * * \n",
    "* * * * * "
   ]
  },
  {
   "cell_type": "code",
   "execution_count": 103,
   "id": "9772f3f8",
   "metadata": {},
   "outputs": [
    {
     "name": "stdout",
     "output_type": "stream",
     "text": [
      "    * \n",
      "   * * \n",
      "  * * * \n",
      " * * * * \n",
      "* * * * * \n"
     ]
    }
   ],
   "source": [
    "for i in range(1,6):\n",
    "    for j in range(5,i,-1):\n",
    "        print(\" \",end=\"\")\n",
    "    for k in range(1,i+1):\n",
    "        print(\"*\",end=\" \")\n",
    "    print()"
   ]
  },
  {
   "cell_type": "markdown",
   "id": "72c32c50",
   "metadata": {},
   "source": [
    "# Q99. Write a python program to print below pattern.\n"
   ]
  },
  {
   "cell_type": "raw",
   "id": "792361a3",
   "metadata": {},
   "source": [
    "1 \n",
    "1 2 \n",
    "1 2 3 \n",
    "1 2 3 4 \n",
    "1 2 3 4 5"
   ]
  },
  {
   "cell_type": "code",
   "execution_count": 50,
   "id": "f9b75fa9",
   "metadata": {},
   "outputs": [
    {
     "name": "stdout",
     "output_type": "stream",
     "text": [
      "1 \n",
      "1 2 \n",
      "1 2 3 \n",
      "1 2 3 4 \n",
      "1 2 3 4 5 \n"
     ]
    }
   ],
   "source": [
    "for i in range(1,6):\n",
    "    for j in range(1,i+1):\n",
    "        print(j,end=\" \")\n",
    "    print()"
   ]
  },
  {
   "cell_type": "markdown",
   "id": "51ece875",
   "metadata": {},
   "source": [
    "# Q100. Write a python program to print below pattern.\n"
   ]
  },
  {
   "cell_type": "raw",
   "id": "c379aef1",
   "metadata": {},
   "source": [
    "A \n",
    "B B \n",
    "C C C \n",
    "D D D D \n",
    "E E E E E "
   ]
  },
  {
   "cell_type": "code",
   "execution_count": 127,
   "id": "27b301fa",
   "metadata": {},
   "outputs": [
    {
     "name": "stdout",
     "output_type": "stream",
     "text": [
      "enter  a number in between 0 to 26: 5\n",
      "A \n",
      "B B \n",
      "C C C \n",
      "D D D D \n",
      "E E E E E \n"
     ]
    }
   ],
   "source": [
    "def alphabet(n):    #using function\n",
    "    num=65 #ASCII value\n",
    "    for i in range(0,n):\n",
    "        for j in range(0,i+1):\n",
    "            ch=chr(num) # explicitly converting to char\n",
    "            print(ch,end=\" \")\n",
    "        num=num+1\n",
    "        print()\n",
    "alphabet(int(input(\"enter  a number in between 0 to 26: \")))\n",
    "            "
   ]
  },
  {
   "cell_type": "code",
   "execution_count": 125,
   "id": "47dd7c63",
   "metadata": {},
   "outputs": [
    {
     "name": "stdout",
     "output_type": "stream",
     "text": [
      "enter any number: 10\n",
      "A \n",
      "B B \n",
      "C C C \n",
      "D D D D \n",
      "E E E E E \n",
      "F F F F F F \n",
      "G G G G G G G \n",
      "H H H H H H H H \n",
      "I I I I I I I I I \n",
      "J J J J J J J J J J \n"
     ]
    }
   ],
   "source": [
    "n=int(input(\"enter any number: \"))\n",
    "num=65\n",
    "for i in range(0,n):\n",
    "    for j in range(0,i+1):\n",
    "        ch=chr(num)\n",
    "        print(ch,end=\" \")\n",
    "    num=num+1\n",
    "    print()\n",
    "    "
   ]
  },
  {
   "cell_type": "code",
   "execution_count": null,
   "id": "16905339",
   "metadata": {},
   "outputs": [],
   "source": []
  }
 ],
 "metadata": {
  "kernelspec": {
   "display_name": "Python 3 (ipykernel)",
   "language": "python",
   "name": "python3"
  },
  "language_info": {
   "codemirror_mode": {
    "name": "ipython",
    "version": 3
   },
   "file_extension": ".py",
   "mimetype": "text/x-python",
   "name": "python",
   "nbconvert_exporter": "python",
   "pygments_lexer": "ipython3",
   "version": "3.9.7"
  }
 },
 "nbformat": 4,
 "nbformat_minor": 5
}
