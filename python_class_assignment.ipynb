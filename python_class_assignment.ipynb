{
 "cells": [
  {
   "cell_type": "markdown",
   "id": "3e23c08b",
   "metadata": {},
   "source": [
    "Q1. Why do we call Python as a general purpose and high-level programming language?\n",
    "\n",
    "    Python is an object-oriented, high-level programming language. Object-oriented means this language is based around objects (such as data) rather than functions, and high-level means it's easy for humans to understand.\n",
    "    In computer software, a general-purpose programming language (GPL) is a programming language designed to be used for building software in a wide variety of application domains, across a multitude of hardware configurations and operating systems."
   ]
  },
  {
   "cell_type": "markdown",
   "id": "31b35ae0",
   "metadata": {},
   "source": [
    "Q2. Why is Python called a dynamically typed language?\n",
    "    \n",
    "    In the python language we need not to mention statically the datatype of the data,python interpreter takecare\n",
    "    of the datatype dynamically "
   ]
  },
  {
   "cell_type": "markdown",
   "id": "8d5ee9bb",
   "metadata": {},
   "source": [
    "Q3. List some pros and cons of Python programming language?\n",
    "\n",
    "     \n",
    "     pros:\n",
    "     python is easy to learn and read\n",
    "     python enhances productivity\n",
    "     python has a vast collection of libraries\n",
    "     python is free,open_source and has a vibrant community\n",
    "     python is a portable language\n",
    "     python is a interpreted language\n",
    "     \n",
    "     cons:\n",
    "     python has speed limitations\n",
    "     python is not so strong with mobile computing\n",
    "     python can have runtime errors\n",
    "     Python consumes a lot of memory space\n",
    "     Python is not easy to test\n",
    "     "
   ]
  },
  {
   "cell_type": "markdown",
   "id": "12ad8b03",
   "metadata": {},
   "source": [
    "Q4. In what all domains can we use Python?\n",
    "\n",
    "     python is used in Artificial inteligence(AI)\n",
    "     Machine Learning\n",
    "     Deep Learning\n",
    "     Data science applications\n",
    "  "
   ]
  },
  {
   "cell_type": "markdown",
   "id": "c0305dc4",
   "metadata": {},
   "source": [
    "Q5. What are variable and how can we declare them?\n",
    "    \n",
    "    an identifier is a word and  it is used to identify variables,methods,functions,classes....etc.\n",
    "    It can be a variable name,method name,function name,classname..ete\n",
    "    Variable:variable is a container that contains data\n",
    "    Rules to declear an identifier:\n",
    "    1.It can be formed by using alphabets(A to Z &a to z),digits(0 to 9),&underscore symbol(_).\n",
    "    2.It must start with alphabets and underscore symbol only\n",
    "    3.length of the identifier(variable) is not limited.\n",
    "    4.It shoud not contain special symbol other than underscore symbol\n",
    "    5.it should not contain white space character(space bar,tab&enter keys)"
   ]
  },
  {
   "cell_type": "markdown",
   "id": "bcb79e38",
   "metadata": {},
   "source": [
    "Q6. How can we take an input from the user in Python?\n",
    "     \n",
    "     Here we are using the input() function (python In-Build function)."
   ]
  },
  {
   "cell_type": "markdown",
   "id": "60ddb975",
   "metadata": {},
   "source": [
    "Q7. What is the default datatype of the value that has been taken as an input using input() function?\n",
    "\n",
    "      \"String\" litral is the default datatype of the value  when we use input() function as ainput."
   ]
  },
  {
   "cell_type": "markdown",
   "id": "36c97b91",
   "metadata": {},
   "source": [
    "Q8. What is type casting?\n",
    "    \n",
    "    changing the one datatype to another data type is known as type casting."
   ]
  },
  {
   "cell_type": "markdown",
   "id": "79c17f8c",
   "metadata": {},
   "source": [
    "Q9. Can we take more than one input from the user using single input() function? If yes, how? If no, why?\n",
    "     \n",
    "     No,at a time only one input will be taken by using only single input() function.\n",
    "     yes,when we use split() function along with input() function we can take multiple inputs by the user\n",
    "      "
   ]
  },
  {
   "cell_type": "markdown",
   "id": "034cdbcd",
   "metadata": {},
   "source": [
    "Q10. What are keywords?\n",
    "\n",
    "    A set of words reserved by language itself and those words are known as keywords.\n",
    "    In python there are 36 keywords right now\n",
    "    \n",
    "    "
   ]
  },
  {
   "cell_type": "code",
   "execution_count": 37,
   "id": "f4d21134",
   "metadata": {},
   "outputs": [
    {
     "name": "stdout",
     "output_type": "stream",
     "text": [
      "['False', 'None', 'True', '__peg_parser__', 'and', 'as', 'assert', 'async', 'await', 'break', 'class', 'continue', 'def', 'del', 'elif', 'else', 'except', 'finally', 'for', 'from', 'global', 'if', 'import', 'in', 'is', 'lambda', 'nonlocal', 'not', 'or', 'pass', 'raise', 'return', 'try', 'while', 'with', 'yield']\n"
     ]
    },
    {
     "data": {
      "text/plain": [
       "36"
      ]
     },
     "execution_count": 37,
     "metadata": {},
     "output_type": "execute_result"
    }
   ],
   "source": [
    "import keyword\n",
    "print(keyword.kwlist)\n",
    "len(keyword.kwlist)"
   ]
  },
  {
   "cell_type": "markdown",
   "id": "f0a3f3ef",
   "metadata": {},
   "source": [
    "Q11. Can we use keywords as a variable? Support your answer with reason.\n",
    "    \n",
    "    No, we can not use the keywords as a variable\n",
    "    Keywords are used to define the syntax of the coding. The keyword cannot be used as an identifier, function, and\n",
    "    variable name. All the keywords in python are written in lower case except True and False"
   ]
  },
  {
   "cell_type": "markdown",
   "id": "902f8a45",
   "metadata": {},
   "source": [
    "Q12. What is indentation? What's the use of indentaion in Python?\n",
    "      \n",
    "      Indentation is basically the leading white space character added at the beginning of statements to indicate\n",
    "      a block of code.The main purpose of indenting the code is to separate the blocks of code. Besides, it also \n",
    "      improves the readability of the code."
   ]
  },
  {
   "cell_type": "markdown",
   "id": "af26bebe",
   "metadata": {},
   "source": [
    "Q13. How can we throw some output in Python?\n",
    "\n",
    "     Using the print() function(In-Build python function) we can print the output."
   ]
  },
  {
   "cell_type": "markdown",
   "id": "6422b986",
   "metadata": {},
   "source": [
    "Q14. What are operators in Python?\n",
    "\n",
    "      An operator is a special symbol which operates on data.\n",
    "      In python operators are divided into 8 categories\n",
    "      1.Arithemetic operators\n",
    "         +  ---> addition\n",
    "         -  ---> subtration\n",
    "         *  ---> multipication\n",
    "         /  ---> division\n",
    "         // ---> floor division\n",
    "         %  --->modulo division\n",
    "         ** ---> exponential\n",
    "      2.relational operators (these operators always returns bool type date)\n",
    "         <  ---> lessthan\n",
    "         >  ---> greaterthan\n",
    "         <= ---> lessthan or equals to\n",
    "         >= ---> greaterthan or equals to\n",
    "         == ---> equals to\n",
    "         != ---> not equals to\n",
    "      3.logical operators (these operators always returns bool type date)\n",
    "         and  ---> logical AND\n",
    "         or   ---> logical OR\n",
    "         not  ---> logical NOT\n",
    "      4.bitwise operators\n",
    "         &  ---> bitwise AND\n",
    "         |  ---> bitwise OR\n",
    "         ^  ---> bitwise XOR\n",
    "         << ---> left shift\n",
    "         >> ---> right shift\n",
    "         ~  ---> complement(Tilde)\n",
    "      5.Assignment operators\n",
    "         =     ---> normal assignment\n",
    "         a+=b  ---> a=a+b\n",
    "         a-=b  ---> a=a-b\n",
    "         a*=b  ---> a=a*b\n",
    "         a/=b  ---> a=a/b\n",
    "         a//=b ---> a=a//b\n",
    "         a%=b  ---> a=a%b\n",
    "         a**=b ---> a=a**b\n",
    "         a&=b  ---> a=a&b\n",
    "         a|=b  ---> a=a|b\n",
    "         a^=b  ---> a=a^b\n",
    "         a<<=b ---> a=a<<b\n",
    "         a>>=b ---> a=a>>b\n",
    "      6.membership operators\n",
    "      7.identity operators\n",
    "      8.unary plus & unary minus operators\n",
    "      "
   ]
  },
  {
   "cell_type": "markdown",
   "id": "a9a0ee98",
   "metadata": {},
   "source": [
    "Q15. What is difference between / and // operators?\n",
    "\n",
    "       \" / \" is divison operator it ruturns Quotient in float format\n",
    "       \"//\"  is a floor division operator it ruturns quotient in integer format"
   ]
  },
  {
   "cell_type": "markdown",
   "id": "d624a00d",
   "metadata": {},
   "source": [
    "Q16. Write a code that gives following as an output.\n",
    "\n",
    "    iNeuroniNeuroniNeuroniNeuron\n",
    "\n",
    "example:\n"
   ]
  },
  {
   "cell_type": "code",
   "execution_count": 38,
   "id": "15d8a6a5",
   "metadata": {},
   "outputs": [
    {
     "name": "stdout",
     "output_type": "stream",
     "text": [
      "iNeuroniNeuroniNeuroniNeuron\n"
     ]
    }
   ],
   "source": [
    " print(\"iNeuron\"*4)"
   ]
  },
  {
   "cell_type": "code",
   "execution_count": 39,
   "id": "34a74f8d",
   "metadata": {},
   "outputs": [
    {
     "name": "stdout",
     "output_type": "stream",
     "text": [
      "enter a number: 66\n",
      "given input number is even number\n"
     ]
    }
   ],
   "source": [
    "# Q17. Write a code to take a number as an input from the user and check if the number is odd or even.\n",
    "x=int(input(\"enter a number: \"))\n",
    "if x%2==0:\n",
    "    print(\"given input number is even number\")\n",
    "#elif:\n",
    "   # print(\"given number is odd number \")\n",
    "else:\n",
    "    print(\"given input number is odd\")"
   ]
  },
  {
   "cell_type": "markdown",
   "id": "fb739e4d",
   "metadata": {},
   "source": [
    "Q18. What are boolean operator?\n",
    "   \n",
    "    Logical And\n",
    "    logical OR\n",
    "    logical NOT and relational operatores like >,<,<=,>=,==,!= also  returns bool values(True and false)"
   ]
  },
  {
   "cell_type": "code",
   "execution_count": 40,
   "id": "50e50882",
   "metadata": {},
   "outputs": [
    {
     "name": "stdout",
     "output_type": "stream",
     "text": [
      "1\n",
      "0\n",
      "False\n",
      "1\n"
     ]
    }
   ],
   "source": [
    "# Q19. What will the output of the following?\n",
    "\"\"\"\n",
    "1 or 0    \n",
    "0 and 0\n",
    "True and False and True\n",
    "1 or 0 or 0 \"\"\"\n",
    "print(0 or 1)\n",
    "print(0 and 0)\n",
    "print(True and False and True)\n",
    "print(1 or 0 or 0)\n"
   ]
  },
  {
   "cell_type": "markdown",
   "id": "62b58db7",
   "metadata": {},
   "source": [
    "Q20. What are conditional statements in Python?\n",
    "\n",
    "       The if statement is a conditional statement in python, that is used to determine whether a block of code will be executed or not\n",
    "       if conditional statement\n",
    "       if-else statement\n",
    "       if-elif---else statement\n",
    "       Nested if  statement   \n",
    "       "
   ]
  },
  {
   "cell_type": "markdown",
   "id": "ba8e2e5e",
   "metadata": {},
   "source": [
    "Q21. What is use of 'if', 'elif' and 'else' keywords?\n",
    "     \n",
    "     \n",
    "     It allows us to check for multiple expressions. If the condition for if is False , it checks the condition of the next          \n",
    "     elif block and so on. If all the conditions are False , the body of else is executed."
   ]
  },
  {
   "cell_type": "markdown",
   "id": "024dc8c8",
   "metadata": {},
   "source": [
    "Q22. Write a code to take the age of person as an input and if age >= 18 display \"I can vote\". If age is < 18 display \"I can't vote\"."
   ]
  },
  {
   "cell_type": "code",
   "execution_count": 41,
   "id": "2227511c",
   "metadata": {},
   "outputs": [
    {
     "name": "stdout",
     "output_type": "stream",
     "text": [
      "enter the age of the person: 12\n",
      " i cann't vote\n"
     ]
    }
   ],
   "source": [
    "age=int(input(\"enter the age of the person: \"))\n",
    "if age>=18:\n",
    "    print(\"i can vote\")\n",
    "else:\n",
    "    print(\" i cann't vote\")"
   ]
  },
  {
   "cell_type": "markdown",
   "id": "d52b4368",
   "metadata": {},
   "source": [
    "Q23. Write a code that displays the sum of all the even numbers from the given list.\n",
    "\n",
    "numbers = [12, 75, 150, 180, 145, 525, 50]"
   ]
  },
  {
   "cell_type": "code",
   "execution_count": 42,
   "id": "c2457946",
   "metadata": {},
   "outputs": [
    {
     "name": "stdout",
     "output_type": "stream",
     "text": [
      "sum of the even numbers in a given list:  12\n",
      " after  adding 12\n",
      "sum of the even numbers in a given list:  162\n",
      " after  adding 162\n",
      "sum of the even numbers in a given list:  342\n",
      " after  adding 342\n",
      "sum of the even numbers in a given list:  392\n",
      " after  adding 392\n"
     ]
    }
   ],
   "source": [
    "numbers=[12, 75, 150, 180, 145, 525, 50]\n",
    "sum=0\n",
    "for i in numbers:\n",
    "    if i%2==0:\n",
    "        sum=sum+i\n",
    "        print(\"sum of the even numbers in a given list: \",sum)\n",
    "        print(f\" after  adding {sum}\")\n",
    "        "
   ]
  },
  {
   "cell_type": "markdown",
   "id": "118c9a57",
   "metadata": {},
   "source": [
    "Q24. Write a code to take 3 numbers as an input from the user and display the greatest no as output.\n",
    "\n",
    "     "
   ]
  },
  {
   "cell_type": "code",
   "execution_count": 63,
   "id": "82a3d018",
   "metadata": {},
   "outputs": [
    {
     "name": "stdout",
     "output_type": "stream",
     "text": [
      "856\n"
     ]
    }
   ],
   "source": [
    "a=[200,500,856]\n",
    "greater_number=0\n",
    "for i in range(len(a)):\n",
    "    if a[i]>greater_number:\n",
    "        greater_number=a[i]\n",
    "print(greater_number)"
   ]
  },
  {
   "cell_type": "markdown",
   "id": "be8c0c04",
   "metadata": {},
   "source": [
    "Q25. Write a program to display only those numbers from a list that satisfy the following conditions\n",
    "\n",
    "- The number must be divisible by five\n",
    "\n",
    "- If the number is greater than 150, then skip it and move to the next number\n",
    "\n",
    "- If the number is greater than 500, then stop the loop\n",
    "```\n",
    "numbers = [12, 75, 150, 180, 145, 525, 50]\n",
    "```"
   ]
  },
  {
   "cell_type": "code",
   "execution_count": 44,
   "id": "9a78ec4d",
   "metadata": {},
   "outputs": [
    {
     "name": "stdout",
     "output_type": "stream",
     "text": [
      "75\n",
      "150\n",
      "145\n",
      "50\n"
     ]
    }
   ],
   "source": [
    "numbers = [12, 75, 150, 180, 145, 525, 50,600,750,652,13,186]\n",
    "for ele in numbers:\n",
    "    if ele%5==0:\n",
    "        if ele>150:\n",
    "            continue\n",
    "            if ele>500:\n",
    "                break\n",
    "        print(ele)          \n",
    "        "
   ]
  },
  {
   "cell_type": "code",
   "execution_count": null,
   "id": "7bac48bb",
   "metadata": {},
   "outputs": [],
   "source": []
  }
 ],
 "metadata": {
  "kernelspec": {
   "display_name": "Python 3 (ipykernel)",
   "language": "python",
   "name": "python3"
  },
  "language_info": {
   "codemirror_mode": {
    "name": "ipython",
    "version": 3
   },
   "file_extension": ".py",
   "mimetype": "text/x-python",
   "name": "python",
   "nbconvert_exporter": "python",
   "pygments_lexer": "ipython3",
   "version": "3.9.7"
  }
 },
 "nbformat": 4,
 "nbformat_minor": 5
}
